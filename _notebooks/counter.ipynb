{
 "cells": [
  {
   "cell_type": "code",
   "execution_count": 11,
   "metadata": {},
   "outputs": [
    {
     "name": "stdout",
     "output_type": "stream",
     "text": [
      "0 -2.0                      \r"
     ]
    },
    {
     "ename": "KeyboardInterrupt",
     "evalue": "",
     "output_type": "error",
     "traceback": [
      "\u001b[0;31m---------------------------------------------------------------------------\u001b[0m",
      "\u001b[0;31mKeyboardInterrupt\u001b[0m                         Traceback (most recent call last)",
      "\u001b[1;32m/home/dreamerblock/L/_notebooks/counter.ipynb Cell 1\u001b[0m in \u001b[0;36m<cell line: 8>\u001b[0;34m()\u001b[0m\n\u001b[1;32m     <a href='vscode-notebook-cell://wsl%2Bubuntu/home/dreamerblock/L/_notebooks/counter.ipynb#W0sdnNjb2RlLXJlbW90ZQ%3D%3D?line=10'>11</a>\u001b[0m dismin \u001b[39m=\u001b[39m mins \u001b[39m-\u001b[39m \u001b[39mint\u001b[39m(mins\u001b[39m/\u001b[39m\u001b[39m60\u001b[39m) \u001b[39m*\u001b[39m \u001b[39m60\u001b[39m\n\u001b[1;32m     <a href='vscode-notebook-cell://wsl%2Bubuntu/home/dreamerblock/L/_notebooks/counter.ipynb#W0sdnNjb2RlLXJlbW90ZQ%3D%3D?line=11'>12</a>\u001b[0m disec \u001b[39m=\u001b[39m sec \u001b[39m-\u001b[39m \u001b[39mint\u001b[39m(sec\u001b[39m/\u001b[39m\u001b[39m60\u001b[39m) \u001b[39m*\u001b[39m \u001b[39m60\u001b[39m\n\u001b[0;32m---> <a href='vscode-notebook-cell://wsl%2Bubuntu/home/dreamerblock/L/_notebooks/counter.ipynb#W0sdnNjb2RlLXJlbW90ZQ%3D%3D?line=12'>13</a>\u001b[0m time\u001b[39m.\u001b[39;49msleep(\u001b[39m1\u001b[39;49m)\n\u001b[1;32m     <a href='vscode-notebook-cell://wsl%2Bubuntu/home/dreamerblock/L/_notebooks/counter.ipynb#W0sdnNjb2RlLXJlbW90ZQ%3D%3D?line=13'>14</a>\u001b[0m sec \u001b[39m=\u001b[39m sec \u001b[39m-\u001b[39m \u001b[39m1\u001b[39m\n\u001b[1;32m     <a href='vscode-notebook-cell://wsl%2Bubuntu/home/dreamerblock/L/_notebooks/counter.ipynb#W0sdnNjb2RlLXJlbW90ZQ%3D%3D?line=14'>15</a>\u001b[0m \u001b[39mprint\u001b[39m(dismin, disec,\u001b[39m\"\u001b[39m\u001b[39m                     \u001b[39m\u001b[39m\"\u001b[39m, end \u001b[39m=\u001b[39m \u001b[39m'\u001b[39m\u001b[39m\\r\u001b[39;00m\u001b[39m'\u001b[39m)\n",
      "\u001b[0;31mKeyboardInterrupt\u001b[0m: "
     ]
    }
   ],
   "source": [
    "import time\n",
    "\n",
    "\n",
    "mins = 0\n",
    "on = True\n",
    "sec = mins * 60\n",
    "\n",
    "while on == True:\n",
    "    mins = sec/60\n",
    "    mins = int(mins)\n",
    "    dismin = mins - int(mins/60) * 60\n",
    "    disec = sec - int(sec/60) * 60\n",
    "    time.sleep(1)\n",
    "    sec = sec - 1\n",
    "    print(dismin, disec,\"                     \", end = '\\r')\n"
   ]
  }
 ],
 "metadata": {
  "kernelspec": {
   "display_name": "Python 3.9.12 ('base')",
   "language": "python",
   "name": "python3"
  },
  "language_info": {
   "codemirror_mode": {
    "name": "ipython",
    "version": 3
   },
   "file_extension": ".py",
   "mimetype": "text/x-python",
   "name": "python",
   "nbconvert_exporter": "python",
   "pygments_lexer": "ipython3",
   "version": "3.9.12"
  },
  "orig_nbformat": 4,
  "vscode": {
   "interpreter": {
    "hash": "7db10fc21d67df096b214a5560f6e414eb656c6bf6780c69fceea598ce9e7a7f"
   }
  }
 },
 "nbformat": 4,
 "nbformat_minor": 2
}
