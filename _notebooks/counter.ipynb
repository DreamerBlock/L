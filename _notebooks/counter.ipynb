{
 "cells": [
  {
   "cell_type": "code",
   "execution_count": 1,
   "metadata": {},
   "outputs": [],
   "source": [
    "import time\n",
    "\n",
    "\n",
    "mins = 1\n",
    "on = True\n",
    "sec = mins * 60\n",
    "\n",
    "while on == True:\n",
    "    mins = sec/60\n",
    "    mins = int(mins)\n",
    "    dismin = mins - int(mins/60) * 60\n",
    "    disec = sec - int(sec/60) * 60\n",
    "    time.sleep(1)\n",
    "    sec = sec - 1\n",
    "    print(dismin, disec,\"                     \", end = '\\r')\n"
   ]
  }
 ],
 "metadata": {
  "kernelspec": {
   "display_name": "Python 3.9.12 ('base')",
   "language": "python",
   "name": "python3"
  },
  "language_info": {
   "codemirror_mode": {
    "name": "ipython",
    "version": 3
   },
   "file_extension": ".py",
   "mimetype": "text/x-python",
   "name": "python",
   "nbconvert_exporter": "python",
   "pygments_lexer": "ipython3",
   "version": "3.9.12"
  },
  "orig_nbformat": 4,
  "vscode": {
   "interpreter": {
    "hash": "7db10fc21d67df096b214a5560f6e414eb656c6bf6780c69fceea598ce9e7a7f"
   }
  }
 },
 "nbformat": 4,
 "nbformat_minor": 2
}
