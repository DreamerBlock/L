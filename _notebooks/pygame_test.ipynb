{
 "cells": [
  {
   "cell_type": "code",
   "execution_count": 13,
   "metadata": {},
   "outputs": [
    {
     "name": "stderr",
     "output_type": "stream",
     "text": [
      "ALSA lib confmisc.c:767:(parse_card) cannot find card '0'\n",
      "ALSA lib conf.c:4732:(_snd_config_evaluate) function snd_func_card_driver returned error: No such file or directory\n",
      "ALSA lib confmisc.c:392:(snd_func_concat) error evaluating strings\n",
      "ALSA lib conf.c:4732:(_snd_config_evaluate) function snd_func_concat returned error: No such file or directory\n",
      "ALSA lib confmisc.c:1246:(snd_func_refer) error evaluating name\n",
      "ALSA lib conf.c:4732:(_snd_config_evaluate) function snd_func_refer returned error: No such file or directory\n",
      "ALSA lib conf.c:5220:(snd_config_expand) Evaluate error: No such file or directory\n",
      "ALSA lib pcm.c:2642:(snd_pcm_open_noupdate) Unknown PCM default\n"
     ]
    },
    {
     "name": "stdout",
     "output_type": "stream",
     "text": [
      "\u001b[m\u001b[m\u001b[37m\u001b[40m\u001b[9;32H\u001b[34m\u001b[40m:t\u001b[30m\u001b[44mt:\u001b[34m\u001b[44m\u001b[1m@%\u001b[m\u001b[34m\u001b[44m@8t\u001b[m\u001b[34m\u001b[44m\u001b[1m8\u001b[m\u001b[34m\u001b[44mX\u001b[m\u001b[34m\u001b[44m\u001b[1mX8\u001b[m\u001b[30m\u001b[44m:;\u001b[34m\u001b[40mS;\u001b[10;30H@\u001b[34m\u001b[44m\u001b[1m8\u001b[m\u001b[34m\u001b[44mt t ; t ; t ; t t8\u001b[m\u001b[30m\u001b[44m8\u001b[11;29H\u001b[34m\u001b[44m\u001b[1m;\u001b[m\u001b[34m\u001b[44m S.% S.% S.% S.% S.% \u001b[m\u001b[34m\u001b[44m\u001b[1mS\u001b[m\u001b[34m\u001b[40m;\u001b[12;28HX\u001b[34m\u001b[44m : ; : ; : ; : ; : ; : \u001b[m\u001b[30m\u001b[44m8\u001b[13;28H\u001b[34m\u001b[40m:\u001b[34m\u001b[44m\u001b[1m;\u001b[m\u001b[34m\u001b[44m.% X.% X.% X.% X.% X.\u001b[m\u001b[34m\u001b[44m\u001b[1m@\u001b[m\u001b[34m\u001b[40mt\u001b[14;30H8\u001b[34m\u001b[44m8; t ; t ; t ; t ;@\u001b[m\u001b[30m\u001b[44m8\u001b[15;32H\u001b[34m\u001b[40m;@\u001b[30m\u001b[44m\u001b[1m;\u001b[m\u001b[30m\u001b[44m.\u001b[34m\u001b[44m\u001b[1m88\u001b[m\u001b[34m\u001b[44mt8;@t\u001b[m\u001b[34m\u001b[44m\u001b[1m@8:\u001b[30m\u001b[44m;\u001b[m\u001b[34m\u001b[40mXt\u001b[H\u001b[m\u001b[m\u001b[37m\u001b[40m2m\u001b[40m;\u001b[30m\u001b[40m\u001b[1m@"
     ]
    },
    {
     "ename": "KeyboardInterrupt",
     "evalue": "",
     "output_type": "error",
     "traceback": [
      "\u001b[0;31m---------------------------------------------------------------------------\u001b[0m",
      "\u001b[0;31mKeyboardInterrupt\u001b[0m                         Traceback (most recent call last)",
      "\u001b[1;32m/home/dreamerblock/L/_notebooks/pygame_test.ipynb Cell 1\u001b[0m in \u001b[0;36m<cell line: 5>\u001b[0;34m()\u001b[0m\n\u001b[1;32m      <a href='vscode-notebook-cell://wsl%2Bubuntu/home/dreamerblock/L/_notebooks/pygame_test.ipynb#W0sdnNjb2RlLXJlbW90ZQ%3D%3D?line=4'>5</a>\u001b[0m \u001b[39mwhile\u001b[39;00m running:\n\u001b[1;32m      <a href='vscode-notebook-cell://wsl%2Bubuntu/home/dreamerblock/L/_notebooks/pygame_test.ipynb#W0sdnNjb2RlLXJlbW90ZQ%3D%3D?line=5'>6</a>\u001b[0m   pygame\u001b[39m.\u001b[39mdraw\u001b[39m.\u001b[39mcircle(screen, (\u001b[39m0\u001b[39m, \u001b[39m0\u001b[39m, \u001b[39m255\u001b[39m), (\u001b[39m250\u001b[39m, \u001b[39m250\u001b[39m), \u001b[39m75\u001b[39m)\n\u001b[0;32m----> <a href='vscode-notebook-cell://wsl%2Bubuntu/home/dreamerblock/L/_notebooks/pygame_test.ipynb#W0sdnNjb2RlLXJlbW90ZQ%3D%3D?line=6'>7</a>\u001b[0m   pygame\u001b[39m.\u001b[39;49mdisplay\u001b[39m.\u001b[39;49mflip()\n\u001b[1;32m      <a href='vscode-notebook-cell://wsl%2Bubuntu/home/dreamerblock/L/_notebooks/pygame_test.ipynb#W0sdnNjb2RlLXJlbW90ZQ%3D%3D?line=7'>8</a>\u001b[0m   \u001b[39mfor\u001b[39;00m event \u001b[39min\u001b[39;00m pygame\u001b[39m.\u001b[39mevent\u001b[39m.\u001b[39mget():\n\u001b[1;32m      <a href='vscode-notebook-cell://wsl%2Bubuntu/home/dreamerblock/L/_notebooks/pygame_test.ipynb#W0sdnNjb2RlLXJlbW90ZQ%3D%3D?line=8'>9</a>\u001b[0m         \u001b[39mif\u001b[39;00m event\u001b[39m.\u001b[39mtype \u001b[39m==\u001b[39m pygame\u001b[39m.\u001b[39mQUIT:\n",
      "\u001b[0;31mKeyboardInterrupt\u001b[0m: "
     ]
    }
   ],
   "source": [
    "import pygame\n",
    "pygame.init()\n",
    "screen = pygame.display.set_mode((500, 500))\n",
    "running = True\n",
    "while running:\n",
    "  pygame.draw.circle(screen, (0, 0, 255), (250, 250), 75)\n",
    "  pygame.display.flip()\n",
    "  for event in pygame.event.get():\n",
    "        if event.type == pygame.QUIT:\n",
    "            running = False\n",
    "screen.fill((255, 255, 255))\n",
    "\n",
    "pygame.quit()"
   ]
  }
 ],
 "metadata": {
  "kernelspec": {
   "display_name": "Python 3.8.10 64-bit",
   "language": "python",
   "name": "python3"
  },
  "language_info": {
   "codemirror_mode": {
    "name": "ipython",
    "version": 3
   },
   "file_extension": ".py",
   "mimetype": "text/x-python",
   "name": "python",
   "nbconvert_exporter": "python",
   "pygments_lexer": "ipython3",
   "version": "3.8.10"
  },
  "orig_nbformat": 4,
  "vscode": {
   "interpreter": {
    "hash": "916dbcbb3f70747c44a77c7bcd40155683ae19c65e1c03b4aa3499c5328201f1"
   }
  }
 },
 "nbformat": 4,
 "nbformat_minor": 2
}
