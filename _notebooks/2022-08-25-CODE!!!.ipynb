{
 "cells": [
  {
   "cell_type": "markdown",
   "metadata": {},
   "source": [
    "---\n",
    "title: Code!\n",
    "layout: post\n",
    "description: question bot is here\n",
    "---"
   ]
  },
  {
   "cell_type": "code",
   "execution_count": 32,
   "metadata": {},
   "outputs": [
    {
     "name": "stdout",
     "output_type": "stream",
     "text": [
      "Greatings Human, you are running /bin/python3 This is me. Today I will be conducting a survey on you to see if you are fit for human society.\n",
      "You will be asked 3 questions.Please answer all questions honistally in order for your resolt to be accurate\n",
      "Question: Shall we begin?\n",
      "Question: Do you like pinaple on piza?\n",
      " is incorrect!\n",
      "Question: What command is used to evaluate correct or incorrect response in this example?\n",
      " is incorrect!\n",
      "Question: Each 'if' command contains an '_________' to determine a true or false condition?\n",
      " is incorrect!\n",
      "dreamerblock you are 0/3\n",
      "0.0%\n",
      "Your not fit to be let into human society please retake your courses\n"
     ]
    }
   ],
   "source": [
    "import getpass, sys\n",
    "\n",
    "def question_with_response(prompt):\n",
    "    print(\"Question: \" + prompt)\n",
    "    msg = input()\n",
    "    return msg\n",
    "\n",
    "questions = 3\n",
    "correct = 0\n",
    "\n",
    "print('Greatings Human, you are' + \" running \" + sys.executable + \" This is me. Today I will be conducting a survey on you to see if you are fit for human society.\")\n",
    "print(\"You will be asked \" + str(questions) + \" questions.\" + \"Please answer all questions honistally in order for your resolt to be accurate\")\n",
    "rsp = question_with_response(\"Shall we begin?\")\n",
    "\n",
    "rsp = question_with_response(\"Do you like pinaple on piza?\")\n",
    "if rsp == \"no\":\n",
    "    print(rsp + \" is correct!\")\n",
    "    correct += 1\n",
    "else:\n",
    "    print(rsp + \" is incorrect!\")\n",
    "\n",
    "rsp = question_with_response(\"Are videogames good?\")\n",
    "if rsp == \"yes\":\n",
    "    print(rsp + \" is correct!\")\n",
    "    correct += 1\n",
    "else:\n",
    "    print(rsp + \" is incorrect!\")\n",
    "\n",
    "rsp = question_with_response(\"What does knowlage is power mean?\")\n",
    "if rsp == \"The bigger the book the more the damage\":\n",
    "    print(rsp + \" is correct!\")\n",
    "    correct += 1\n",
    "else:\n",
    "    print(rsp + \" is incorrect!\")\n",
    "\n",
    "print(getpass.getuser() + \" you are \" + str(correct) +\"/\" + str(questions))\n",
    "per = (correct / questions * 100)\n",
    "print(str(per) + \"%\")\n",
    "if per < 70:\n",
    "    print(\"Your not fit to be let into human society please retake your courses\")\n",
    "else:\n",
    "    print(\"O great human how though hast achived thy's greatest dream! Join society and be a great contributaion to humanity!\")"
   ]
  }
 ],
 "metadata": {
  "kernelspec": {
   "display_name": "Python 3.8.10 64-bit",
   "language": "python",
   "name": "python3"
  },
  "language_info": {
   "codemirror_mode": {
    "name": "ipython",
    "version": 3
   },
   "file_extension": ".py",
   "mimetype": "text/x-python",
   "name": "python",
   "nbconvert_exporter": "python",
   "pygments_lexer": "ipython3",
   "version": "3.8.10"
  },
  "orig_nbformat": 4,
  "vscode": {
   "interpreter": {
    "hash": "916dbcbb3f70747c44a77c7bcd40155683ae19c65e1c03b4aa3499c5328201f1"
   }
  }
 },
 "nbformat": 4,
 "nbformat_minor": 2
}
