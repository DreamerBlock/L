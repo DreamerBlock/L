{
 "cells": [
  {
   "cell_type": "markdown",
   "metadata": {},
   "source": [
    "# hw algs\n",
    "> Defining algerithums hw\n",
    "\n",
    "- title: Notes6\n",
    "- toc: true\n",
    "- badges: false\n",
    "- categories: [lessons]"
   ]
  },
  {
   "cell_type": "markdown",
   "metadata": {},
   "source": [
    "Your TASK:\n",
    "Create a flowchart that can be used to write an algorithm that calculates a player's score after a turn\n",
    "\n",
    "NOTE: Don't forget the syntax for Flowcharts! (each shape represents an action)\n",
    "\n",
    "Try to implement selection and/or iteration in your algorithm\n",
    "\n",
    "Please do this using Google Drawing. It can be found in your Google Drive if you click New > More > Google Drawings\n",
    "\n",
    "Write the working algorithm in Python\n",
    "\n",
    "Make sure to initialize / define any variables you may need\n",
    "\n",
    "Add comments to your code!\n",
    "\n",
    "How to submit:\n",
    "Make a shareable link to your Flowchart with commenting access through Google Drive's \"Share\" feature\n",
    "\n",
    "Make a comment with the link at the top of the code block that holds your algorithm (use # for comments in Python)\n",
    "\n",
    "Submit a link to your algorithm (with the commented link to Flowchart) in the comment/issue found on the schedule\n",
    "\n",
    "Grading\n",
    "DUE FRIDAY 12/09 BY 5:00 PM\n",
    "\n",
    "LATE PENALTY: -0.1\n",
    "\n",
    "You will be graded based on:\n",
    "\n",
    "how functional your algorithm is\n",
    "\n",
    "how well your Flowchart is organized\n",
    "\n",
    "If something comes up, feel free to DM us on Slack"
   ]
  },
  {
   "cell_type": "code",
   "execution_count": null,
   "metadata": {},
   "outputs": [],
   "source": []
  }
 ],
 "metadata": {
  "kernelspec": {
   "display_name": "Python 3.9.12 ('base')",
   "language": "python",
   "name": "python3"
  },
  "language_info": {
   "name": "python",
   "version": "3.9.12"
  },
  "orig_nbformat": 4,
  "vscode": {
   "interpreter": {
    "hash": "7db10fc21d67df096b214a5560f6e414eb656c6bf6780c69fceea598ce9e7a7f"
   }
  }
 },
 "nbformat": 4,
 "nbformat_minor": 2
}
