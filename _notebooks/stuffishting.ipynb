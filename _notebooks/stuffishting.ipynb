{
 "cells": [
  {
   "cell_type": "code",
   "execution_count": null,
   "metadata": {},
   "outputs": [],
   "source": [
    "words = [\"alfa\", \"bravo\", \"charlie\", \"delta\", \"echo\", \"foxtrot\", \"golf\", \"hotel\", \"india\", \"juliett\", \"kilo\",\n",
    "\"lima\", \"mike\", \"november\", \"oscar\", \"papa\", \"quebec\", \"romeo\", \"sierra\", \"tango\", \"uniform\", \"victor\", \"whiskey\", \"xray\", \"yankee\", \"zulu\"]\n",
    "choices = []\n",
    "picking = True\n",
    "print(\"Input the word you want to be tuned into the NATO phonetic\")\n",
    "while picking:\n",
    "    inp = input().lower()\n",
    "    for k in inp:\n",
    "        for i in words:\n",
    "            if i[0] == k:\n",
    "                choices.append(i)\n",
    "\n",
    "    l = 0\n",
    "    print(\"Would you like to end? yes/no\")\n",
    "    ooo = input().lower()\n",
    "    if ooo == \"yes\":\n",
    "        picking = False\n",
    "    else:\n",
    "        print(\"Make your selection.\")\n",
    "\n",
    "print(choices)\n"
   ]
  },
  {
   "cell_type": "code",
   "execution_count": null,
   "metadata": {},
   "outputs": [],
   "source": [
    "date = \"2005/09/13\"\n",
    "keyboard = [[\"`\", 1, 2, 3, 4, 5, 6, 7, 8, 9, 0, \"-\", \"=\"],\n",
    "            [\"Q\", \"W\", \"E\", \"R\", \"T\", \"Y\", \"U\", \"I\", \"O\", \"P\", \"[\", \"]\"],\n",
    "            [\"A\", \"S\", \"D\", \"F\", \"G\", \"H\", \"J\", \"K\", \"L\", \";\", \"'\"],\n",
    "            [\"Z\", \"X\", \"C\", \"V\", \"B\", \"N\", \"M\", \",\", \".\", \"/\"]]\n",
    "\n",
    "def print_matrix2(matrix):\n",
    "        for row in matrix:  # Iterates through each \"row\" of matrix. Row is a dummy variable, it could technically be anything. It iterates through each value of matrix and each value is it's own list. in this syntax the list is stored in \"row\".\n",
    "            for col in row:  # Iterates through each value in row. Again col, column, is a dummy variable. Each value in row is stored in col.\n",
    "                if date.find(str(col)) > 0:\n",
    "                    print(col, end=\" \") # Same as 1\n",
    "                else:\n",
    "                    print(\" \", end=\" \")\n",
    "            print() # Same as 1\n",
    "print_matrix2(keyboard)"
   ]
  }
 ],
 "metadata": {
  "kernelspec": {
   "display_name": "Python 3.9.12 ('base')",
   "language": "python",
   "name": "python3"
  },
  "language_info": {
   "name": "python",
   "version": "3.9.12"
  },
  "orig_nbformat": 4,
  "vscode": {
   "interpreter": {
    "hash": "7db10fc21d67df096b214a5560f6e414eb656c6bf6780c69fceea598ce9e7a7f"
   }
  }
 },
 "nbformat": 4,
 "nbformat_minor": 2
}
