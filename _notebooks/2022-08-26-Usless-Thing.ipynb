{
 "cells": [
  {
   "cell_type": "code",
   "execution_count": 35,
   "metadata": {},
   "outputs": [
    {
     "name": "stdout",
     "output_type": "stream",
     "text": [
      "what\n",
      "Ever\n",
      "Who\n",
      "Asked\n"
     ]
    }
   ],
   "source": [
    "import getpass, sys\n",
    "\n",
    "def ask(prompt):\n",
    "    print(\"what\")\n",
    "    msg = input()\n",
    "    return msg\n",
    "\n",
    "rsm = ask(\"l\")\n",
    "if rsm == \"k\":\n",
    "    print(getpass.getuser() + \" you lazy bum\")\n",
    "print(\"Ever\")\n",
    "\n",
    "def ask(prompt):\n",
    "    print(\"Who\")\n",
    "    msg = input()\n",
    "    return msg\n",
    "rsm = ask(\"l\")\n",
    "print(\"Asked\")"
   ]
  }
 ],
 "metadata": {
  "kernelspec": {
   "display_name": "Python 3.8.10 64-bit",
   "language": "python",
   "name": "python3"
  },
  "language_info": {
   "codemirror_mode": {
    "name": "ipython",
    "version": 3
   },
   "file_extension": ".py",
   "mimetype": "text/x-python",
   "name": "python",
   "nbconvert_exporter": "python",
   "pygments_lexer": "ipython3",
   "version": "3.8.10"
  },
  "orig_nbformat": 4,
  "vscode": {
   "interpreter": {
    "hash": "916dbcbb3f70747c44a77c7bcd40155683ae19c65e1c03b4aa3499c5328201f1"
   }
  }
 },
 "nbformat": 4,
 "nbformat_minor": 2
}
