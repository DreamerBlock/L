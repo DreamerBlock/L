{
 "cells": [
  {
   "cell_type": "markdown",
   "metadata": {},
   "source": [
    "---\n",
    "title: Coin Fliper\n",
    "layout: post\n",
    "description: flip a coin and test your luck\n",
    "---"
   ]
  },
  {
   "cell_type": "code",
   "execution_count": 2,
   "metadata": {},
   "outputs": [
    {
     "name": "stdout",
     "output_type": "stream",
     "text": [
      "How many coins would you like to flip?\n",
      "Heads or Tails\n",
      "h\n",
      "Your Flip Is: tails\n",
      "You Failed\n",
      "0.0\n",
      "Heads or Tails\n",
      "h\n",
      "Your Flip Is: tails\n",
      "You Failed\n",
      "0.0\n",
      "Heads or Tails\n",
      "h\n",
      "Your Flip Is: tails\n",
      "You Failed\n",
      "0.0\n"
     ]
    }
   ],
   "source": [
    "from os import system\n",
    "import random, getpass, sys\n",
    "\n",
    "def ask():\n",
    "    msg = input()\n",
    "    return msg\n",
    "\n",
    "tails = 0\n",
    "heads = 0\n",
    "score = 0\n",
    "\n",
    "def coin_check():\n",
    "    if number == guess:\n",
    "        print(\"You guessed right\")\n",
    "        return 1\n",
    "    else:\n",
    "        print(\"You Failed\")\n",
    "        return 0\n",
    "\n",
    "\n",
    "def Guess_check():\n",
    "    print(\"Heads or Tails\")\n",
    "    rsm = ask()\n",
    "\n",
    "    if (rsm == (\"h\") or rsm == (\"Heads\") or rsm == (\"heads\") or rsm == (\"head\") or rsm == (\"Head\") or rsm == (\"H\")):\n",
    "        print(\"h\")\n",
    "        return 1\n",
    "    elif (rsm == (\"t\") or rsm == (\"Tails\") or rsm == (\"tails\") or rsm == (\"Tail\") or rsm == (\"tail\") or rsm == (\"T\")):\n",
    "        print(\"t\")\n",
    "        return 0\n",
    "    else:\n",
    "        print(\"Thats not a valid input\")\n",
    "    \n",
    "\n",
    "def Side_check():\n",
    "    if number == 0:\n",
    "        #If = 0 tails\n",
    "        print(\"Your Flip Is: tails\")\n",
    "        return 10\n",
    "    else:\n",
    "        #If = 1 heads\n",
    "        print(\"Your Flip Is: heads\")\n",
    "        return 20\n",
    "\n",
    "def Results():\n",
    "    if guess == 1:\n",
    "        asw = (\"heads\")\n",
    "    else:\n",
    "        asw = (\"tails\")\n",
    "\n",
    "    luck = luck_calc()\n",
    "    print(\"Your guess was:\",asw)\n",
    "    print(\"Head Flips:\",heads)\n",
    "    print(\"Tail Flips:\",tails)\n",
    "    print(\"Number of right guesses:\",score)\n",
    "    print(\"Your luck is:\",luck,\"%\")\n",
    "\n",
    "def luck_calc():\n",
    "    return (score/(tails + heads)) * 100\n",
    "    \n",
    "\n",
    "print(\"How many coins would you like to flip?\")\n",
    "flips = ask()\n",
    "flips = int(flips)\n",
    "\n",
    "for number in range(flips):\n",
    "\n",
    "    number = random.randrange(2)\n",
    "    guess = Guess_check()\n",
    "\n",
    "    if Side_check() == 10:\n",
    "        tails += 1\n",
    "    else:\n",
    "        heads += 1\n",
    "\n",
    "    if coin_check() == 1:\n",
    "        score += 1\n",
    "    print(luck_calc()\n",
    "    \n",
    "\n",
    "    \n"
   ]
  }
 ],
 "metadata": {
  "kernelspec": {
   "display_name": "Python 3.8.10 64-bit",
   "language": "python",
   "name": "python3"
  },
  "language_info": {
   "codemirror_mode": {
    "name": "ipython",
    "version": 3
   },
   "file_extension": ".py",
   "mimetype": "text/x-python",
   "name": "python",
   "nbconvert_exporter": "python",
   "pygments_lexer": "ipython3",
   "version": "3.8.10"
  },
  "orig_nbformat": 4,
  "vscode": {
   "interpreter": {
    "hash": "916dbcbb3f70747c44a77c7bcd40155683ae19c65e1c03b4aa3499c5328201f1"
   }
  }
 },
 "nbformat": 4,
 "nbformat_minor": 2
}
