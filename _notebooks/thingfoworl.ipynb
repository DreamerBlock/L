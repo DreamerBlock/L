{
 "cells": [
  {
   "cell_type": "code",
   "execution_count": null,
   "metadata": {},
   "outputs": [],
   "source": [
    "grade1 = 90\n",
    "grade2 = 65\n",
    "grade3 = 60\n",
    "grade4 = 75\n",
    "grade5 = 95"
   ]
  },
  {
   "cell_type": "code",
   "execution_count": 8,
   "metadata": {},
   "outputs": [
    {
     "ename": "SyntaxError",
     "evalue": "invalid syntax (698063898.py, line 6)",
     "output_type": "error",
     "traceback": [
      "\u001b[0;36m  Input \u001b[0;32mIn [8]\u001b[0;36m\u001b[0m\n\u001b[0;31m    print(\"24 > 8:\", 24 > 8 not 24 > 8)\u001b[0m\n\u001b[0m                                ^\u001b[0m\n\u001b[0;31mSyntaxError\u001b[0m\u001b[0;31m:\u001b[0m invalid syntax\n"
     ]
    }
   ],
   "source": [
    "print(\"1 > 2 or 5 < 12:\", 1 > 2 or 5 < 12)\n",
    "# Output TRUE  using OR ^\n",
    "\n",
    "\n",
    "# Output FALSE using NOT\n",
    "print(\"24 > 8:\", 24 > 8 not 24 > 8)\n",
    "\n",
    "# Output FALSE using AND\n",
    "print(\"10 > 20:\", 10 > 20 and 10 > 20)"
   ]
  },
  {
   "cell_type": "code",
   "execution_count": 9,
   "metadata": {},
   "outputs": [
    {
     "name": "stdout",
     "output_type": "stream",
     "text": [
      "200\n"
     ]
    }
   ],
   "source": [
    "num1 = 50\n",
    "num2 = 150\n",
    "sum = num1 + num2\n",
    "print(sum)"
   ]
  },
  {
   "cell_type": "markdown",
   "metadata": {},
   "source": [
    "Write a program that fits these conditions using nested conditionals:\n",
    "If a person has at least 8 hours, they are experienced\n",
    "If a person is experienced their salary is 90k, if they have ten hours or above their salary 150k\n",
    "If a person is inexperienced their salary is always 50k\n",
    "print the salary of the person at the end and whether they are experienced or not"
   ]
  },
  {
   "cell_type": "code",
   "execution_count": 40,
   "metadata": {},
   "outputs": [
    {
     "name": "stdout",
     "output_type": "stream",
     "text": [
      "50 k\n",
      "90 k\n",
      "150 k\n",
      "150 k\n",
      "50 k\n",
      "50 k\n",
      "90 k\n",
      "90 k\n",
      "50 k\n",
      "50 k\n",
      "90 k\n",
      "90 k\n",
      "50 k\n",
      "50 k\n",
      "50 k\n",
      "50 k\n",
      "50 k\n",
      "90 k\n",
      "50 k\n",
      "50 k\n",
      "50 k\n",
      "150 k\n",
      "150 k\n",
      "50 k\n",
      "50 k\n",
      "150 k\n",
      "50 k\n",
      "50 k\n",
      "90 k\n",
      "50 k\n",
      "150 k\n",
      "50 k\n",
      "50 k\n",
      "50 k\n",
      "50 k\n",
      "50 k\n",
      "150 k\n",
      "50 k\n",
      "50 k\n",
      "150 k\n",
      "150 k\n",
      "90 k\n",
      "50 k\n",
      "50 k\n",
      "50 k\n",
      "90 k\n",
      "50 k\n",
      "90 k\n",
      "50 k\n",
      "150 k\n",
      "150 k\n",
      "150 k\n",
      "50 k\n",
      "50 k\n",
      "90 k\n",
      "150 k\n",
      "50 k\n",
      "90 k\n",
      "150 k\n",
      "50 k\n",
      "50 k\n",
      "50 k\n",
      "50 k\n",
      "50 k\n",
      "90 k\n",
      "90 k\n",
      "50 k\n",
      "90 k\n",
      "90 k\n",
      "90 k\n",
      "50 k\n",
      "50 k\n",
      "50 k\n",
      "50 k\n",
      "50 k\n",
      "50 k\n",
      "150 k\n",
      "90 k\n",
      "90 k\n",
      "50 k\n",
      "50 k\n",
      "50 k\n",
      "50 k\n",
      "50 k\n",
      "50 k\n",
      "50 k\n",
      "50 k\n",
      "50 k\n",
      "50 k\n",
      "50 k\n",
      "50 k\n",
      "90 k\n",
      "150 k\n",
      "50 k\n",
      "50 k\n",
      "50 k\n",
      "50 k\n",
      "150 k\n",
      "50 k\n",
      "50 k\n",
      "74.5\n"
     ]
    }
   ],
   "source": [
    "import random\n",
    "\n",
    "salary = 0\n",
    "ran = 0\n",
    "total = 0\n",
    "av = 0\n",
    "def pleb():\n",
    "    global ran\n",
    "    global salary\n",
    "    xp = random.randrange(11)\n",
    "    if xp >= 8 and xp < 10:\n",
    "        salary = 90\n",
    "    elif xp >= 10:\n",
    "        salary = 150\n",
    "    else:\n",
    "        salary = 50\n",
    "    print(salary,\"k\")\n",
    "    \n",
    "    ran = ran + 1\n",
    "\n",
    "\n",
    "runs = 100\n",
    "while ran < runs:\n",
    "    \n",
    "    total = total + salary\n",
    "    pleb()\n",
    "av = total / runs\n",
    "print(av)\n"
   ]
  }
 ],
 "metadata": {
  "kernelspec": {
   "display_name": "Python 3.9.12 ('base')",
   "language": "python",
   "name": "python3"
  },
  "language_info": {
   "codemirror_mode": {
    "name": "ipython",
    "version": 3
   },
   "file_extension": ".py",
   "mimetype": "text/x-python",
   "name": "python",
   "nbconvert_exporter": "python",
   "pygments_lexer": "ipython3",
   "version": "3.9.12"
  },
  "orig_nbformat": 4,
  "vscode": {
   "interpreter": {
    "hash": "7db10fc21d67df096b214a5560f6e414eb656c6bf6780c69fceea598ce9e7a7f"
   }
  }
 },
 "nbformat": 4,
 "nbformat_minor": 2
}
