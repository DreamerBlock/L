import time


mins = 0
on = True
sec = mins * 60

while on == True:
    mins = sec/60
    mins = int(mins)
    dismin = mins - int(mins/60) * 60
    disec = sec - int(sec/60) * 60
    time.sleep(1)
    sec = sec - 1
    print(dismin, disec,"                     ", end = '\r')
