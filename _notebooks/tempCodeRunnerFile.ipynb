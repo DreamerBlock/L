import random, getpass, sys, time
from IPython.display import clear_output
def ask():
    msg = input()
    return msg

global enemy
enemy = True
global enemy_alive
enemy_alive = True
global enemy_name
enemy_name = "error"
global lower_dm
lower_dm = 0
global uper_dm
uper_dm = 1
global enemy_EXP
enemy_EXP = 0
global turn_count
turn_count = 0
global users_turn
users_turn = True
global Dead
Dead = False
global y
global x
x = 0
y = 0
#player stats
global player_defence
#Make decimal
player_defence = 0
global mana_cap
mana_cap = 0
global health_cap
health_cap = 6
global health
health = 6
global EXP
EXP = 0
global Lv
Lv = 0
global damage
damage = 0
global spaces
spaces = " " * 20
global player_crit
player_crit = False
global enemy_crit
enemy_crit = False
global print_crit
print_crit = False

#Harpy1's starting stats
global set_health
set_health = True
global harpy1
harpy1 = True
global harpy_health
harpy1_health = 5
global harpy1_alive
harpy1_alive = True
#Crab1 varables
#If alive v
global crab1_alive
crab1_alive = True
#enemy health v
global crab1_health
crab1_health = 4
#Sets the players attacks at the start of the game
global mana
mana = 0
global controls
controls = []
controls.append({
    "Movement": "up, down, left, right, north, south, east, west",
    "Actions": "move, stats, location, comands, actions"
})
starter_town_150 = ("""
.......  ......''':;','':c,,:cdOXWMMMMMMMMMMMMMMMMMMMMMMMMMMMMMMMMMMMMMMMMMMMMMMMMMMMMMMMMMMMMMMMMMMMMMMMMMMMMMMMMMMMMMMMMMMMMMMMMMMMMWNNNNNWWWX000Okk
..  .....'.....';;;::;'.,::coxxONMMMMMMMMMMMMMMMMMMMMMMMMMMMMMMMMMMMMMMMMMMMMMMMMMMMMMMMMMMMMMMMMMMMMMMMMMMMMMMMMMMMMMMMMMMMMMMMMMMMMMWNWNXXNXKOO0OO00
.. ........'....'...;:,.';codkO0XMMMMMMMMMMMMMMMMMMMMMMMMMMMMMMMMMMMMMMMMMMMMMMMMMMMMMMMMMMMMMMMMMMMMMMMMMMMMMMMMMMMMMMMMMMMMMMMMMMMMWNNNXXNX0OOKKOkO0
...... .....'.....'..''..';:lk0KNMMMMMMMMMMMMMMMMMMMMMMMMMMMMMMMMMMMMMMMMMMMMMMMMMMMMMMMMMMMMMMMMMMMMMMMMMMMMMMMMMMMMMMMMMMMMMMMMMMMWWXKKKKKK0OkkOOOOk
  . .....','....',,,;'.''',:lx0NWWMMMMMMMMMMMMMMMMMMMMMMMMMMMMMMMMMMMMMMMMMMMMMMMMMMMMMMMMMMMMMMMMMMMMMMMMMMMMMMMMMMMMMMMMMMMMMMMMMMMWNXKOO0KK0OOOkOOx
  ...''''.'.....';:;;,'''';:okkOKXNMWMWWWWMMMMMMMMMMMMMMMMMMMMMMMMMMMMMMMMMMMMMMMMMMMMMMMMMMMMMMMMMMMMMMMMMMMMMMMMMMMMMMMMMMMMMMMMMMMWNXKO0K000OkOkOOx
 ......'..''',,'',,;:;''',,:oxccooxOOXNNNWMMMMMMMMMMMMMMMMMMMMMMMMMMMMMMMMMMMMMMMMMMMMMMMMMMMMMMMMMMMMMMMMMMMMMMMMMMMMMMMMMMMMMMMMMMWWNX0O0X00KOkkkO0x
..,;'.;;;lo:;:;;:;,;:;,,',,:l:,;:coddOXNNWWMMMMMMMMMMMMMMMMMMMMMMMMMMMMMMMMMMMMMMMMMMMMMMMMMMMMMMMMMMMMMMMMMMMMMMMMMMMMMMMMMMMMMMMMMWWNX00OKXXKOO0KXOd
.',,'''''::,:llcll:;::;,'',ldc;clokkdxOK0KNWMMMMMMMMMMMMMMMMMMMMMMMMMMMMMMMMMMMMMMMMMMMMMMMMMMMMMMMMMMMMMMMMMMMMMMMMMMMMMMMMMMMMMMMMWNXXXKOKNX0O0XKOkx
',,;,.....':ccccc:;;;::;,':dxo::dxddooxkkOXWMMMMMMMMMMMMMMMMMMMMMMMMMMMMMMMMMMMMMMMMMMMMMMMMMMMMMMMMMMMMMMMMMMMMMMMMMMMMMMMMMMMMMMMWWWNNNXO0XNK0KKOk0O
;;;,.....'',,'',;:clccl;,:cc::::cloddoox0XWMMMMMMMMMMMMMMMMMMMMMMMMMMMMMMMMMMMMMMMMMMMMMMMWNXKNMMMMMMWWMMMMMMMMMMMMMMMMMMMMMMMMMMMMMMWWWWNXKNNNX0kxOOx
''''...,ccc:::cc;::::;;;:ccc;;;;:loddddk0NWMMMMMMMMMMMMMMMMMMMMMMMMMMMMMMMMMMMMMMMMMMMMMMMNOook00KXXKKXXXNWWWWMMMWMMMWMMMMMMMMMMMMWWNNNNNKKXXKXKKOO0kx
......';:;;;;:::::ccc:;;:::ccccc:ccdXXKXNMMMMMMMMMMMMMMMMMMMMMMMMMMMMMMMMMMMMMMMMMMMMMMMMWKdlooloooooddddxkxxO000KXXKKNXXNWNWMMMMMNkdddkKNXXKXXKKOkxxO
.....''''''',,;;,,;;,;;,,;;:clllccoONMMMMWWWMNNWMMMMMMMMMMMMMMMMMMMMMMMMMMMMMMMMMMMMMMMMW0l;;cool::c:::c::::::clooddooddxkkk0000KK0xooodkKKO0KK00kdoxk
..'',;'.........'',;;,'.',;;;cccc:lkXNNKK0O0XXNWMWNNWMMMMMMMMMMMMMMMMMMMMMMMMMMMMMMMMMMNkc;:cclloolcccc:::::::::;::::::::c:::ccllcccllllooddoooooollod
...',,'...........';:;''''''';:::::ldOOdxkdk0XXXKXNWMMMMMMMMMMMMMMMMMMMMMMMMMMMMMMMMMMNk:;:ldollllolccccclccccccllcccc:::::::::::;,;;;:;;cllclccc::;;;
..........'........',cc;,''''';:ccccclooodddO0KKO0NNMMMMMMMMMMMMMMMMMMMMMMMMMMMMMMMMMNx:;clodollllloolcccclcccccclccccc::::::ccccc::::::;:c::clc:::;,,
..................',,cl:;;,',;:;;::;;;;cxkkOKWWWNWMMMMMMMMMMMMMMMMMMMMMMMMMMMMMMMMMMXd;;cllldollllollolc:ccllc:cccccccccc:::::::cc:::::;;:::ccccll::;,
'................'''',;:;;:c:;:;:l;,'',:dO0KWMMMMMMMMMMMMMMMMMMMMMMMMMMMMMMMMMMMMMWKl,;cllllolclclolllllllcccccccc:cccc::c::::;:::::;;;;::::cllccc;;;:
'................',',,,,;;:c;'.,locl::dkkOKOOXK00KXXXNNNNNNNWWMMMMMMMMMMMMWNKOO0NW0c,;clllllolccclllllllllc::cc:cccccc:::::;::::;;;::::::::::cccc:;;,;
......... ........'.''',,;;'...';dKWXXWMWNk:ldlccclllllolooodxxxkkkOO0000KOkdoodkd:';lllllccllcccclllllllclc:::::cccccc:::::;;:::;;,;:::;;cc::clc:;;,,
 ...................'''',,'.'';c:oXMMMMWNO:..cdolcc:ccccccccccccccclcccccc:::cc:,'';cllccccclccccccllllllccc:,;:::ccccccc::cc:;;::;;,,;;;:ccccccc:,,,,
 ....''..........,'''.',,'.',:c;:xOOKXXKx;...'colcc:;;:::::cccc:::cclccccccccc:;'';clllccc:clccc:cccccllcllc:,,;::::cccccc:ccc::;;:;;;:;;;::cc:;;::;,,
  ...,'..'........''''',,'..,;;;::;;lolc,....,;lolc:;;,;;::::::::::::::ccc::::;',c:ccllcc::ccc::::cccclccclc;'';;,;:::cccc:;:cc:;;;;;::::::::ccc;;;;;,
  .....''.............',;''',''',;;:cc:,....',;;clc;:;;;,;:::;;;;;:::::::::;,'',:c::ccccc::cc::::::ccccc:cc:,'..',,,;:::ccc::ccc::;;;::ccccc::ccccc;;:
 ....'''...;:;'''.....',,'''',,;::cccc;.. ..',,,,clc::::;;;;;;,;;;;::::::;,'..',:c;;:cc:::::;,;;;::::cc::cc:'... .............''',,,;:c:::;;:c::::;;;;
....':;,'...',;;;;,,,'',,'.''''',;:c;,..  ..'',,,;:lc;;;;;;;;;;;;;;::::::;.....';;,,,;;;;;;,,'''',,,,,;;;;;,..                 ......';;::;;:c::ccc:,'
  ...,,'.......,,',:c;,::,',;,'.';:c;'.....',,,;;,,:c:;,,,,,,;;;::::::;;;,'''',,''.......'.................                        ....';:;;;:::::;,,,
........ .......'..,::::cclc:;,,;;;;;,.',,''........',.......................'''''. ........................                       ..;;,;;:::cc:,,,,;;
''..............''',,',;;clc;;;;,'',,,,'.................    ........    ..............''....................           .....      ..,,,,,;::;,,,;;;;,
.......',,....'''.....',;:c:;,,''...'''...................................','...........'.........................   ........... ...'..'',;;;;'.',,;;'
..''..',,'...'''...... ..,,''''......................''.';;,,;;'.......'...'.........'.............................. ...............'...,::,,,,'''',,'
',,,'',;,...'''..........'...................'......',,,cllolll:,..','',''.........................................  ...................,,'','',',',;,
'....';;,'..''......     ................''''''''''',;;;;;;::::c:;;;::;,,,,,,''.''............................'.............................'..','';;.
'....';;,....''...        ......    .....',''....'..''',''',,,,''''''''''''''..'''..................''.....'..''.................................'''..
'.....,,'...'',,'.       .......   ......,;''..........,'..''....................................................................'....................
'''''''',,;:c:;;'.  ..   ................','.............................'''.....................................................''...................
oolc:;,,;cccccc:,......................'..''......................................................'.'.....''.'...................''..............'....
xddolllccccc::cccc:cc:cc:,,;,,,,;;;,;;;;,'',,,,''''''''''........'................................'.'...',''''....'...'''''''''''''..............'....
xxddxxxkkxkxxxxxxxddddddodddddddddoolllllcc:::c:::;;;;;;;;,,,,,,,,'''''..'''......................''....'''','....'....'''''''''''.......''...........
oooodddxxxxxxxxxxkkkkkkkkkkkkkkkkkxxxxxxdddooooollllllcccc::::::;;;;,,,,,,,;,,'''.'''..'..........'..'.......''.',,,,'',,;;;;;;;;,'...''',,,,'.....''.
..':llllloooooodddxxxxxxxxkkxxkkkkkkkkkkOkkkkkkkkkxxxxxxxddooooollcccc:::::c:;;;,,,,,,,,,'',,,,''',',,,,;;,,,,,';c:::::;;;;;;,,,,,,,,,,,,'',''.''.''''
..',;::;;ccc::cclloooooddxddddddxxxxxxxkkkxxxkkkkkkkkkkkkkkkkkkxxxddddddddooolllllccccccccclllllooooooollc::::::c::::::;:;;;:;;;;;;;;;;:;,,,,,,,;;,,,,
...'','',,;;;;:::clllcclllllodddodddxxddxxxxxxxkxxxkkxxxkkxkkkkkkkkkkkkkkkkxkkkkkkxxxxxxxxxxxxxxxxxxxxxxdoooolllollllllllcclcccccccccc:c::;;;;;;;;;,,,
......'',,,;:::ccc:cllllolooooddodddxkxxxxxkxxkkxdxkkxxkkxxkkkkkkxxkxddxkxxxxxkkkxkkxkkkkxkkkxkkkkkkkkkxxxxkxxxxxxxxxxdddooooooooollllccc:::c::;;;::;;
.',,,,,,,,;:::::cc:cllododddddxddxkkkkkkkkxxkkxkkOOOkOOOOOkOOOOOkkkkkxxkkkkOkkOOxxkkkkxkkxxxxkkxxxkkkkxxxxxxxxxxxxxxdddxxxxxxxdddooodddooollooolllcccc
;:;;:::::::cc:ccccllcllloooodxxxxkOO0OOOOOOkOkkkkkkOOOOOOO0000000O000OOOOOOOOOOOOOOOOOOOOkkkkkkkkkkkkkxxxxxkkkkkkkkxxxxxxkkkkkxxxxxxxxxxxxdddddddddddd
:::::cclc::::cccllloolcllllloooodxxkkkkkkkkkkOOOOkkkkkkOOOOOO0OOOO000OOOkkO000O0OOOOOOOOO0OOOOOOOOOOOOOOOkkOOOOOOOOkkxxxkkkkOOkkkkkkkkkxxxxxdxxxxxxxxx
c:::cc:cccccclllclllllcc:clloooddxkkkkkOOOOOOOOO0OxkOOOOOOO0OOO0OOOOOxxkOOOO000OOOOOOOOOOO0OkkkOOOO0OO00OOOOOOOOOOOOOOxxOOOOOOOOkOOOOOkkkkkkkkkkkkkkkx
lc:cllllllllllooollclllloddooodxxxkxdxkOOOOOOOOOOxdkOOOOOkOOOkkO0OO0000O0OOO00OOOOOOOOOO0OOOOOOOOO000000OOOOOOOOOOOOOOOkOOOOOOOOOOOO00OOOOOOOOOOOkkkkO
llccllllllloooolccllloddooooddddxkkkkO0000OOOkOOkxdkOOOOOO0OOO000OOO00KKKK00KKK00000OOOO00OOOOOOO0000000OOOOOOOOOO0000OOOO000O000O000K0OOOOOOOOOOOOOOO
llllloooooloooolloooooodddxxkkkkkOOOO000000000OkkOOOOOOOOOOkkO000OO0000000000OOOO0000000000OOOOOOOO0OO0000000OOOOO000000OOO0000000000K0000OOOkOOOO00OO
loloooolllllllloooooddxxxkkkkkOOOO0000OOO000000OOOOO0000000OOO0000OO0000000000000OOO0000000OOOOOO00OkkkkO00OOOOOOO00000000000000000000000000OOOOOO0OOO
lllloooooolllllllooddxxkxkkkkkkkkkOOOOOO00000000000OO00OOOOOOOOOOOOOO00000000000000000000OO000O000OOkkkkOOOOOOO0000000000K0000000000OO0000OOOOOOO0000O
cclllloollooooooodddxxxxxxkkkkkOOOOOOOOOO000K0000OOkkkOOkkOkkkOOOOOOOOOO00OO000O0000OOOOOOOOOO0O00000000OOO00OO0000000O000000000KKK00000000O000000000O
clllllcc:coodooodxxxxxxxkkkkxkkOOOOOOOOOOO0000O0OOkkkkkkkkOOOOOOOO000OO000OOOOOOOOOOOO00O00OOOOO00OOOO0OOOO00O00000OOOOOO00OO0000K00000000000000000000
loolcllcclddddodxxddxxxxxxkkkkOOOOOOOOOOkOOOOOOOOOOOOkOOOO0OOOOOOO000000000OOkkkOOOO00OOOOOOOOOOOOOOOO0OOOOO000O000000OOOO0000000000000000000000000000
""")
starter_town_250 = ("""
............  ............';..:c;.';,.',;lo;,,;;:cldOKXNWMMMMMMMMMMMMMMMMMMMMMMMMMMMMMMMMMMMMMMMMMMMMMMMMMMMMMMMMMMMMMMMMMMMMMMMMMMMMMMMMMMMMMMMMMMMMMMMMMMMMMMMMMMMMMMMMMMMMMMMMMMMMMMMMMMMMMMMMMMMMMMMMMMMMMMMMMMMMMMMMMMMMMMWNXXNNNNNNNWMWWNK0O0K0OOOxO
.........'....','. ........,;,;ll:;;,'...;::::cldxodOKNWMMMMMMMMMMMMMMMMMMMMMMMMMMMMMMMMMMMMMMMMMMMMMMMMMMMMMMMMMMMMMMMMMMMMMMMMMMMMMMMMMMMMMMMMMMMMMMMMMMMMMMMMMMMMMMMMMMMMMMMMMMMMMMMMMMMMMMMMMMMMMMMMMMMMMMMMMMMMMMMMMMMMMMMMNNWWNNK0XWWWXKOxk0K0O0K0k0
...    .......,;'..'......',c;'',;;oo,.'';clloddk00OOKNMMMMMMMMMMMMMMMMMMMMMMMMMMMMMMMMMMMMMMMMMMMMMMMMMMMMMMMMMMMMMMMMMMMMMMMMMMMMMMMMMMMMMMMMMMMMMMMMMMMMMMMMMMMMMMMMMMMMMMMMMMMMMMMMMMMMMMMMMMMMMMMMMMMMMMMMMMMMMMMMMMMMMMMMWWWWWNXXKNNX0Okkk0X0xxO00KK
.'..  ..........  .;;............,,;:,.'..,:looxkdx0OONMMMMMMMMMMMMMMMMMMMMMMMMMMMMMMMMMMMMMMMMMMMMMMMMMMMMMMMMMMMMMMMMMMMMMMMMMMMMMMMMMMMMMMMMMMMMMMMMMMMMMMMMMMMMMMMMMMMMMMMMMMMMMMMMMMMMMMMMMMMMMMMMMMMMMMMMMMMMMMMMMMMMMMWWNWNNWX0KNWWKkkOO0XXKkxkk0X0
.......,'.  .....................''',,''...';:clokO0OKWMMMMMMMMMMMMMMMMMMMMMMMMMMMMMMMMMMMMMMMMMMMMMMMMMMMMMMMMMMMMMMMMMMMMMMMMMMMMMMMMMMMMMMMMMMMMMMMMMMMMMMMMMMMMMMMMMMMMMMMMMMMMMMMMMMMMMMMMMMMMMMMMMMMMMMMMMMMMMMMMMMMMMWWXXNXKKXXKXXNKO00kx0XX0kOOxOO
.  .'.      .......':;. ......,;..........',;:::lk0KKXWMMMMMMMMMMMMMMMMMMMMMMMMMMMMMMMMMMMMMMMMMMMMMMMMMMMMMMMMMMMMMMMMMMMMMMMMMMMMMMMMMMMMMMMMMMMMMMMMMMMMMMMMMMMMMMMMMMMMMMMMMMMMMMMMMMMMMMMMMMMMMMMMMMMMMMMMMMMMMMMMMMMMMMMNXX0000KK0KK0kkOkkxkkOkO0kOk
.      .  ......,:;'.......'''''.,c;....'''',:cldxkXWWWWMMMMMMMMMMMMMMMMMMMMMMMMMMMMMMMMMMMMMMMMMMMMMMMMMMMMMMMMMMMMMMMMMMMMMMMMMMMMMMMMMMMMMMMMMMMMMMMMMMMMMMMMMMMMMMMMMMMMMMMMMMMMMMMMMMMMMMMMMMMMMMMMMMMMMMMMMMMMMMMMMMMMMMMWNXXKOOOO0KK00K0OOOOOkOKkdx
.  ..  .....','';c;.   .','',:;,''::''''''.',;:codxONWWNNWMMMMMMMMMMMMMMMMMMMMMMMMMMMMMMMMMMMMMMMMMMMMMMMMMMMMMMMMMMMMMMMMMMMMMMMMMMMMMMMMMMMMMMMMMMMMMMMMMMMMMMMMMMMMMMMMMMMMMMMMMMMMMMMMMMMMMMMMMMMMMMMMMMMMMMMMMMMMMMMMMMMMWXXNNKkk0Ok0XKKKOkO0KOx0Kxok
  ... ...',,,,,......  ......,;:;''',,,''.',;;:lx00kxOKKXNMMMMMMMMWWWMMMMMMMMMMMMMMMMMMMMMMMMMMMMMMMMMMMMMMMMMMMMMMMMMMMMMMMMMMMMMMMMMMMMMMMMMMMMMMMMMMMMMMMMMMMMMMMMMMMMMMMMMMMMMMMMMMMMMMMMMMMMMMMMMMMMMMMMMMMMMMMMMMMMMMMMMWNNNXXOk0K000000OkxO0Ok0Kkxk
    ...............''..'''..,:::::ll;...',',;;:lx0klcdkddKWNXNWWNNNXXWMMMMMMMMMMMMMMMMMMMMMMMMMMMMMMMMMMMMMMMMMMMMMMMMMMMMMMMMMMMMMMMMMMMMMMMMMMMMMMMMMMMMMMMMMMMMMMMMMMMMMMMMMMMMMMMMMMMMMMMMMMMMMMMMMMMMMMMMMMMMMMMMMMMMMMMWMWNK0K0k0NNKOK0kkOkkkdoxO0ko
  ..'......,,'.''',,',c;',,;,,','';;,..''','';:oOxc;;clc:okkxk0XWWXXXWMMMMMMMMMMMMMMMMMMMMMMMMMMMMMMMMMMMMMMMMMMMMMMMMMMMMMMMMMMMMMMMMMMMMMMMMMMMMMMMMMMMMMMMMMMMMMMMMMMMMMMMMMMMMMMMMMMMMMMMMMMMMMMMMMMMMMMMMMMMMMMMMMMMMMMWWWWNNK0kOOKN0kKXX0OOkOkk0XKkd
....'.,,..':;,;clccl;;c;.';;,'''';:::,','''',;:ol;,',;;:cccclok0XNNWMMWMMMMMMMMMMMMMMMMMMMMMMMMMMMMMMMMMMMMMMMMMMMMMMMMMMMMMMMMMMMMMMMMMMMMMMMMMMMMMMMMMMMMMMMMMMMMMMMMMMMMMMMMMMMMMMMMMMMMMMMMMMMMMMMMMMMMMMMMMMMMMMMMMMMMMWNWWNXKOkOkONNKXNKOxk0K0KNKkdo
...,,;c:..,::;;okko;,,coc:colccc::c:;;;,,,,,,;cl:;'':lc;lO0kkkOO0XNNNNNWMMMMMMMMMMMMMMMMMMMMMMMMMMMMMMMMMMMMMMMMMMMMMMMMMMMMMMMMMMMMMMMMMMMMMMMMMMMMMMMMMMMMMMMMMMMMMMMMMMMMMMMMMMMMMMMMMMMMMMMMMMMMMMMMMMMMMMMMMMMMMMMMMMMMWNWNXKKKXXkxXMWWN000O0KKKX0kxd
...'''..'''''''',;'',;cll:;cll::;::cc:;,',,.';cxd:;;:loclxOOkodxOXXO0XNWMMMMMMMMMMMMMMMMMMMMMMMMMMMMMMMMMMMMMMMMMMMMMMMMMMMMMMMMMMMMMMMMMMMMMMMMMMMMMMMMMMMMMMMMMMMMMMMMMMMMMMMMMMMMMMMMMMMMMMMMMMMMMMMMMMMMMMMMMMMMMMMMMMMMWWWXKXXNN0kONWWNX0OkkKNNKkkxxd
..';,,;;'......''',:ldoooolccc,'''';c:;;,'..;xOOOxc::cxOdodooclxkkkddk0XWMMMMMMMMMMMMMMMMMMMMMMMMMMMMMMMMMMMMMMMMMMMMMMMMMMMMMMMMMMMMMMMMMMMMMMMMMMMMMMMMMMMMMMMMMMMMMMMMMMMMMMMMMMMMMMMMMMMMMMMMMMMMMMMMMMMMMMMMMMMMMMMMMMWWMWXXNNXKOxkKNK0X0kOKNNKkkkO0x
,,'',;:;,.........;c::;;:cc::c::::,,cc;;;,,;codoox:,;:okkxdkxldddk0kx0XWMMMMMMMMMMMMMMMMMMMMMMMMMMMMMMMMMMMMMMMMMMMMMMMMMMMMMMMMMMMMMMMMMMMMMMMMMMMMMMMMMMMMMMMMMMMMMMMMMMMMMMMMMMMMMMMMMMMMMMMMMMMMMMMMMMMMMMMMMMMMMMMMMMWMMMWXNWWWNX0k0WWWWXKK00Kkd0X00O
;::;;,'..'........',,,'..',,;cclodc;oOo'';;;oo;,;;;:cccclloxdoooldkOKNWWMMMMMMMMMMMMMMMMMMMMMMMMMMMMMMMMMMMMMMMMMMMMMMMMMMMMMMMMMMMMMMMMMMMMMMMMMMMMMMMWWMNKXMMMMMMMMMMMMMMMMMMMMMMMMMMMMMMMMMMMMMMMMMMMMMMMMMMMMMMMMMMMMWWMMMWNNWWWNNN0OXWWWXKKKkdxox0xdx
,;;,;;'....'',;;;;;'.,,,,;;;,;c:;cc;,cc,,;:cclc;;:::;;;:ccddloollok0KKNWMMMMMMMMMMMMMMMMMMMMMMMMMMMMMMMMMMMMMMMMMMMMMMMMMMMMMMMMMMMMMMMMMMMMMMMMMMMMMMWK00xo0MMMMMWWMMMMWNWMMMWWMMMMMMMMMMMMMMMMMMMMMMMMMMMMMMMMMMMMMMMMMMMMWWWWMMWNNNNXNXXXNXXX0kkxk0Oddd
'''',,'.....':llllllcccoolc;,;:;;;;;;;;;:c::::;,,::;,;clloddloolcxOO0XWMMMMMMMMMMMMMMMMMMMMMMMMMMMMMMMMMMMMMMMMMMMMMMMMMMMMMMMMMMMMMMMMMMMMMMMMMMMMMMMMKdolldkO00O0XNXXKKNWNNNXNMMWWMWWWMMMMWWMMMMMWWMMMMMMMMMMMMMMMMMMMMMMMWWWWWWNK0000NK0KKK0K00Ok0XOxxd
..''........;cc:::c::::cccc::clclllc:;;;:ccccccc:;:c;:ccooldKNXOk0O0WMMMMMMMMMMMMMMMMMMMMMMMMMMMMMMMMMMMMMMMMMMMMMMMMMMMMMMMMMMMMMMMMMMMMMMMMMMMMMMMMMWKdloooloodxxxxdddxkOkkdxO000000XNNNNXNWMWWWNNWMMMNNWMMWWWMMMMMMMMMNOkkkxkk0NNKXXKXXKKNNK0XOxkOkxOOO
  .........,:c:,,,;;;;;:::c:;;;::cc:;:;,,;;,;ccclccll:::;:cd0NWXXNWWMMMMMMMMMMMMMMMMMMMMMMMMMMMMMMMMMMMMMMMMMMMMMMMMMMMMMMMMMMMMMMMMMMMMMMMMMMMMMMMMMW0occlodooccooloolooolodoooooooodxkkOkxO0KKKOOKXXX0KNWNNXNMMMMMWWMMMNxlllloddOXXWNKXXKXNX00KOxkxookOO
.........',,'''',,,,,,;::;;;:;;:;,,;;;;,,;;;;:ccllloollc:clkXWMMMMMMMMMMMMMMWWMWWMMMMMMMMMMMMMMMMMMMMMMMMMMMMMMMMMMMMMMMMMMMMMMMMMMMMMMMMMMMMMMMMMMMNklc;,:looool;,;:::::::clc:::cccccccoddxxddxxdddxdddxOOOkOKXXXK0KNWWNXklllldxoxKNNX0OOKXNK0XXOdddooxOO
.',',,'';;'...'','''',',,,,''',:c,,;;,''',;;;;;::ccccllccdkXMMMMMMWWNNNXNWWNKKNWWMMMMMMMMMMMMMMMMMMMMMMMMMMMMMMMMMMMMMMMMMMMMMMMMMMMMMMMMMMMMMMMMMMNxlc;,;;;clooolc:c::::;;;;,;;;;;;;;;;;;:cllollccllllllodoooodxxdddxkkxxddoooooookOkkOOxO0O0kx0Odooodkkk
......'';:,................''',;;:;;,'..'',;;;;::clc:::;::cxKWMWNNX0OOdx00KNNXNMMMMMWNXWMMMMMMMMMMMMMMMMMMMMMMMMMMMMMMMMMMMMMMMMMMMMMMMMMMMMMMMMMMXdc:,,:c:clcloooooollllllcc:cc:::::::::;;;,;;;;;;;;;;::;;::;;:cllllolcc:ccodolloooolldolllcoocodocllldxx
..'''',;;;;,,'..............''',,;c:'...',,,,''',coc:::::;:ldxOXOxxOKOxxk0XNNWWWWXXXXXNWMMMMMMMMMMMMMMMMMMMMMMMMMMMMMMMMMMMMMMMMMMMMMMMMMMMMMMMMMKoc:,,:lodollcclooolc:::cccllllllcclclccllcccc::::::;;;::;;;;;;;;::;:;,''',;:c::cclllodolllc::cllc:c:;;cc
.....',,,''....',.......'..'..',,:cc:,''''''','.',;;;:c:::cclokX0dlokxdxxkKK0KX00OKNWWMMMMMMMMMMMMMMMMMMMMMMMMMMMMMMMMMMMMMMMMMMMMMMMMMMMMMMMMMMXdc;,;cloddolollccooolllc:::cccllc:::clccclllllccclcccc::cccccccccc::::;;;;;;;;;:;,,;cccc::locclc:::::;,,,
 ....  .........','..............,,,cc:;'..''',''',;;:ccllllllcoddoodooddxO0kkKXOx0KKKNWMMMMMMMMMMMMMMMMMMMMMMMMMMMMMMMMMMMMMMMMMMMMMMMMMMMMMMWKo:;,;lllodddlollclclooooolcclllllc::ccc::cccccccccccccc:;:::::::clccccc::ccccc::::;;:cc::;;coolc:;;::,,,'.
.... ...........'''.........'.',,'':loo;;:;,''',,';:::clcccc:;;:ccoddxdxxlxNXKNW0k0NWNWMMMMMMMMMMMMMMMMMMMMMMMMMMMMMMMMMMMMMMMMMMMMMMMMMMMMMMW0l:,,;lolloddolllllllllooooolccccclllllccccclllcccc:ccccc::::;;;;::::::ccc:;::c::;;::::cc:::cccccccccc:;,;,'
..... .........................,;,,:ll:;,,,,,'',,;;;;,,;::;;:;;;;:cx0KOO0OONMMMMWWWMMMMMMMMMMMMMMMMMMMMMMMMMMMMMMMMMMMMMMMMMMMMMMMMMMMMMMMMMNkc;,,:llolloddollllclloolcodoolc:::cccclc:::clllc:clc:ccccccccc:::::::::ccc:::::::;;;;;:cc;:::clccclllc;:;,,'
..............................'''..';:cc;;::;,,,,;col,;ll;,,;;,,;ccoO0xxKWMMMMMMMMMMMMMMMMMMMMMMMMMMMMMMMMMMMMMMMMMMMMMMMMMMMMMMMMMMMMMMMMMXd:;',clllolloodoclllclloolccloolcccccccccccc::::c::::cc:::::::::::::;:::::cccc::;;:::;;:::::clcllcccloc:;::;;:
,..........................'''''''''',;;,',:codo:,::;,cdl;;'....',;cx0XO0NNMMMMMMMMMMMMMMMMMMMMMMMMMMMMMMMMMMMMMMMMMMMMMMMMMMMMMMMMMMMMMMMXo;,',cllllllllodlcclccllooolllllllllllcccccclcccccccccccccc:::cc::;::::;;::;::::;;;,,,;::;:c:;:llllcclc::;,;:cc
,'...........................,,,,',;;;,,,;;;:clc;'.',:ox:',;,'';ldxdldXN0kKWWWNNNNWWMMMMMMMMMMMMWMMMMMMMMMMMMMMMMMMMMMMMMMMMMWNK00OO0NMMWKo;'';cllllllllloolcclcccllllllllccloolc:::::cc:::ccccc::ccc::::cc:::::::::::::;;:cc:;;:clcc::;,;c::lccc:;;;;;,;:
'............      ..........'',,'.',,'',:::::;'....',oxoox00ocOWMMXOONKolxOkxdooodkOOkOOOOOOOOOO00KKXNNNWWWWWMMMMMMMMMMMMMMMWKxddddOWMW0l;'.;lollllllccloolcclccclllolllllllllolcc:::cc:::cccc:cccc::::::;;;;;;;::::;;;,,;:cccllc;;;;ccc:::cllllcc::;,'';
....'..........   ..........''....',,',,,,,;;,.....',,,:kNWMMWXNMMMMMMXd;;oxolccccccccc:::::cccccccllloooddxddxkkkO00000KKKKK0xdddooxOOdc,'';loollllllcccloccllc:cllllllllllllcclllc::;::c::cllccccclc::::::::::;;::c:;;,,,,;;::c:,,;;:cc::::cccl::;;:;,,;
   ............................''.','..',,,,'.....';c:;;lKWMMMMMMMMMMWx;'..cddoollclcccclllcllccccccccccc::cccclcccc::cccclc::::::::::;,,.':cloolclcllcccloccclc:clclllllllllllcccll:,;:c:;;;:ccc:c:clccc::cccc:;::::::::;;;;,,,;;:::llcccccccccc:;,,;,,::
   ......'.......  ................'''',,'',..'''',col:cxXMMMMMMMMWNXx:'....cdollllc::::cclcccc::cccccccccccccloollcccccclcc:::::cc:;,,'.,:clllllccccccccllc:ccc:ccccllcclllllcllccc:,'':c::;:::c::::c:clc:::clc:;;;;;;;;;;;;,,,;;;::cccllccc:::cc:;,,'',;
 ...................'.......,,'''.....',,,,''',;:clc,';xKK00NWWWMMNOo;'.....,cdoollcc::;;;::::::::cccccccc::::cccllcccccccccccccccc:,,..,:ccllllcccccc:ccllc:ccc:ccccclccclllcclllc:;;'',;:::::ccccllc:ccccc:cllc::::;;;:;;;;,,;:;,;,,::::ccc:;;::;;;;,',,
  ..... .:c,...';,'''.......',;,'','..''''''...',:lc:;;oxlccdOOO0Oko;'......';cddllccc::;;;;;::::::cc:ccc:::c:cccclccccccc:::::ccc:,'.';::ccclllccccc::ccccc:cc:::cccccccclllccccllc:;,;:;;;;;;;::::clccccc:::::cccc::;:c::;;::::;;:;;:::ccccc:;,,:::;,,,,
   ......,:....''....'........'''',,,,,;;;,'...',;:;,;cc:,,,;clccc:,'......',;:cddlcc:;;;,,;,,;:::::;::::c:::cc::::::c:cccccc::::;;'.,cc::ccccllccccc::cccc:::c::::::ccccclccccccll:;,'.,:;,,,;;:::ccc:::cc:;,;:::::;;,;;;;;;::::::;:c:;;c::clc:;;;;;;;,,,
    ........,'''.................''..'',;;,...',,''''',;:;;::ccc::,.......',,;;:cooc:;;;;;,,,,;;:::::::;;;;;;::::::::::::::cc::;'';'.:ll:::cccllccccc:;cccc:::c:;;::ccc:clccc::cclc;,,'...,;,,,;:::cccc:clccc:;:cccc::;;;,,'',;:cccccllc::::clc:cc::::;;::
  .........,,','....,,...........'....',;,,''',''''..';:;;::cllc:;'.......',,;;;;:oo::::::;;;;,,,;:::::;;;;;;;;::::::ccc::::::,..',',:cc:;:::clccc::c::ccc::;:::;;:::cc::clc:::cccc;'''..  .;;,,',;:::cc:cc:c:::::ccc:c:::;;;;:cc:clc:cccc:c:lc:ccll:;,;::
    .....''''.....,,;:;;,.......''...'',,,'',''',,,,,::;:ccllllc:'...  ...',,,,,,,:ooc:::::::::;;;;;;;;;;;;;;:;::cc::::;;::;,'....,'':cc:;;::ccc:c::::;:c:;,,;;;;::::c:::clc:::c:c:;'.....  ..,'.','.....''...''''','';;;;;;;:cc::::::::::cc:;;;:c:;,,;:::
........';'.''....,:c::;,',;,,''......',;,,'''',,'';c::;:cclc:::,...   ...'',;;;,,,:ooc::;::;:;;;;;;;;;,,,;,,;;;:::::;;;;:;,''....,'':c::;;;::c:cc::::;::;,,',,,',:::;:;:cc::::::c:;'......   ......             ...........,:::::;;;;;,,;clc:;;cc;::::,,,
 .......;lc;;;,'.....';::;;::;;;,';;,,,',,,''''','.'..',,;c:;;;,...   ....'''',,,,,;:ll:;;;,,;;;;;,;;;:;,;;;;;;;;;;;::;;:c:,......'''::;;;,;;;::::;;::;;,,''''''.',,,,,,,;;,;:;;;;;,'..                            ...........,;;::::::;;cc:::::clllc:;'',
  ......;c:::,''....  ..';;;,,,;:cl;.,:,,,'...',,''...';;:cc:;,...   ......''''',,,,,;llc:;;;;;;,,,;;;;;:::::cc::ccc::::cc:,'.....,''''............',,'.'...........'''.....'''......                                 ..      ....;::::;,;:::::cllc:;;,,,,
   .....',''..............'''..';:lc,';cc::;,;:c:;,'.',',::cc;,....''''',;;;;;;;;;;,,,;cl:;;;,,,,,,',,;;;;;;:::::;;;;;;,;,,,',,,,,;,,,,'..   .    ...............................                                    .    ... ....,::;;;,,;cc::;,;:;,,,;;,
 ............   ............'...';:::::::collll:;;,',;;;::;;;;,'..',;;;;,'''''..........;;'..................'..................',,,'.''..  ....................'....................                     .               ..,,::;,;:;;;:::clc:::,'','';:;;
.';,''.......   ...........',...,;;,,::;;;cllcc;,;;,,,,,,,,;;;,''''''......     ............... .......................................'......'''.''.................................                     ....              .,::;,;:;,:cccc::c:;:;,,;;;;;;
.''....................',,.',''';:;'',;,;::clcc;;;;:;;;,,',,,,,,,,'......'....................          ...........        ........''...'......'''''...'.............................               .   ........  ..  ..  ...,;;;::,,',;::;;'',,,;;:,;;,''
..............,,'............'.......,;;::cllcc::;,;,,'.....',''''............................................................','.......... ................................. ....... .......  .    ..    .. ... ...   ....,,'..','.',;;;;:;'..,',:::cc;''
.....',,'....';;,.......',,'''..  ...''';;;;::;;;;,''.......'''..'......................................... .. ..............',,..............'''''''........................................  ..  .................  .... ......'',;,,;;;::;...'''';;,,'.
.....''.....',,;,.....',,''''........  ..'',;,,''''''.......'.''''.......................'''...';,'...'::'''.. ..'...........'''........... ..''..''.............................................  ....................... .,'..'..',:c:,,,;;'....',,,,,'.
.',,,'....',,;,.'....'..'''.......      ..,,'.....'''......................''......'...'''''',:oolcc::clc:;;'....''...',,'''.................''..................................................   .................. .....,'....';cc;,,'',,;;;,',;'';;,'
.',;;,''..,::;,..,....''','................'...................................'...'..',,',,,:ooloddlllllc;''...'',''',,''......................................................................    .... .............  ...........;;...',;''',,'.',',:;''
,,''''''..,:;;;'.,''','..............   ............................'''.''','...'.''''',,,;;;;cc::cccccccllc:;;;;;:c:;;,,'',,'','''......'.............................................'........   ................................'.....,,..'.';',,';:,''
,'........;:,,;'...............            ............ ..   .......';,''''''''''','''',;;,:;,;;;;;;;;;,;::;,::;;;:::::,,,,,,',;,',''','..............................'','.....''''....,'.........  .................'....................'....;;'.'';:'..
'.........,:;,;'......''......              ..........       ........',''''......''''''','';,','''',,,,,',,'''''''''',;,,,'''.','.'',''''............... .............'''........,,,'.',,''''''''.......'............''..... .............'.....'',''',. .
;'........,;,,;......'..',''..            ...........      ..........;c,.','...........''...'''....','''..'.................................'..........................''...............'.............................''...........................'......
;'........',,,,.....',,',;,'...          .............    ...........;c;.''................';;'....','.........................'...........'........ ...................'......''........'...... .....................,,'.................................
'.........','',....';;;,,;,,..    ..     ............................,:;'.'.................,,'...'.......................',,,'...........................  .......'....'.......'.........''..........................,,''........        ................
,,,,,'''.'''..,::ccloooc::;,..     ..     ............................,;'..........................'......................'..'.....................................'..'''......''''''''...............................','.........................'''.....
llllllcc:;;,,,;cllllllolll:;'..   ...    ....... .................'....''.............................................................''..........................',..'''.......''....'......  ........................''.........................'.......
xxxxxdol:::;;;,,;;;;;;::::;;,,'',,,,,,,,,,....'...............''''''..'''..'''....................................................................................''..'''.....'.''''''''................'''''''''''''''''...........'............,;.......
xddooooolllllccc:cc:::::cclllcclcllcclll::;,,;:;;;;;;;;;;;;;;;;:;;,,'''',,,,,,,,'''''''''''''''.............'.............'.......'................................''.'''....',,,'',,,'......'''.....'',,,,,,''''''''''''........................''.......
xxddddddxxxxxxxxdxxdddddddddoooooollloolccllllllllllloooooollccccllc::::;:;;::::;;;;;;;,;;;;;;,,,''''''''''''''......................'.............................''........','''.',,'......'''.....'''''..'''''..''..''...........'....................'
xxxxdddxxxxkkkkkkkkkkkkkkkkkkkkkkxxxxxxxxxxxxxxxxkkkkkxxxddoolllooolllcccccccccc::::::::;;;;:::::;;,,;;,,,,,;,,,''''''''.''''''..'.................................''........'''.''',,,''....'........''''''''''''''..'''..........','''''...............'
ddxddddddddxxxxxxxxxxxkkkkkkkkkkkkkkkkkkkkkkkkkkkOkkkkkkkkxxxxxxxxdddooooololllllccllccccccc:c:::::;;::;;;;;;;,;;,,,,;;,,',,,;;,,'''''...'..'....'.................',..''.............''..'''''',''.'',;;;:::;;,,;;;;;;,''.....''..,,,,,,,'''..'...'.'''''
;;;::coooooooodddddoodddxxxxxxxxkkkkkkkkxxkkkkkkkkkkkkkkkkkkkkkkkkkkkkkkkkxxxxxxdddddoodddoooooolcclllllccc::::::;;;;;;;;;;,;:;;;,,,,,',,,,,,'''''''.....'...''....''..''....'''''','',,..';;:::::::::;;;;;;;;;;,,,;:::,'''''',,,,'',;,,;,'''.','....'..''
.  ..,:cllllllloooddoooooddxxxdxxxxxxxxxxxxxxkxxxxkkkkkkkkkkkkkOOOOOOOOkkkOOkkkOkOOkkkkkkkxxxxxxddoooooodooolllcccccccccc:::clc::;;;,,,,,,,,,,,,,,,,',,,,,,;,'''''''''''''',;;::;;;;,,;;,.;clcc:clclccc:::;;;;,,''',,,,''',,,;;;;;,''..''''...''''''''.'''
. ..,;;:c:cc::cllllllc::cllooooooddddxxxxxxxxxxxxdddxxxxxxxxkkxxkkOkkkxxxkkkkkkkkkkkkkkkkOOOkkOkkkkkkkkxxxxdddooooooolllllllllllc:cc:::;;;::;;;,;;;;;;;;::ccc::ccccccccllllccccc:;;;:::;,;:::;,,,;;:;,,,,,,,,;;;;;,,;;,,;;;;;;,,;;;,'',',,,,'',,',,'',,,;,
....'',;;,;:;,,::::::;;:::ccclolclo:cooooddddoooddddddddxxddxxdddxxxxkxxxxdxkkxkkkkkkkkkkkkkkkkkkkkkkkkkkkkkkkkkkkxxxxxxxxddddddoooooooodoolllollooooooodddddddddddddddoooooollllcccclcccccllccccllccc:::c:;;::::::;;::::;;;;;;:::::;;;;;;;;,,;;;;:;,,;;,'
......',,;,.',',,,;,,,;:::::::cclolccllc:cllolclddooddoodddxxxdxddxxxxxxxxxkxxxkkxxkkkkkkxxxxxkkkxxkkkkkkkkkkkkkkkkkkkkkkxkkkkkkkkkkkkkkkkxxkkkkkkkkkkxxxxxxxxxxxxxxxxxxxxxxxdoollollllcllllllllllccloollllllllccllccc:c::cccc::ccc::;::;;;;;;:;,,;,,,;;;,
.....'.''''.',,,,,,,;;;,;:cccccclllccc:cllcclooooooddoooododxxxxxxxxxxddxxxxxxxkkxddxkkkxdddxxkkkkkkkkkkkkkkxxxkkkkkkkkxkxxxxxxkkkkkkkxxxkxxxkxxkkkxxxxkkxxxxxkkkkkkkkkkkkxxxxxxxxxxddoooddoooooooooooollccllolccllllllcccllllc:cc:;::;;;::;,,,;,,;;;,,,,;
...........'''''',,;::ccccccc:;;cllcccclollloolloodxdddddxxddkkkxxddxddxxkxdkkkkkdodxkxkkxxkkkkxxxxkkkkkkkkOkxxkkkxoloxxkkkkkkxxxkkkOkkxkkkxkkkkkkkkkxxkkkxxkkkkxxkkkkkkkkxkkkkkxxkkkxxxxxxxxkkkxxxxxxxxxddddddoodooooooolllllcccllc:;;;:lc;::;;;;;;:;;;:;
....,''..',,',,,,;;,;;:::::clc:cllloooodddoddddooodxxddoxxxxxkkkkxdxkOkkOOkkkOkkkkkOOkkkkkkkkkOOkxkOkkkkkOkkxxkkkkxdodxxxkkkkkkkkkkOOkddxxkkkkxxxkkxkkkkxkkkkkkxxxxxkkkkkkxxxxxxxxkkkxxxxxxkxxxxdxxddxxxxxxddxxxxxddddoooooooooooollllllllllollllcc:cc::cc
'',,;;:;;;,;:;,,;::::;::::::cc:::cccloooooodddxxxxxxoodxkOOOOOOOkkkkOOkdoxkkxxxkkkOOOOOkOOOOOOOOOOOOOOOOOOOOkkOOOOOOOkxkkOOOOOOOOkkOkxddkkkkkkkkkkkkxxooxxxxkkxxxdxxxkkkkkxxxxxxxxxxxxxxdxxxdxxdxdooodddddxxxxxxxxddddddoooddxxxxdoddooooooooololllllcclll
,;:::::::::;;;;;:cccc:::cc:cccclccc:clccloooldodxxkkkxkOOO0000OkOOOO00OOOOOkkkOOkkkkkOOOOOOOOO0OO00000000000OO00000OOOOO00OOO000OO00OOOO0OOOOOOOOOOOOkkkkkkkkkkkkkxxxxxxkxxddxxxxkkkkkkkkkkkkkxxkxxxxxxxxkkOkkkkkkxxxxxxxxdxxkxxxxxxxxddxxxxxdddxddddddddd
;::;;,;:::clccc:::cccccclloolloooooooollooollllodooxxxxxkkkkkOOkkOOkkO00000OOOOOkkkxkOOOkkkkOOOOOO0OO0000O000OO0000O0000OOOOOOO00OOOOOOO0OOOOOOOOOOO000OO0000OOOOkkOkkkOOOkkkxkkkkkkkkOOOOOOOOkkkxxxxxkxxkOOkkOOOOkkkkkkxxkkkkkkkxxxxxxxxdddxxxxxxxxxxxxxx
cc:cccc::c:cloc:;;:;;:cllcclolcclooolc:collolcclooollodddxdxxxkkOkkkkkkkkxkOOkOOOOOOOOkkOOkkOOOOOOOOOOO0OkOOOkO00000OOOOxdxO00000OO0000OOOOOOOOOOOO0000OOkO000000O00O0OOO000OOOOkkOOOOOOOOOOOOOOkkkkkxxxkkkkkkkOkkkkkkkkkkkOkkkkxxxxkkxxxxddxxxxxxxkxxxxxx
ccccccc:cl:;cc::c::;:lc:ccccc:clolllc:::;,:lllloooddodddxkOOOOkkOOOOOkkOOkkOOkO00OOxoodkkkkkO00OOO000OOO000OOOO00OOkdlxOkkOOO00000O00OOOOOOOOOOOOOOOO00OkxkkkxO0OOOO000OO000OOO0OOOOOOOOOkOOOOOOkkkOkddkOOOOOOOOOOOOOkkOkkkOkkkxxkkkxxxxddxxxxxxxkkkkkxxxx
ll:;;:cc::cccclcccccloollolclllllllllllc:clooloooloxxddxkkkkkkxkOOOO0000000OOkkO00OkkkOOOOOOOOOkOOO0OkkO000000OOOOOkxdxOOOOOOOOOOOO0OkkOOOOOOOOO0000O000OOOOOOOOOOOOO000O0000OOOOOOOOOOOOOkkkOOOOOO0OOkkOO0OOO0OOO0OOOOOOOOOOOOkkkkkkkOkkkOkkkOOkkxxkkkkkk
lcc:;:cccllclolccclllllolooooolcccclc::loddddooooldkOkxxxkkdoooxkkOO0OOOOOO00OOOOOkxkkOkkkkOOOOxxkOOOOkxxkO00OOOO00K00OOOOOOOOO0OOOOkkOOOOOOOOOOOOOOOOOOOOOOOOkkkkOO00000O000OOOOOOOOOOOkOOOOOOOOOOOkkkkkOOOOOOOOOOOOOOOOO000000OOO0000OOOOOOOOOOOkkOOkkkO
lllcccclooolodoolllollolllolcccccccloooddddddooodoodxxxxkkkkkxkkOOOO0OOOOOOOOOOOOkdccdkkkkOOOOOkOO000OOOOOO00OOO000KK0000000OO0000OOOOOOOOOOOOOOkO000OOOOO000OOOO00000000000OkkOOOOO0OOOOOOOOOOOOOO0OOOOOOO0000OO000000000000000OOOOOOOOOOOOOOOkOOkOOkOkkO
lllccccclol::cll::loooodolll:cllcllddddddooooolooooddxxkkxxkkkO00000000OOOkxkOOOOOkxkOOOOOOOOOOO00OOOOOOO000OOOOOO00KKKXKKKKK00KKKKKK0000000OOOOOO0000OOOOOOOOOOOO000000000000000OOO0OOOOOOOOO0000000OOOOO00000OO0000OOOO0000KKK0OOOOOOOOOOOOOOOOOOOOOkkOO
ccllllc:lolllllollodddddolllllooollooooodooddxxkkkkxxxkkkkkkOOO0000000000000OOOkkOOOOOkkOOOOOOOOOOOkkkOO0KKK0OOOOO000000KKKK00K000OOOO000000OOO00000000OOOOOOOOOOOOOOO000000000000000OOOOOOOOO0000000OOOOOOO000OOO00000000000000000000OOOOOOOOOOOOOO00OOOO
lllollllododdoodolllllclolllooodooooddddxxxxxxkkOOOOOOOOOO0000000000000000KK00OkkOOOOOOOO0OOOO00OOOkkkkO00KK0OO0000000OO0000OOOOOkkxkO00000000000000000OOOOOOO00OO00000OOOO0000000000000OOOOOOO0000000000OOOOO000000000KKK00KKK00KK0000OkOOkkkOkkO00000OOk
lllooloooolllcllllccllllooooooooooooddxxxxkkkxkkkkOOOOOO0000000000OOOO000O000OOOOOOOOOOO00000000000OOkO000K0000OOO0O000000000000OO00000OOOO000000000K00O0OkkOOOOO000000OOOOOOOO00OOOOOOOOOOOO00000000000000000000000000000000000KKKK00000000OOOOOOOOOOOOOO
looolloodoooollolllllllllllllllloddxxxxxxkxkkxxkkkOOkkOOOOO0OOOOOOOO000000000O0000000OO000000000000OOOO000OOO00OOOO0000000000000000000O0OOkO0000000000OO000000000000OkxxxxdddkOO0OOOOOOO000000O00000000000K0KK00000000OOOO000OkO000000000O0000000O0000000O
ooolllloollooooddollolllllllllooodxxxxkkkkxkkxxkkkkkkkkkkkkOOkOOOO00000000KK00000OOO00OOO000OOOOOOOOkkkOOOOOOOOOOOO00000000000000000O00000000OOO0000OOO0000OOOOOOOOO0OOkkkxxkOOOOOOOOOOOO0000000000000000000000000000000O0000OO000000OOOOOOOOkOOO00OOOO00O
cccccllllloodolloollooooolloodxdddxxxxxxxxxxkkkkOOOOOOOOOOkOOOOOOOOOO0K00KKKK0000000OkkkkkO0OOOOOkkkkkkkkOOOOOOOOOOO0OOOO0000O0000OO000000000O00OOOOOOO0OOOOO0OOO000000000000OOOO0000OOOO00000000000O00000000KKKK0000K000K00OO00000000OOO0OOO00OO0OO00OOOO
cc:cloooolloolcclooooddooolodxxxdxxxxxxxxxxxkkxxxkxxkOOOOOOOOOOOOOOOO0000KKK000000OOkxxxkkkkkkkkkkOOkOkkO00OOOO00OOOOOOOO000OOOO0000000O00OOOOOOOOO0000OOOOO000O000OO000000OOOOOkO000OO00000000000OOOOOO000000OO00000KKKK0000OO000000000000000KKK000000000
clcllllllccccc::clooooooloodxxxxxdddxxxxxkkkkkxxxkkkOOOkkOOOOOOOO0OOO00000000O000OOOkkOOkkkOkkkkkkOOOOOOO00OOO00000OOOOO00OOOOOOOOOOOOOOO00OOOO000OOO00OOOOOkkOO00OOOOOOO0OOOOkkOO00OOO0000000OOOOOOOOOOO000OO0OO00000KKK0000000000KKK0000000000000OO00000
lllooollcllcc::codxxddddoddxxxxdxxxxxxxxxxxkkkkkkOOOOOOOOOOO0OOOOOOkkOOOOO000OOOOOOkkkOOkkkkOkOOOOOOOOOOOOOOOOO00000000000000OOOkkkkkkOOOOOO0000OOOOOOOOOOOOkkOOOO00OOOOOO00OOOOOOO0000000000000000OOOOOOOOOOOO000000000000000000000000000000000000OO00000
lloodlc::lollllllodddddooddxxxdddddddxxkkxxkkkkkkkkOOkOOkkOOOOOOOOOkOOOOkOO0OOOOkkOOOOOOOOOOkkOOO0000OOOOO0OOOO00K000000000000OOkkOOOOOOOkOO000OOOOOOOOOOOO0OOOOOO0OOkOOO000OkOkkkOOO000OO00000000000OOOO000000000000OOO000000OOO00O0OOOO00000000000000000
""")
mountan1_150 = ("""
,,;;;;;;;;;;;;;;;;;;;;;;;;;;;;;;;;;;;;;;;;;;;;;;;;;;;;;;;;;;;;;;;;;;;,,,,,,,,,,,,,,,,,,,,,,,,,,,,,,,,,,,,,,,,,,,,''''''''''''''''''''''''''''''''''...
;;;;;;;;;;;;;;;;;;;;;;;;;;;;;;;;;;;;;;;;;;;;;;;;;;;;;;;;;;;;;;;;;;;;;;;;;;,,,,,,,,,,,,,,,,,,,,,,,,,,,,,,,,,,,,,,,,,,,'''''''''''''''''''''''''''''''..
;;;;;;;;;;;;;;;;;;;;;;;;;;;;;;;;;;;;;;;;;;;;;;;;;;;;;;;;;;;;;;;;;;;;;;;;;;;;;;,,,,,,,,,,,,,,,,,,,,,,,,,,,,,,,,,,,,,,,,,,,'''''''''''''''''''''''''''''
;;;;;;;;;;;;;;;;;;;;;;;;;;;;;;;;;;;;;;;;;;;;;;;;;;;;;;;;;;;;;;;;;;;;;;;;;;;;;;;;;;;;,,,,,,,,,,,,,,,,,,,,,,,,,,,,,,,,,,,,,,,,,,,,''''''''''''''''''''''
;;;;;;;;;;;;;;;;;;;;;;;;;;;;;;;;;;;;;;;;:;;;;;;;;;;;;;;;;;;;;;;;;;;;;;;;;;;;;;;;;;;;;;;;;;;,,,,,,,,,,,,,,,,,,,,,,,,,,,,,,,,,,,,,,,,,''''''''''''''''''
;;;;;;;:::::::::::::::::::::::::::::::::::::::::;;;;;;;;;;;;;;;;;;;;;;;;;;;;;;;;;;;;;;;;;;;;;;;,,,,,,,,,,,,,,,,,,,,,,,,,,,,,,,,,,,,,,,,,,'''''''''''''
;;;;:::::::::::::::::::::::::::::::::::::::::::::::::;::::::;;;;;;;:cllllc:;;;;;;;;;;;;;;;;;;;;;;;;;;;,,,,,,,,,,,,,,,,,,,,,,,,,,,,,,,,,,,,,,,'''''''''
::::::::::::::::::::::::::::::::::::::::::::::ldxkOOxoc::::::::::cok0Oxdxdlcc:;;;;;;;;;;;;;;;;;;;;;;;;;;;;;;,,,,,,,,,,,,,,,,,,,,,,,,,,,,,,,,,,,,,,''''
::::::::::::::::::::::::::::::::::::::::::::::lxO00Okddxxddoc:codk0KK0OOOkxdxkxoc;;;;;;;;;;;;;;;;;;;;;;;;;;;;;;;,,,,,,,,,,,,,,,,,,,,,,,,,,,,,,,,,,,,,,
:::::::::::::::::::::::::::::::::::::::c:::::::cclcccclxkxxdolooddOK0Okkxxdodxkkxolc:;;;;;;;;;;;;;;;;;;;;;;;;;;;;;;;;;;,,,,,,,,,,,,,,,,,,,,,,,,,,,,,,,
::::::::::::::::cccccccccccccccccccccccccccccccclllodxkOOkkkdodkxOXX0Okxdolccclk000kollc:;;;;;;;;;;;;;;;;;;;;;;;;;;;;;;;;;;;,,,,,,,,,,,,,,,,,,,,,,,,,,
::::::::::cccccccccccccccccccccccccccllooodxkxxxxkkkOO0K0xolllddx00xoxxdxdollc:okddoloodoll:;:;;;;;;;;;;;;;;;;;;;;;;;;;;;;;;;;;;;;;,,,,,,,,,,,,,,,,,,,
::ccccccccccccccccccccccccccccccclodxkkOOOO000OOOkkO00KXKkxxdxxkK0dccoddoccllccdxocccclddxkl:::::;;;;;;;;;;;;;;;;;;;;;;;;;;;;;;;;;;;;;;,,,,,,,,,,,,,,,
ccccccccccccccccccccccccccccclloodxkkO0K00O00KXXXKKXXKKK0kOOOkOKXOddddoxxddxddloolllloxOKXNKkol::::::;;;;;;;;;;;;;;;;;;;;;;;;;;;;;;;;;;;;;;;;;;;;;,,,,
cccccccccccccccccccccccccccoxxdodkkxx0K0K0kdkO000K00K0000O0OOxxKXOxkkkkOkxdxoododxxk0KKXNNXK000xoc::::::::::;;;;;;;;;;;;;;;;;;;;;;;;;;;;;;;;;;;;;;;;;;
cccccccccccccccccccccccclok0KkddkOK0k0XXKOkkOOOO0XXK0O0XKKKK0O0XNXXX0kOK0OOkkO00KKKKK00XXK0OOKK00xccc::::::::::::::::::::;;;;;;;;;;;;;;;;;;:::::::;;;;
cccccccccccllllllllllodkOXNNXOk0K0Okdlx0000OkxkXWWWNXKNWWWWWWWWWWWWNOllodxO00KKXXXXXXXXNXXXXXXXXKxccoolcccccc:::::::::::::::::::::::::::::::::::::::;;
ccccccclccllllllodxO0KNWWWWNXXKKOxdk0kooOXNX0O0NWWWWWNNWWWWWWNWWWWWNklcccokO0KXXXXXXXXNNNXXXXKOOOxolldxdlcccccccccccccccc::c::::::::::::::::::::::::::
cllllllodkOOkkOO0XXXNNNWWWNKOdlooloOXOxxdd0NNNWMWWNXXXXXNWNNNNWWWWNd::c::cccd0KXXXXXKKKXXXK00OOO0OkkO0KK0OOkkxdoollllcc:::::::::::::::cccccccccccccccc
OO00000KNNNXXKKXXNNNNNNWKkollloxkxO0OOK0xdd0XNWWWWNXXXXXNNNWWWWWWWOcclc:cclllok0KKKK00KKK00OOO0KKKKKXXXXNNNNXNNXXKKXXK0Oxdodxkxxollccccllooooooooooooo
NNNNNNWWNNNNNNNNNNWWNKKKxcckOO0K000OkOOkOXXKXNNNNWWWWNNNNWWWWWWWWW0xollllcclllldOKXXXKXXKKKKKXXXXXXXXXXXNNNNNNNNNNNNNNNNNXXXNNNNNXK0OkkkkkkkOO00KKKKKK
xXNNNNNNNNNXK0KXX0OK00KXXKOkl,ckOOkkxddddxOKNWNXKXXXXXNNWWWWWWNXXKKK00OxollllllcldOKXXXXK0KXXXNNNNXXXNNNNNNNNNNNNNNNNNNXXXNXXNNNNNNNNNNNNNNWWWWWNNNNWW
.,lxOKXXXXKkdkKX0xOXNNNNWNOlcllodxkkO00OxlldkkO000OOO00KKKXX0kddOKXXXXKkdllccccccccoxOKKKK0KXXXXXXXXXXNNNNNNNNNNNNNNNNXXXXXOOKXNNNNNNNNNNNWWWWWNNNWWWW
    .'lkkxocckNNXXNNNNNNNNKddkkxdddk0KK0kxxkOxl:ldxkOOOOkxddc;:codkOOdc;;;;::cc:::::ccld00O0KKKXXXXXXXNNNNNNNNNNNNXXKO0OO00kkKXXNNNNNNNNNNNNNNNNWWWWWN
       ...'lONNX0OxdxkOKKXXOxO0KkocldookkxxOkdollodxkkOOkkxol:;;:lol:;,,,,,,,;:::;,,;;,,cx00OKXXXXXNXK0KXXXXKXXXNXXKkdkO0KKK0XNK0XNNNNNNNNNNNNNWWWWNXK
          .'cdxxdl:;loloxXNOddkKKO00OxxO0OOdc;cxOkkOOOOOOdl:lxdccl:,';:::;;;;;,,;:,'',,'';x0O0KKKKXXKxxOKX0xkKKKXKOxoldOXNNK0KNXKKKXXNNXNWNNNWWWWWNXKK
              .,;,',:;,,;od:,,:cdxk0KXXKXK0kdlokXXXXX0O0K0xl:lo:,,:cl:;;,',,;;,,,;:,'',,,,c0KkOKKXXKOxkKXXOxOKKKXKxoolokXXKOkKNWN0O0KXXXNWWWWWWWNWNK0k
                .....'',;::,,;;;;;;cokKKKX0kdkOkkOkxxl;:ldkOxo:,,,:llc:,;;;;;;,;;,:cc::::::okkk0XXK0OO0XNNKO0KK0KOolcld0NX0kOKNNXNXKXXXNWWWWWWNNWWXOkx
                  ....',,,,;;;;;,,,,',cooooc:ccoxxl,'''...,;cooccc;;clc:cc::;,;:;,,;cccc::cccldkKXNXkOKXXKKOO0OOK0kxkk0NWXOO0KNNWWNK00XNWWNWNNNWWWXK00
                    ......','''',',;;,'.'''','.';cc,''''',,,,;::::;;:lc::clll:;,,,;;::ccccc:::coONNXOOKNXX0xx00KNXOk0KXWWX00KXNWWNXXXNWWWNNNXNWWWWNX0O
......             ............,,,;;;,'..''''''..'''''''''',;;;::;;:c;,,,:c::;,,,',;;;:ccccc::ccok0K00XNWXxoOXXNN0xk0XNWWNK0KXNNNNXNWNXXXXK0XNNNNNKOko
  .......             ..........',;;,,,''...'''''''...'''...',;::;,;;,,,'''''''''''''',;,,,,;;::::ldkKXNN0k0XXKXN0O0KXNWWXKKKXNNXXXNXK0kOOOKNXKXX0xol;
    ........           ...........'',;,,''''''''''''............''''',,''''...''.............'',;:::cok0Oxx00kkXNXXXXNNWNXXXKXXXKXX0ddxxxxOK0KXKkoc:;'
       ........          ............'',,,,,'''''''''''''...'..........'''''...............'...',;;:::::cokxolkNXXXNNNNXXXXK0000KKkoxddddkkxOKOo;',;;,
         ..........  .     .............'',,'''''''''''''''','...............''.................'''',;;;;;cllldkkOKKK000KKOOkOKKkkxokxddxkkkxl,.'',;;;
 .         ............  .. .. ...............''..''''''''''''''.''............'''...................'',,;'';cc;;dOk0X0O0xd0XNWXOxdldOO0K00Ol;,,,,,,,,
........      .....................................''''''''''.'''''...'''''''....''''.............'''...''''''''';lOXNNXXKKXNNNXXK00KXNNN0xl;;;,,,,,,,
...................................................''....'''............'''''''''''''''''.......''''....''',;;,;::cldk00KKXNNNNNNNNNX0kdl;,;;,,''''''.
..................................................''...'',,,,,,'''''''''''''',,,''''''''''.......'''''''''''''',;::cccccllodxkO0Okdoc;'''..''.....''''
....................................................',,,,,,,''''''''''',,,''',,,;,'..................''...',,,,,'',,',,,,,,,,,,;,''............',,,,,,
....................................................',,,''''.'''',,,,,,,,,,;;;;;;'.............'''''''...',,,''''',,,,,,,,,,'''''...'''''''',,,,;;;;;;
....................................................','''''',,,;;::;;;;;,,;;;;;,'.........''',,,'.....'',,,''''''''',,',,,,,,',,,,,,,,,,,'..',,;;;,,;;
.................................................''..''''',,;::::;;;,'..........''''''....'''''''''''''''...'','',,,;,,,,,;,;;,',;;;,,,,,'.',,'',,''''
  ..................................... ......................'''..''...'''',,,,,,'',''.'''',;,,,,'''''''',,,,,,,,,,,,,,,,,,,,,,,;;;;;,,''''',',,,,;;;
    ..............'.''.........            .....   ......................',;;;;,,;::cc::cc:;;;;,,,,',,,,,,,,,,,,;;;;,;;;;;,,,',,;,,,''',;,,,;;;;;;,;;,
      ............'..........  ...........   ......       ............   ...''',;;;;;;;;:c:;;;;,',,,,;;,;;;;;;;;;;;;;;;;;;,,'',,,;,;:;;lc,',:,..',''''
           ...................',,,,,,'....    ...................  ............',,,;,;;;,;;;;;;;;;;;;::::;,;;,,,,;;,,,;;,,,,,,'''',;,,;;,'',,'..''';,'
            ............... ...'''...........................................'',,,;;;;;;;;::::;;;;;,;;;;,,,,'.....'..',,''''''..';,...,,',,'''.',;;;,'
  ......''','''..''...     .............''.....''..................................',,;,,,,,,,'..................'',;cc:,,,,',;;;;;,,,,,,,'',,';:;...'
 ....',;,'''....,''.................'''''..........       . ........  . ...........'..','...................,,::::::::::;'';:c::;;;;;;;;;;,;;;;c:,'',;
""")
harpy1_150 = ("""
cccccccccccccccccccccccccccccccllllcccclccllcclcllcclcccccccccccccccccccccccccccccccccccclllllllllllllllllllllllllllllllllllllllcccccccccccccccccccccc
ccccccccccccccccccccccccccccccccclllccclccllccccccccccclccccccccccccccccccccccccccccccccclllllllllllllllllllllllllllllllllllllllcccccccccccccccccccccc
ccccccccccccccccccccccccccccccccclccllcc:,;clcccclccccclccccccccccccccccccccccccccccccccccccccccclllllllllllllllllllllllllllllllcccccccccccccccccccccc
cccccccccccccccccccccccccccccccccclc;,:l;..':lc''clcccccccccccccccccccccccccccccccccccccccccccccclllllllllllllllllllllllllllllllcccccccccccccccccccccc
ccccccccccccccccccccccccccccccclcclc'..':;...;:. .:llccccccclcccccccccccccccccccccccccccccccccccccccccccllllllllllllllllllllllllcccccccccllccccccccccc
ccccccccccccccccccccccccccccccclc,';;'..',,,..';'..;cl::lcclcclcccccccccccccccccccccccccccccccccccccccccclllllllllllllllllllllllcccccccccllccccccccccc
ccccccccccccccccccccccccccccccccc,...,;,..';....',..,;'.;cccccclccccccccccccccccccccccccccccccccccccccccclllllllllllllllllllllllcccccccccllccccccccccc
cccccccccccccccccccccccccccccccccc;'','';;,..;,',,..','..,ccclccccccccccccccccccccccccccccccccccccccccccclllllllllllllllllllllllcccccccccllccccccccccc
ccccccccccccccccccccccccccccccccclc,'..::,;:c:;;:cc:;;;,..,ccllccccccccccccccccccccccccccccccccccccccccccccccccccccccccccccccccccccccccccccccccccccccc
cccccccccccccccccccccccccccccccccll;..'l:lo:cddllddllddc:;;;:llccccccccccccccccccccccccccccccccccccccccccccccccccccccccccccccccccccccccccccccccccccccc
cccccccccccccccccccccccccccccccccclc,.;dlcollccodoodddxxdolc;:lccccccccccccccccccccccccccccccccccccccccccccccccccccccccccccccccccccccccccccccccccccccc
ccccccccccccccccccccccccccccccccccll;.,c:loclooloddodxxkkxkxdlcccccccccccccccccccccccccccccccccccccccccccccccccccccccccccccccccccccccccccccccccccccccc
ccccccccccccccccccccccccccccccccccclc,.'ll:locloooodxdddoodloolllclcclcccccccccccccccccccccccccccccccccccccccccccccccccccccccccccccccccccccccccccccccc
cccccccccccccccccccccccccccccccccccll:.,lc:occolldddxdocclodooodlcllcclccccccccccccccccccccccccccccccccccccccccccccccccccccccccccccccccccccccccccccccc
cccccccccccccccccccccccccccccccccccclc'.;cccccccolodddoooxkxllddoccclcclcccccccccccccccccccccccccccccccccccccccccccccccccccccccccccccccccccccccccccccc
cccccccccccccccccccccccccccccccclccclc,.,c:ccclllooodxoloxxocldooc:clccccccccccccccccccccccccccccccccccccccccccccccccccccccccccccccccccccccccccccccccc
ccccccccccccccccccccccccccccccccccccll;..::;cclclllddxxooxdddxdllolclcclcccccccccccccccccccccccccccccccccccccccccccccccccccccccccccccccccccccccccccccc
ccccccccccccccccccccccccccccccccccccll;..,c::ccclllodxxxdddooddllolcccclcccccccccccccccccccccccccccccccccccccccccccccccccccccccccccccccccccccccccccccc
ccccccccccccccccccccccccccccccccccccclc,.'cl:olcoloddxxxxdddooodolc:cclccccccccccccccccccccccccccccccccccccccccccccccccccccccccccccccccccccccccccccccc
cccccccccccccccccccccccccccccccccccccclc;',ccclclllooooddxxkxoodoclc:ccccccccccccccccccccccccccccccccccccccccccccccccccccccccccccccccccccccccccccccccc
cccccccccccccccccccccccccccccccccccccclc,..::;c:cclllollodxdoclolllccc:cccccclllcccccccccccccccccccccccccccccccccccccccccccccccccccccccccccccccccccccc
ccccccccccccccccccccccccccccccccccllccll;..,c;:l:ccllcllooddoccloolcllcccllllcllcccccccccccccccccccccccccccccccccccccccccccccccccccccccccccccccccccccc
cccccccccccccccccccccccccccccccccccccccll;..;:;::clcllllldddollodocloollcccllccccccccccccccccccccccccccccccccccccccccccccccccccccccccccccccccccccccccc
cccccccccccccccccccccccccccccccccccccccll:'..:c:lc:ccllloodoloooddooolllcccccccccccccccccccccccccccccccccccccccccccccccccccccccccccccccccccccccccccccc
ccccccccccccccccccccccccccccccccccccccccclc..':;;cclolooooooodoloxoolcoolcccccccccllcccllccccccccccccccccccccccccccccccccccccccccccccccccccccccccccccc
cccccccccccccccccccccccccccccccccccccccccll;..'clclololllllooddlodollcooolc::cccclllcccccccccccccccccccccccccccccccccccccccccccccccccccccllccccccccccc
ccccccccccccccccccccccccccccccccccccccccccll;..':lccllllllllodoccdxdc:cooolc::cllccccllccccccccccccccccccccccccccccccccccccccccccccccccccllccccccccccc
cccccccccccccccccccccccccccccccccccccccccclll:'.';cccllccclllloccodoc:clcclll::clllllllccccccccccccccccccccccccccccccccccccccccccccccccccllccccccccccc
ccccccccccccccccccccccccccccccccccccccccccccllc;'.,:c:ccclcllllc:lollllc;;::;,,:llccccccoxdollcllccccccccccccccccccccccccccccccccccccccccccccccccccccc
ccccccccccccccccccccccccccccccccccccccccccccccllc;'.,c::cclllllc::cc:::;;;,,;codl;;:c:;:oxo:ccllcccccccccccccccccccccccccccccccccccccccccccccccccccccc
ccccccccccccccccccccccccccccccccccccccccccccccclcll,.'::ccclcc:;,,,,,,,;codddxkko,,:cc;;clc::llllccccccccccccccccccccccccccccccccccccccccccccccccccccc
ccccccccccccccccccccccccccccccccccccccccccccccccccll;'.,:::ccc;'','..;cdxkkkxdddl;'''..;:;,';cllcccccccccccccccccccccccccccccccccccccccccccccccccccccc
ccccccccccccccccccccccccccccccccccccccccccccccccclcllc'.':;;::;,''',:ldxdolllcllll:,''';;,',:lllcccclccccccccccccccccccccccccccccccccccccccccccccccccc
ccccccccccccccccccccccccccccccccccccccccccccccccccccllc;'.,,,,'',;codoolloc:::::::::::::;:::clllclllllllccccccccccccccccclllllllcccccccccccccccccccccc
cccccccccccccccccccccccccccccccccccccccccccccccllcccclllc;','.,::cddollc;;,,,,',;;;:::cc:cc:clllcllllllllllllllllcccccccclllllllcccccccccccccccccccccc
ccccccccccccccccccccccccccccccccccccccccccccccclccllclcclc:;;::;:odllc:;,,,,,,,,;;;;::ccclllolllcllllllllllllllllcccccccclllllllcccccccccccccccccccccc
cccccccccccccccccccccccccccccccclcccccccccllcccccllllooollll::c:collc::;'''.',;;,,;:::loollddddoolllccccccllllccccllccclllllllllcccccccccccccccccccccc
llllllllllllllllllllllllllllllllllcclllcllcllloooddddooolodoc:::lolccc:'...'',;:;;ccclddollodxxdddddolllllllcllcclllllllclllllllcccccccccccccccccccccc
lllllllllllllllllllllllllllllllllclcll:;;cddlldxdodocclddddoc;;cllccc:;,,;;:;:::cclclodxxxkkxxxxxddxdoooolloolcllllcclllllllllllcccccccccccccccccccccc
llllllllllllllllllllllllllllllllccllll;..;ll::cooccclodddolc:::cccc:;;:clooolcllodddxdodxddxxdddxxkkxddoolloololcclllcclllllllllcccccccccccccccccccccc
llllllllllllllllllllllllllllllllcllcll;...,lc,;col;coolc::;:cllccc::clc:clllloooddddxxdxkxxkxdoooddodxxdodddooddlcccclcllllllllccccccccccccccccccccccc
lllllllllllllllllllllllllllllllllclcllc,...:o;.';cllc:;,;:;;coddddoollc,.,clllloodoododddddxxxxddddddxkxodkkddxxddoooolllllllccllccccccccccccccccccccc
lllllllllllllllllllllllllllllllllcllcll:....:o;...:ll;,,:cllddxxdxdlllll;''';:cllloooddoodddodddddxkxkOxdxkddxxdxxkOxldxolccllcclccccccccccccccccccccc
llllllllllllllllllllllllllllllllllclcccl:.. .,lc,',;:clllooooddddollllclllc:;'';cllloooooodooddolodxxkkkkkdxkxk0Odk0OxxOxocccllllccccccccccccccccccccc
llllllllllllllllllllllllllllllllllcclcclc,.  ..:ll,..'codddooddoollllclllcodol;'.,cllllloollodllodddxxxxkxxxxdkkdlxkkOkkxdl;:;,:cllllccccccccccccccccc
llllllllllllllllllllllllllllllllllllllllllc;.....;:;:c:;;;codxdlccclllllllcclooc;'.':ccllccoollooloxdddddddxxxkkxxxkxxxxxkxc:;,:clllcccccccccccccccccc
llllllllllllllllllllllllllllllllllllllllllll:'..  ..,clclllooccllllllllllllllccloc:,..,;;:llccllloodoloooooododxdxdxxdxxxxdl;,.';;clcccccccccccccccccc
lllllllllllllllllllllllllllllllllllllllllclllc:,','.....,::lllllllllllllllccllclllolc:;'.',,;::clllolcoooollolodddxddddddxxl:,,;;;cccclccccccccccccccc
llllllllllllllllllllllllllllllllllllllllllclllllllc:::,,;;,,:lllllllllllllllllcllllcllolc:;,;'.,,;cc:cllcllclooododddddddlc:;'',;clccccccccccccccccccc
lllllllllllllllllllllllllllllllllllllllllllllllllllllllllllclllllllllllllllllllllllllllllolllc:::;,'.',,;ccclolodoldddddo::;;,,'.';ccclccccccccccccccc
lllllllllllllllllllllllllllllllllllllllllllllllllllllllllllllllllllllllllllllllllllllllllllclllllllc:;;;,,,,;::;:cllloddl:;;,,;::::clcllcccccccccccccc
llllllllllllllllllllllllllllllllllllllllllllllllllllllllllllllclllllllllllllllllllllllllllllllllllllllllcclcc::;,;:::;:cc:;;;,..,cllcccllccccccccccccc
llllllllllllllllllllllllllllllllllllllllllllllllllllllllllllllllllllllllllllllllllllllllllllllllllllllllllllllllllc:;'.,;;'.;:;,,:clcccccccccccccccccc
lllllllllllllllllllllllllllllllllllllllllllllllllllllllllllllllllllllllllllllllllllllllllllllllllllllllllllllllllllllcccc:,.':llcllccclccllccccccccccc
llllllllllllllllllllllllllllllllllllllllllllllllllllllllllllllllllllllllllllllllllllllllllllllllllllllllllllllllllllllllllccccllllllclllcllccccccccccc
llllllllllllllllllllllllllllllllllllllllllllllllllllllllllllllllllllllllllllllllllllllllllllllllllllllllllllllllllllllllllcllllccllllccllllccccccccccc
llllllllllllllllllllllllllllllllllllllllllllllllllllllllllllllllllllllllllllllllllllllllllllllllllllllllllllllllllllllllllllllclllllllcccccccccccccccc
""")
beach1_250 = ("""
WWWWWWWWWWWWWWWWWWWWWWWWWWWMMMMMMMMMMMMMMMMMMMMMMMMMMMMMMMMMMMMMMMMMMMMMMMMMMMMMMMMMMMMMMMMMMMMMMMMMMMMMMMMMMMMMMMMMMMMMMMMMMMMMMMMMMMMMMMMMMMMMMMMMMMMMMMMMMMMMMMMMMMMMMMMMMMMMMMMMMMMMMMMMMMMMMMMMMMMMMMMMMMMMMMMMMMMMMMMMMMMMMMMMMMMMMMMMMMMMMMMMMMMMMM
NNWWWWWWWWWWWWWWWWWWWWWWWWWWWMMMMMMMMMMMMMMMMMMMMMMMMMMMMMMMMMMMMMMMMMMMMMMMMMMMMMMMMMMMMMMMMMMMMMMMMMMMMMMMMMMMMMMMMMMMMMMMMMMMMMMMMMMMMMMMMMMMMMMMMMMMMMMMMMMMMMMMMMMMMMMMMMMMMMMMMMMMMMMMMMMMMMMMMMMMMMMMMMMMMMMMMMMMMMMMMMMMMMMMMMMMMMMMMMMMMMMMMMMMMM
NNNNNNWWWWWWWWWWWWWWWWWWWWWWWWWWWMMMMMMMMMMMMMMMMMMMMMMMMMMMMMMMMMMMMMMMMMMMMMMMMMMMMMMMMMMMMMMMMMMMMMMMMMMMMMMMMMMMMMMMMMMMMMMMMMMMMMMMMMMMMMMMMMMMMMMMMMMMMMMMMMMMMMMMMMMMMMMMMMMMMMMMMMMMMMMMMMMMMMMMMMMMMMMMMMMMMMMMMMMMMMMMMMMMMMMMMMMMMMMMMMMMMMMMMM
NNNNNWWWWWWWWWWWWWWWWWWWWWWWWWWWWWWWWWWWWWMMMMMMMMMMMMMMMMMMMMMMMMMMMMMMMMMMMMMMMMMMMMMMMMMMMMMMMMMMMMMMMMMMMMMMMMMMMMMMMMMMMMMMMMMMMMMMMMMMMMMMMMMMMMMMMMMMMMMMMMMMMMMMMMMMMMMMMMMMMMMMMMMMMMMMMMMMMMMMMMMMMMMMMMMMMMMMMMMMMMMMMMMMMMMMMMMMMMMMMMMMMMMMMM
NNNNNNNNNNWWWWWWWWWWWWWWWWWWWWWWWWWWWWWWWWWMMMMMMMMMMMMMMMMMMMMMMMMMMMMMMMMMMMMMMMMMMMMMMMMMMMMMMMMMMMMMMMMMMMMMMMMMMMMMMMMMMMMMMMMMMMMMMMMMMMMMMMMMMMMMMMMMMMMMMMMMMMMMMMMMMMMMMMMMMMMMMMMMMMMMMMMMMMMMMMMMMMMMMMMMMMMMMMMMMMMMMMMMMMMMMMMMMMMMMMMMMMMMMM
NNNNNNNNNNNWWWWWWWWWWWWWWWWWWWWWWWWWWWWWWWWWWWWWWWMMMMMMMMMMMMMMMMMMMMMMMMMMMMMMMMMMMMMMMMMMMMMMMMMMMMMMMMMMMMMMMMMMMMMMMMMMMMMMMMMMMMMMMMMMMMMMMMMMMMMMMMMMMMMMMMMMMMMMMMMMMMMMMMMMMMMMMMMMMMMMMMMMMMMMMMMMMMMMMMMMMMMMMMMMMMMMMMMMMMMMMMMMMMMMMMMMMMMMMM
NNNNNNNNNNNNNWWWWWWWWWWWWWWWWWWWWWWWWWWWWWWWWWWWWWWWWWMMMMMMMMMMMMMMMMMMMMMMMMMMMMMMMMMMMMMMMMMMMMMMMMMMMMMMMMMMMMMMMMMMMMMMMMMMMMMMMMMMMMMMMMMMMMMMMMMMMMMMMMMMMMMMMMMMMMMMMMMMMMMMMMMMMMMMMMMMMMMMMMMMMMMMMMMMMMMMMMMMMMMMMMMMMMMMMMMMMMMMMMMMMMMMMMMMMM
NNNNNNNNNNNNNNNNNNNNWWWWWWWWWWWWWWWWWWWWWWWWWWWWWWWWWWWWWWWMMMMMMMMMMMMMMMMMMMMMMMMMMMMMMMMMMMMMMMMMMMMMMMMMMMMMMMMMMMMMMMMMMMMMMMMMMMMMMMMMMMMMMMMMMMMMMMMMMMMMMMMMMMMMMMMMMMMMMMMMMMMMMMMMMMMMMMMMMMMMMMMMMMMMMMMMMMMMMMMMMMMMMMMMMMMMMMMMMMMMMMMMMMMMMM
NNNNNNNNNNNNNNNNNNNNNNNWWWWWWWWWWWWWWWWWWWWWWWWWWWWWWWWWWWWWWWWWMMMMMMMMMMMMMMMMMMMMMMMMMMMMMMMMMMMMMMMMMMMMMMMMMMMMMMMMMMMMMMMMMMMMMMMMMMMMMMMMMMMMMMMMMMMMMMMMMMMMMMMMMMMMMMMMMMMMMMMMMMMMMMMMMMMMMMMMMMMMMMMMMMMMMMMMMMMMMMMMMMMMMMMMMMMMMMMMMMMMMMMMMM
NNNNNNNNNNNNNNNNNNNNNNNNNNWWWWWWWWWWWWWWWWWWWWWWWWWWWWWWWWWWWWWWWWWMMMMMMMMMMMMMMMMMMMMMMMMMMMMMMMMMMMMMMMMMMMMMMMMMMMMMMMMMMMMMMMMMMMMMMMMMMMMMMMMMMMMMMMMMMMMMMMMMMMMMMMMMMMMMMMMMMMMMMMMMMMMMMMMMMMMMMMMMMMMMMMMMMMMMMMMMMMMMMMMMMMMMMMMMMMMMMMMMMMMMMM
NNNNNNNNNNNNNNNNNNNNNNNNNNNNNWWWWWWWWWWWWWWWWWWWWWWWWWWWWWWWWWWWWWWWWMMMMMMMMMMMMMMMMMMMMMMMMMMMMMMMMMMMMMMMMMMMMMMMMMMMMMMMMMMMMMMMMMMMMMMMMMMMMMMMMMMMMMMMMMMMMMMMMMMMMMMMMMMMMMMMMMMMMMMMMMMMMMMMMMMMMMMMMMMMMMMMMMMMMMMMMMMMMMMMMMMMMMMMMMMMMMMMMMMMMM
NNNNNNNNNNNNNNNNNNNNNNNNNNNNNNNNNNWWWWWWWWWWWWWWWWWWWWWWWWWWWWWWWWWWWWWWMMMMMMMMMMMMMMMMMMMMMMMMMMMMMMMMMMMMMMMMMMMMMMMMMMMMMMMMMMMMMMMMMMMMMMMMMMMMMMMMMMMMMMMMMMMMMMMMMMMMMMMMMMMMMMMMMMMMMMMMMMMMMMMMMMMMMMMMMMMMMMMMMMMMMMMMMMMMMMMMMMMMMMMMMMMMMMMMMM
XXNNNNNNNNNNNNNNNNNNNNNNNNNNNNNNNNNWWWWWWWWWWWWWWWWWWWWWWWWWWWWWWWWWWWWWWWMMMMMMMMMMMMMMMMMMMMMMMMMMMMMMMMMMMMMMMMMMMMMMMMMMMMMMMMMMMMMMMMMMMMMMMMMMMMMMMMMMMMMMMMMMMMMMMMMMMMMMMMMMMMMMMMMMMMMMMMMMMMMMMMMMMMMMMMMMMMMMMMMMMMMMMMMMMMMMMMMMMMMMMMMMMMMMMM
XXXXXNNNNNNNNNNNNNNNNNNNNNNNNNNNNNNNNWWWWWWWWWWWWWWWWWWWWWWWWWWWWWWWWWWWWWWWWMMMMMMMMMMMMMMMMMMMMMMMMMMMMMMMMMMMMMMMMMMMMMMMMMMMMMMMMMMMMMMMMMMMMMMMMMMMMMMMMMMMMMMMMMMMMMMMMMMMMMMMMMMMMMMMMMMMMMMMMMMMMMMMMMMMMMMMMMMMMMMMMMMMMMMMMMMMMMMMMMMMMMMMMMMMMM
XXXXNNNNNNNNNNNNNNNNNNNNNNNNNNNNNNNNNNNWWWWWWWWWWWWWWWWWWWWWWWWWWWWWWWWWWWWWWWWWWWMMMMMMMMMMMMMMMMMMMMMMMMMMMMMMMMMMMMMMMMMMMMMMMMMMMMMMMMMMMMMMMMMMMMMMMMMMMMMMMMMMMMMMMMMMMMMMMMMMMMMMMMMMMMMMMMMMMMMMMMMMMMMMMMMMMMMMMMMMMMMMMMMMMMMMMMMMMMMMMMMMMMMMMM
XXXXXXXXNNNNNNNNNNNNNNNNNNNNNNNNNNNNNNNNNNNNWWWWWWWWWWWWWWWWWWWWWWWWWWWWWWWWWWWWWWWWMMMMMMMMMMMMMMMMMMMMMMMMMMMMMMMMMMMMMMMMMMMMMMMMMMMMMMMMMMMMMMMMMMMMMMMMMMMMMMMMMMMMMMMMMMMMMMMMMMMMMMMMMMMMMMMMMMMMMMMMMMMMMMMMMMMMMMMMMMMMMMMMMMMMMMMMMMMMMMMMMMMMMM
XXXXXXXXXXNNNNNNNNNNNNNNNNNNNNNNNNNNNNNNNNNNNNWWWWWWWWWWWWWWWWWWWWWWWWWWWWWWWWWWWWWWWWWWMMMMMMMMMMMMMMMMMMMMMMMMMMMMMMMMMMMMMMMMMMMMMMMMMMMMMMMMMMMMMMMMMMMMMMMMMMMMMMMMMMMMMMMMMMMMMMMMMMMMMMMMMMMMMMMMMMMMMMMMMMMMMMMMMMMMMMMMMMMMMMMMMMMMMMMMMMMMMMMMMM
XXXXXXXXXXXXXNNNNNNNNNNNNNNNNNNNNNNNNNNNNNNNNNNNWWWWWWWWWWWWWWWWWWWWWWWWWWWWWWWWWWWWWWWWWWWMMMMMMMMMMMMMMMMMMMMMMMMMMMMMMMMMMMWNXK0K00KKKXNXNXXNWMMMMMMMMMMMMMMMMMMMMMMMMMMMMMMMMMMMMMMMMMMMMMMMMMMMMMMMMMMMMMMMMMMMMMMMMMMMMMMMMMMMMMMMMMMMMMMMMMMMMMMMMM
XXXXXXXXXXXXXXXXNNNNNNNNNNNNNNNNNNNNNNNNNNNNNNNNNNNNWWWWWWWWWWWWWWWWWWWWWWWWWWWWWWWWWWWWWWWWWWWWWMMMMMMMMMMMMMMMMMMMMMMMMWWNKOkdocclccclldocccloxOKNWMMMMMMMMMMMMMMMMMMMMMMMMMMMMMMMMMMMMMMMMMMMMMMMMMMMMMMMMMMMMMMMMMMMMMMMMMMMMMMMMMMMMMMMMMMMMMMMMMMMMM
XXXXXXXXXXXXXXXXXXXXXXNNNNNNNNNNNNNNNNNNNNNNNNNNNNNNNNNNWWWWWWWWWWWWWWWWWWWWWWWWWWWWWWWWWWWWWWWWWWWMMMMMMMMMMMMMMMMMMWNKOxdollcc:::cc::::c:;;;;:clodOXWWWWMMMMMMMMMMMMMMMMMMMMMMMMMMMMMMMMMMMMMMMMMMMMMMMMMMMMMMMMMMMMMMMMMMMMMMMMMMMMMMMMMMMMMMMMMMMMMMMM
KKXXXXXXXXXXXXXXXXXXXXXXXNNNNNNNNNNNNNNNNNNNNNNNNNNNNNNNNNNNNWWNNNNWWWWWWWWWWWWWWWWWWWWWWWWWWWWWWWWWWMMMMMWWMMMWNKOkxdolc:::;;;:::;:c:;;;;;;,;;;:cllldkOOkk0XWWMMMMMMMMMMMMMMMMMMMMMMMMMMMMMMMMMMMMMMMMMMMMMMMMMMMMMMMMMMMMMMMMMMMMMMMMMMMMMMMMMMMMMMMMMMM
KKKKKKKXXXXXXXXXXXXXXXXXXXNXXXNNNNNNNNNNNNNNNNNNNNNNNNNNNNNNNNNNNNNNNNNNNNNNWWWWWWWWWWWWWWWWWWWWWNWWNXK00KXXKOkdol::::::::;;;;;;:;;;::;;;;;,,,;;;:::cloxdlllodOXWMMMMMMMMMMMMMMMMMMMMMMMMMMMMMMMMMMMMMMMMMMMMMMMMMMMMMMMMMMMMMMMMMMMMMMMMMMMMMMMMMMMMMMMMM
KKKKKKXKKXXXXXXXXXXXXXXXXXXXXXXXXNNXXXNNNNNNNNNNNNNNNNNNNNNNNNNNNNNNNNNNNNNNNNNWWNNWWNX0OOOkxxddddddolccccllcc:::::;;;;;::;;;;;::;,;;::;;;,,,,,,;::;:cldolloolloONMMMMMMMMMMMMMMMMMMMMMMMMMMMMMMMMMMMMMMMMMMMMMMMMMMMMMMMMMMMMMMMMMMMMMMMMMMMMMMMMMMMMMMMM
KKXXXXXXXXXXXXXXXXXXXXXXXXXXXXXXXXXXXNXXXXXXXNNNNNNNNNNNNNNNNNNNNNNNNNNNNNNNNNNNNNXKkolc::::;::;;;;;;:::::::::::;;,,,,;;:::::::;;;;;;:;,,,,,,,,,;;;,,;:llllooooloOWMMMMMMMMMMMMMMMMMMMMMMMMMMMMMMMMMMMMMMMMMMMMMMMMMMMMMMMMMMMMMMMMMMMMMMMMMMMMMMMMMMMMMMM
XXXXXXXXXXXXXXXXXXXXXXXXXXXXXXXXXXXXXXXXXXXXXXXXXNNNNNNNNNNNNNNNXXXXK000000Oxxddddoc:;;;,;::;;,,,,,',;;;;;;;;;;;;;;,,,,;:::::::;,,;::;,,,,,,,,,,;;;;;,;;:cloooooloONMMMMMMMMMMMMMMMMMMMMMMMMMMMMMMMMMMMMMMMMMMMMMMMMMMMMMMMMMMMMMMMMMMMMMMMMMMMMMMMMMMMMMM
XKKXXXXXXXXXXXXXXXXXXXXXXXXXXXXXXXXXXXXXXXXXXXNNXNNNNNNNNXXK0Okxdxdocllcllool:;,:c:::;;,'.',::;,,,,''',,,;;;;;;:;,,;;;;;;::::::;;;;::;;;,,,,,'',,,,,,;;;;;cooolloooONMMMMMMMMMMMMMMMMMMMMMMMMMMMMMMMMMMMMMMMMMMMMMMMMMMMMMMMMMMMMMMMMMMMMMMMMMMMMMMMMMMMMM
KKKKXXXXXXXXXXXXXXXXXXXXXXXXXXXXXXXXXXXKK0OOOkkxxxxxxkkkxdollllc:ll:;;;;:llcc::cc::cc:;;,'''';::;,''''',',,,,;,,;,,,,;;,;;;:cc:::::;;;;,',,,,''',,,',,,;;,;clc:cooodkXWMMMMMMMMMMMMMMMMMMMMMMMMMMMMMMMMMMMMMMMMMMMMMMMMMMMMMMMMMMMMMMMMMMMMMMMMMMMMMMMMMMM
KKKKKKKXXXKKXXXXXXXXXXXXXXXXXXXXXXK0kdool::::,,;;;,',,,;,;:cclc:;;,,',;,,;cc:;:c:;:c::c:;'''',;::;;,,,;;;;;,;;;;;;;,,,;;::;;;;;::::;;;::;;;,,,'''''',,,,,,,,;;;;:clooxOOKWMMMMMMMMMMMMMMMMMMMMMMMMMMMMMMMMMMMMMMMMMMMMMMMMMMMMMMMMMMMMMMMMMMMMMMMMMMMMMMMM
KKKKKKKKKKKKKKXXXXXXXXXXXXXXXXK0Odl:;;;:::,,'',;;''',,;,',:c::cc:,'''.''',;;;;,,;::::::;;,'''';::::;,;;:::::::::::cc;,;::::cc::;;:::::::::::;;,''''',,''',,,,,,,,;:coooodkKWMMMMMMMMMMMMMMMMMMMMMMMMMMMMMMMMMMMMMMMMMMMMMMMMMMMMMMMMMMMMMMMMMMMMMMMMMMMMMM
KKKKKKKKKKKKKKKXXXXXXXXXXXX0kdlc;;;;,,::,'..',;,''''','''';;;cc::;'''..',,,,;;,'';::::;;,,''''',;;;,'''',;::c:::;;;:::;,;;;:cllc:::::::;,;;:::;,'',,,,'''',,,,;;;;;;:loolldOKKKKXXWWMMMMMMMMMMMMMMMMMMMMMMMMMMMMMMMMMMMMMMMMMMMMMMMMMMMMMMMMMMMMMMMMMMMMMM
KKKKKKKKKKKKKKKKKKKKXXKKKKx:,;;,'',,;;:,....,;;,''','',;,;;,;c:;;,,;,..,;,;:;,,,,:c:;;;;,;,.''',,,,,'....',,;:ccc:::::;;;;;;:cccc:;::;::;,;;;;;,''''','''''',,,,,,;;:ccllllloooloox0NMMMMMMMMMMMMMMMMMMMMMMMMMMMMMMMMMMMMMMMMMMMMMMMMMMMMMMMMMMMMMMMMMMMMM
KKKKKKKKKKKKKKKKKKKKKKKOdl:,,,'',,,''''....,;,.'..''',;;;::,;:;;,,;:;'';;,:lc:::;;cc:;;,,,''',,,,,;,'....'..,;ccc:::ccc:;;,,;;::::;;;;;:c:,,;;:;''''''.'''''''''',;;;:::cllllllllcllxXWMMMMMMMMMMMMMMMMMMMMMMMMMMMMMMMMMMMMMMMMMMMMMMMMMMMMMMMMMMMMMMMMMMM
KKKKKKKKKKKKKKKKKKKKK0d;',,'',,;,'.......',;,....'',,;;,;::,;;;;;,,,'..',;;;ccc:;,;:c:;,,'''',,',,,'''.......,;:ccc:;::::;''',,;;;;;;;;;cc;,;;;:;,,,,'''''''''''',,'',;;;:cclclllllllxNMMMMMMMMMMMMMMMMMMMMMMMMMMMMMMMMMMMMMMMMMMMMMMMMMMMMMMMMMMMMMMMMMMM
KKKKKKKKKKKKKKKKKKKKxc;,;;'.,::,,,.......,;,...',,;,',,,;::;;;;,''''.....,;,;::::;;:c:;,,,'..','',''''........',,;;;;,;:;;;,',,;;;;;,;;;:cc:;;;::::;,''''..'''''''''''',,',;clllllllloONMMMMMMMMMMMMMMMMMMMMMMMMMMMMMMMMMMMMMMMMMMMMMMMMMMMMMMMMMMMMMMMMMM
KKKKKKKKKKKKKKKKKKKx;';;;,'';:;;;'......',,'..',,,,',;,,;;;;,'''''........'',::::::;;;;;,,''..''''..'.......,;,',;,,,,;:;;;;,',;::;,',;;;:c:;,;;;;;;:;'''...'''.....'''''''',:lolllclodONMMMMMMMMMMMWWNXKNMWNXNMMMMMMMMMMMMMMMMMMMMMMMMMMMMMMMMMMMMMMMMMMM
KKKKKKKKKKKKKKKKKOl;,,;;;,..,,......''.''''..,,,;,'';,'',,,'..........'.....';::;::;;,,;,'''.......'.......',;,'';:;;;;::::c;;;;:::;;;;:::c:;,;;,,,,,;;,'...'...''..''.....',;:odloollldONWMWMMMMMWN0xddoxOkdoxKWMMMMMMMMMMMMMMMMMMMMMMMMMMMMMMMMMMMMMMMMM
KKKKKKKKKKKKKKK0kc,;;;;;;'............','.'',,,,,'....''''..................',:;;;;;,,,,,,'''......'...'...','...,:c::::::cccc:::c::::::::cc;,;:;;,,,,;:;'..........''..''',;,;coololcclox0NMMMMMWKxlllllcclllldKMMMMMMMMMMMMMMMMMMMMMMMMMMMMMMMMMMMMMMMMM
KKKKKKKKKKKKKKOc,,;;;''''.................',;;;,'.....''.....................';:;::;;,,,,,,,'.''...'......'''''..';:::::::ccccccccc:;;;;::cc:,,;;;;;;,',;;'...............','',;cc:cc::cccoONWWNXOoccccccccclcclxXMMMMMMMMMMMMMMMMMMMMMMMMMWNXKKXXKKXNNXXN
000KKKKKKKKKKO:.'',,'..'.................',;::,,'...'....'..................'..;:::;;;;;;,,,,'....''....''....''''.,::::::::::::ccc:;;,,;;;cc;,;;,',;,''',;,''...............''',;clc:;;:;:ldxddlcc::::::cccccccl0MMMMMMMMMMMMMMMMMWNXXWN0kdlccclcccllllld
0000000000KKxc'.''.....................',;::;;;,..'''...''.....................'''',,,''''','..........',''..',;;,'';cc:::;;;::cccc:;,;;;;;:lc;;:;,'',,'',;;,,,''..........'''''',:ll:;;:::::ccc:::cc::ccc::ccc:l0MMMMMMMMMMMWNXKOkdl::ll:,,,;;;::ccclcc::
000000000Okdc'......''................';;;;,',,.............''...'.....''..'....'',,''''''''...........''''''',;,'''';::;;;;::cccccc:;;;;;;:cc;;:c:;;;;,,,,,,,,,,,,'''...''..'''',;;::::::::::::c:::cc::::::ccc:dXMMMMWMMWNKOxoc;,,,,,,'',,,,;::::ccc::;;,
OOOOO0000x:,,'','''..................':c:;'.''..............'''',;,...',::;;;,;;''..''.''''.......''...'''''',,,,''''',;:;;;;::::ccccc:;:::::c::::ccc::;,,,,,,,,,,;::;;,,;;,,'',,'',,;:ccc::::::cc:ccc::cc:::ccckWMWWWNX0koc::;;,,'',,;;;;;::::cccc:cll:,,
0000000Oko;'..',;;:,.................':c:,..'''............,,,,,;,'...':cc:;::::'..................''..'''''',,,'''''.'',,,''.',:::cccc:;:c::c:;:::ccc:::;;;;;,,;,,;;;:;;;::;,,;;:;;;;;::cllc::::::c:;;:c::::::l0WWN0dol::;;;,''''',,,,;;:::::::cllooc:,''
0000000kc,'...';;;;,,''','..'''''.',,,;c:'..,,'''..',,,,,',,,,''',...',,;;;;;:;,''''''...................'..',''..'.','''''.....',,:::c:,,;::c:;;;;;::::::;;;;;,,,,;:::;;;;::;;;;;:llllccc:clolc:;::;;:oc;;;:ccldxdoc:::;;,,'''',,,;,,,,,,,;;:cloxxdl;,'''
OOOO0Odc,.....',,,,,'',;;,,,''''.',,;;:c:,...''''...,;;;,',;;,'.'...,;,,;,,,,;,,;;;,,,,,,,''................'''..'''',,;;,''....''..,;:c:,,;;:;;:;;;;;:::::;;;;;;;,,,;;;:;;:cc:;;;;:lodxxkxxdoddlclc;:cllclllllc:::;;;,,,,,;;;;;::::ccccclddxxoccdoc:;,'''
kkkkOd,''......','''..,;;,,'.....;:lccollc;'.;;'''.',,,;::::,,''''..,::;:::;,,:cc::;;,',,,,'....'.........'''...''''',;;;,'''...'....';::;,;;::;;;;;;;;::;::::;;;;,,,,,;;;,;::::;;,'''',;:cc::lcc::cccclllllc:;,,,,'''''',,;,,;;clooddolodxdoc:;,;;;:c:;;,
OOOOOd,........',,....''.',''','.,cllloooc:;,';:c:,,;::::::;;;,;;,'',;;;::c;',;:cccc:;,,,,,,'.........''.'''...''.'',;,,''.....''.....';:::;;:::;;;;;;;;;;;;::;;,,,,,,,,,,,,,',,,,'''.',,,:cccc;:ccccclccc:;;;;;;;,,,,,,;;:ccclclooc:c:;,;;::;,,,',:ooc,;;
OOOOko,........,:;''.',,''''.';:'';clclool:;;'.'cc:::;;;;:;,;;;;;;;;;;;;::;;,;:;::::;;,,,,,,,,'.......''''......'''''''''''''...'......';:;;;::::,',;,,,,,,,;;;;;;;,;;,,,,''''''',,,,,,;:coolcccccccccc::;;;::;;;:;,',;;;cllcccccc:;;;;,,;;::;,,,,,clc;,,,
00ko:'....... .,;;,'.'...',,,',:;,,,;;cllc;;;;..';;,,,,,;,,,,,;;,,;;,,,,;;,,,,,,,;;;,,,,,,,',,'.......''''..'..'''''.......''''',,'....',;,',;:;;;'',,,,,','''',,''''',,,;;;;::c:cccccc::ccc:::::::cllcc::cc::;::::;;;,,;::::::;;;;;,,''',,:llclooc::;,'',
kxc,'..........,,,,'''...',,',;:;;;,,;:cc:;,,'....'''''''',,,,,,,,,,,,,,,''',,,,,,,'''''''''',........'''.....''''''''''...',;,'........,;,',;;;;;,'''''''''',;::::cccc::ccllllcccccccclloool:,,,;:cccc::c:;;;;;::::;,,''',,;;::;;;,,''',,,:ldddxdc;;;,'''
,'............',,'..''...',''';::;,;;,,'''',,,'.........'',,,,,',,,,''',,,,,;,,,,,''''''..............'......''..'''........',,'........',,,,;;,,,''',;::cc:;:ccc:c::::::::ccclooooddolllc:::;::clcccc::c:,',;;::;;;,,''''',;;:c:;,,;,,;:::cloooll:;;;,,''
..............';;,''''...'''''',;;;;;;,'''''',,,,''...'....'''''''''''.'',,,;,',,'''''.......................''.''..'.......''''..'......',,'',,;:::codolccc;;,',,,,;:;;,',clclddddolc:::;;:cloool::cclc;,,,;;::;;;,,''''',;;;;:;;:::::cccllllcccc;',;;,''
...............,;,'''''..''',,',,,;,,;,,,,'..',''''''',,'.......''....''''.',;,'',,''''........................''..''......'........''.....'.',;cllllcc:;,'',,,'',;;;,,;;;;;:::::::;;;;;;;cllllllc::ccc:,',;::;,,'','',,,;;;;;;;;;::ccccc:c:::;;c:,'',;;;;
...............,,''..''.,,';;',;;;,',;,,,'...'...................''''',,,'...'',,,,,'''...,'...............'''..'.........','....''.'''.....';::,''',,',,,,;;;:ccccc::::;;,;;;;;;;;;;,;;cllllccllc::::;;;;::;,,,'''',,,,,,,;;::;:::c::cl:;;;,,,:c;,,,',;::
................''...''','',;;;;;;,',''''''.....................................'.........''..............'''......''''....''''..',,'''''..',;;,..''',',;;:;::cccllc;,;;;;;,,,,,,;;;;;:ccclllccll::::;::cc:,,,,,,',,,,,,,;,,,;;::cc:cllcc:,,,',,,'',,;,',,
  ...  .. ..............'...,;,''''','..............................................................'''....'...'..'.'..............''...'''',:;,'.',,,,,,,,;;;;;;;;;,,;::;,,,,,;;;;;:clcccllcccc::::ccccc::;;::;,;;;,;,;;;;;;;;::::::c:;::,,;;;,'..''...',
............................'''...........'.......................'''.....................',,''''',,;;,,'''.......,................''......',;;,,'..',;;;;,,,,'''',;;::;,,,,,;;;;;:lolcccllccc::;:cllc:;;:;:::;;;;;;;;;::::::::::::;;;;,',;;:::::;,'....',
..........................'''........'........................................',,'',;;,;;;;;;:::;;,,;;,,,,,''''.''..''.............'......',,:c;,'',;:::;,'''',,;;:;;;;,,;;;;;,;coddlccccc:::::lloollc:::::::;;;;;;:::::::::::c::;;;;;;,,,,,;:;;:;;,''',;;
.....................''..'''''''''''...''''''..,:;,....'''......'''.....''',,;;;;;;clc::;;;;;:::::::::;;;;;,,,,''..',..,...............',,,,,;;,,;cc::::,',,;;::::;,,,;;:;;;;:codxdlcccc::;:looddoooollc:;;;::::::c:::::;:;:ccc::;:;;;;,,,',;::;;,,;;:::;;
...............................................';:;'...','.....',;:;;;;:c;,,;:cllllloollllllccc::cc:::ccc::c::;,''''...'.............',;;,,,,'.,::::::;;;;;:::::;;;;;,;;;;:cloddlcc:::::clddxxdoooollcccc:;;:cccccc:::c:ccccc::;,;;;;,,''',;:;;,,'''',;;;;
'..................................................''.......'''''',,,,;;;;;;;cloolloooloddddddooddoolcclllllc:::;;;,'''............',::;,,,''',ccc::ccc::::;;;;:;;;;;,,;:clccl::clc::coxdddxxddolcc:::;:ccclc:::::::::cll:;;::;'''.......','..,;,'''..''',
:;,'''''''''''''''''''''...................................'''''''',,,''''',:lloolllllc:cooooodollccloolllllc::ccccc:::clc:;,''.',;;:c;''..,clcc::lc:::;;;;;;:::::;,;:cooc:;;cc:cccloxkkxdddolllllc:::cccllc;;,;;;;:c::;;,'',,'.'''''''',,'..',;;;,,''.'',
c:;,,',,,,,,,,,,'''''''''................................''''''..',;;;;;,'.'';;;:::c:cc:;cc::c:,,;;;,;cddooollodddddddxxxxxxddoccllc:::;;;,,:ccccloc;,,,,;:cccccc::clooolllccllclodxkOOkxxollcccllc:::ccc:::;,,,,;;;;,'..',,,,,'''',,,,;::;,,;;;;:;;,,;;;,
cc:;,''''''''''''''''''''''''''''''''........................'''',,,;;;,,,..',,'',;,'',,';:;,:c:cccclodddooddxxxxxdddddddxkkkkxxdooddxkxdoollddllll:;,,:cclllollllllll:;;:llooooodkkkkxdooolllccllcccll:;;;:c:;;;;,''.',,,,'',;;;,,;:clllc;;;,,,,;;;;,,,,,
lc:;;,,,'''''''''''''''''''............................................'','',,,,,,,,;;:clodolollllllloooooddxdddodddoooooddxkkkxkkkOOkOOkkOOkkkxddxoc:ll::::clollllllc::clollodddxdol:;;;:lollcccclooc;;,',,;:;,''..',;;;,,;:;,;;,,,;:;;;::::;;,,,;;;'''''
lc:;;;;,,'''''''''''...................................................'',,,,;;;;;;,,,,;;:ccllllllllllllooodddddddddooddoooodddxkkk0KK0OOOkkkkkkkkkkdlc:,;::clodxxxxxdoooodddxddol:;,...,,:ccllllc:;;,'.'..',:cc:;;::::::;;;,,;:,''',,'';;;;:::::;;;;;,','
cc:::;,,,'''''''''''...'''''''''..'''''..'..'''''''''''''''...''''''''''''',,;;;;,,,'''',;;:llccclllcclllooooooddddddddddoddooooddxkO0O0OOOOOOOOOO0O0Okxddocloddoccoxxdddxxxdlcc:;,,'...',cllllc:,..''''',:lolc::;,;;;;:;,',,'';,''',,,;;;;;;;;;,,,,'',,,,
cc::::;,,,,,'''''''''''''''''''''''''''''''''''''''''''''''''',''','''''''',,,;;;;;,,,,,;::ldol::::::cloooooooooooddddddxxddoooooooodddxkOOOOkkkkkOO0K000Okolc::::odooddolc:;;,,'..''..';clcclc::;,'''..,:clc::;,',;;,',;;;::,'',,,,'''',,',;;;;,'','.',,,
lc:::::;,,,,,''''''''''''''''','''''''''''''''',,,,,''''''',,,,,,,,,,''''''''',,,,,,,,;;;;;;;;;;;::;;;:clooollloooooddddddddddddoollooooodxxxxxxxxxxkkO0KKKOdolloodo:;ll;''''.....'..';c:;;:colc:,'...'',;,,,,,;::c:;,,,,,;;,,,'..''.........',;;,',,,,;;;
llc::::;,'''''''''''''''''''''''''''''''''''''''',,,,,,,,,,,,,,,,,,,,,,,,,,,'',,,,,;;;;;;;;;;;;;;,;;::;;;:clodolllllooooooooddddddooooooooooodxxxxxxxxxkkkOkxkOOkxdxdlll:'........''',::::cllc:,'',,,,,,,''''';:::c:;,,;,;,..'''.'''.........,,:c::;;::;,,
lclc:::;,,,,'''''''''''''''''''''''''''''''''''''','''',,,,,,,,,,,,,,,,,,,,,,,,,,',,,,,,,,,,,,,,,',,,,,,',;;:lddolllllllllooooooddxxdddddolllllodxxkkxxxkkkkkOOOkdlldo;'',,;;,',,,,,,,,;;;::;'...,;;,,,;;;;,,;;;;;;;;;;,..'..''..'............',::;;;;;;;,
olllc::;;,,,,'''''''''''''''''''''''''''''''''''''''''''''''',,,,,,,,,,,,,''..............................',,;:coddollllllllooooooddddddooooolllloodxkkxxxxxxkkkOOxdxxxoodl;'.........'''''',,,,;::;;:;;;:cc:;:ccc:;'.'...''...............'...',;,'',;;;;
oolccc;;;;,,,'''''''''''''''''''''''''''''''''''''''''''''''''''',,,,''''.............''''........'''''',''''',,;:clooollllllllllooooodddoooollllllllodxxxxxxxdxxkkkkkkkkkxdc:,''...',,'''..''...';:;;;,,;;::::::;,''',,''','...................',,...'',;
dollcc;;:;;;,',''''''''''''''''''''',,''''''''''''',,''''''''',,,,,''','''''......'....'''''''''''''',,,,,,,,;,,;;;;:coddolllollloooodddddddollllollllloddxkxxxxxxxxxxxxxkkkkkxd:,''''.........',,'',:c;;::::::;,'',,''',;;;,'...................''',,''',
oollcc::::;;;,,'''''''''.....'''''''''''''''',,,,,''',''',,'',,,,''''''''''''''''..........'.......''''',,,,,,,,;::::::cdkxoolloooooooodddddddooooooolllllodxkkkxxxxxxxxxxxxxxxool;....''.....'''',::;,,;::::;;,'''.'',,,;;;;,'.........'.''''',,,,'',;,,,
lcccc::;:;;,,,,''''''''''.'.'','''''''',,,;;;,,,,'''',''',,,,,,,,,,,,''''''''''''...'.........''',,,,,,,,,,,,'',,;::::::cdkkdddolllloooooodddddddoooooooolooodxkkkxxxxdxdxxxxxdc:llc;':lc;.....,;;;,,',;:::;;,'.....',,'''',,;;,,,,,,''''',',,,,,,,,,',;:;
ccccccc::::;;;,,,,'''''''''''''''',,,,,;;;;,,,,'',,,,,,,;;,,,,,,,,,,',,,,,,,,,'''''''''''''',,,,,;;;;;;;;;;;,'''..,;;;;;;:lxOkxdooollollodddddxxxxdollooooolloodxxxxxxddddddxxxoccooc:coo:'''',;;,''';;::;;;,''....,;;,',,,,;:;;;;;;,,,,,'''',,;;;;::;::::
lccccc::::::;;;,,,,,'''',,'''''',,,,,,',,;;;;,,,;;;;;;,,,;;;,;;;;,,',,,;;,,,,,,,,,,,''''''',,'',,;;;;;;;;;;;;,,''..';;;;:::clodkkdllccllloodddxxxxxxdoooooooooloooddxxddddddddddoxOkol::dxdlc:::;;;:cc:;;;,'.........,;,,;:;;;;;,,;;;,,,,,;,,,;;;:::::::cc
lccccccc:::;,;;,,,''',,,,,,,;;,,,,,,,;:::;;;,;;;;;;;;;;::;;:;,,;;;;;;;;;;,;;;,,,,,,,,,,,,,,,,',,,,,;;;;;;;;;;;;,,'.',;;;::::::coxOxollcccllloodddddxddooooooodoolllodxxxxxxddddxxxkkkdookOOOkkxoollc::;;c;......'......',;::;;;::;;;:::;;,;;;::cccccccccll
lccc:::c:::;,,;;;,;;,,,,;;;;;;,;;::::::;;;;;;;;::::::::::;;;;;;:::::;;;::;;;,;;;;;;,;;;;;;;;;;;;,,;;;;;;::::;;;;,,''',;;:::cccccldkOxolccccllllllooddddddooodxxddolloddxxxdddddxxxxxxkkkkkxkO000Okxoolc:;.....'''.....',,;,,,,,',;;;;,;:ccccclllccc::::::;
lccccc:::;;;;;;:;;;;;;;;:::::;;:cc:;;;;;;:::c::::cc::::::::;;::::::::::;;;:::;;;;;;;;;;;:::;;;;;;;;:::;;;;::;;;;;,,,,,;;::::ccccccoOOdolcccclllllooddddxxdddddxxddolloddddddddddddxxxxkkkkkkOOO0OOO0xc,'..'',,,'''''''''',,,,;;;;;::::cllcc:::;;,,;;,'',,,
lcccccccc:::::::::::;;;;;;;;;;:cc::::::ccccc:::::::cc:::::::ccc::::::::::::::::;;:::::::::::;;::::::::::::::::;;;,,,,,,;:::ccccccccoOKkocccccccclllooooddxddoooddddooloooddxxxxxxddxxxxkkOOOkkOOOOOkl,'',;;;;;;,;;:;,,,,,,,,,;:cccccccc:::;;,''''.....';::
ccccccccc:::c:::cc:;;::;;:::::::::::ccccccc:::::::ccc::cccccccccccccccc:::::::::::cc:::::::ccc:::::::::::c::::;;;;,;;;;;::ccc:ccccclokKkolcccllllooooddxxxdoooooddoodooooddxxxxxxxddddxxkkOOOkkkkkxl;;;,,,,;,'....',,;;;;,,;cccc::::::;,,,;,'''..',,;:c::;
cccccccccc:cc::ccc::c::::::::::::::ccccc:::::ccccccccccccccccccccccc::::ccccccccc:::::::cccccc::::ccccccc:::::::::;,;;::::ccccccclllllkOxoc:ccclllooodddxxxddoool::ldolooodxxxxxxxxxxdxxxkkOOOOkOkxc,'....'..'...',;;,''',;:::::;;,,,''..'','',;:cccc:,.''
ccccccc::cccccccccc:::::;:::::cccccccccccccccclllcccllcccccccllcccccccccccccc:::::::::ccccccc:cccccccccccccccccc::::::;:::cccccllllolloxxdolccccccllloooodoooooolccl:cloooodxxxxxxxxxddxdxxkkkkOOkkxdc;',,''''',,,,,,;,,,,,;,'''....''''',,;;,',;;;,''..',
ccccccccccccllllcccccc::cccllllclcllccclllllllccclccccccclccclllllcccccc::cc::::::ccccccccccccccccclllcccccccccccccc:::::cclllllllllllodxxdocccccllllloooooloooooooo:,;lollodxxxxxxxxdxxxxxxxkkkkkkkkko;,,'',',,,'...',,...''....'',''',,;;,.......',,,;:c
lccccccccccccclcccccccccc:ccccclllcccllloolccllllllllllllllccccccccccccccccccccc:::cccccccllccllcclllllllcccccccccllc::;:ccllllllllllooodxdoc:ccllllooooooooodoodddolccoooooodxxxxkkxxxxxxxxxxxkkkkkkkxdoc,..'..''..........',,;;;;;;;;;;,'.......';::::cd
ccccccccccccllccccccc:ccc::::ccclllllllllllllllllllllllllccllcccccccccccccccccc:ccccclllccccllllllllllllllcllcccccccllcc:clllllllllllooodddolccclllooooooddooddoododdddddooooddxxxxkkkxxxxxxxxxxxkkkOkOOkxl,..........'...';;::::;:::;,,'.....',;:;;;;:cll
ollcccccccllccccccc::ccccllcccccccccclllllllllloolllllllllllccccccccccccccccccccclllcccccccllllclllllllllollllccllllllllllooooollllooooooodxdccccllllooooddddxxxxxdooddoddooooodxxxkkkkkkkkxxxxxxkOOkkOOOkxoc;,,''''......''''.',;;;;,,'...',;;;;;;,,;:cc;
llcccccccccclcccccccccccccccccccccccccccllllllllollllllllccccccccccccccccccccccclllccccclcllllllllllloollllccllllllcccclllooooloooooolododxkxlccccllllooooddxxxxkkxddddddooooooddxxkkkkkkkxxxxxxkkkkkkkkOOOOOkdoc::;,...........','''....',;;;'';,;:;,;c,.
ccclllccccccccccccccccccccccccccclcccccccllllllllllllllllcccccllcccccccclcccccccccccccccclllllllllllllllllllllllllccclcllooollooooodooddoxkkxocccclllloooooddxxxxxdoooodoooolodddxxxkkkkkkxxxxxxxkkkkOOOOOOOOOkxdoooll:'...''.......'',,,,,,''....;:,',c:'
llcccccccccccccccclllccclllcccccllllllllllllllolloollloolllllllllcllllccccccllccccccccclllllllllllllclllllllccccccllllllllloooollloodddoodxOOoccccccllloooooddxxddoooooodolollodddxxxxxkkkkkxxxxxxxkkkkOOOOOOOOOkkkkxxl;,,,,,,,,,,,,,',:;,,,,'....;,''',;,
ccccccccccccccccccccllllllllllllllllllloolllllooolooooolloollllllllllllcclllcccccccccllllollllllllllllllllllllcccllllloollloolllloodddooooxOOdcc:cccllloooodddxxxxkxdddodooodooodddxxxxxkkkkkkkxxxxxkkkkkOOOOOOOkkkkkd:,''''..'''''..';,...''...,,;;'.....
llllllcccllllccclllllllllllllllllllllllllloooloollooolllloooooolllllllllllllllcccclllllloollllllllllllllooollcclcclloollllllllllodddoodddodxkxoc:cccllooddxxdddxxxxdddddddoooooodddxxxxxxxxkkkkxxxxxxxkkkkkOOOOkkkkkxo;'.....',;,'''''.......':c;,;;'.....
lllllcccllllllllllllcllllllllllllloollllolooooooooooollloooooooolllllllllllllllllllllllllooollllllolllooooollooooooolllooooooooodxdoooddooddxkkdolloooooodddooooddoooooooddolloodddxxxxxxxxkkkkkkxxxxxxxxkkkOOOOkkxkxdolc:;;;;::;..,;,,,',;,,,;;,,;'......
lllllccllllllcllllllcclllllllllllllolllolllloolooooollllooooooolllllllllllllllooolllllllllllllllloolllllloooooddddooollollooooooddooodddoooddkOkdoollloooooodddxxxxddddoooolllloodddxxxxxxxxkkkkkkxxxxdxxxkkkOOOOkkkkxdoodddoccc;..,;::;,,:;...''''.......
llllllclllllllllllllllllllllllllllllllllloooooooooooooooooooooooooooooooooooooddoooooooooooooooollllllllooooooddddddoooollooododdxdoddxdooooodxkxlccc:cllllloddxxxkxxdddddoolllloddddxxxxxxxxkkkOkkxxxxxxxxxxkkkkOOkxolclddl:;;;:;;;:::,,::'..............
oolllllooooooolooooollllllllllllloollllllollllooooooooooooodooddddddddooooooooddddddddddoooooddooollllllooooooddddddddddooodddddkOxodkkxoooddodOko::::::cclllodxdddooooooooollllooddodxxxxddxxkkkkkkxxxxxxxxkkkkkkkkxdddoooolc:;;;;;;,..';'...............
ooooooooooooooooooollllllllllllllllllllllllllloooooooooooddddddddddddddddoodddddddddddddddddddddoollllllllllooddooodddddddddooooxkdodddooddddxO0kdoc::cccllloodddooooolllllolllllooooddxxxdddxxxkkxxddddxxxxxxxkkkxkkxkkxxxkkxoc::::;'.......''...........
oddddooooooooolllllllllllllllllllllllllllllollllloooooooddxxddxxxxddxxxxdddddddddddddddddddddddddooolllllllllllollloddooodddddddddooddooodxxxkO0xxxdooooooodddxxxdxxxocccloooolllloooodooddddddxxxddddddxxddxxxxxxxkkkOkkkkkkxddlc::;,...'......'.........
ooooooloollooollloolllloooooolllllllllllllloollllollooooodddddddddddddddddodoooooooooddddodddddddoodoolllllllllllllloolllodxddddddoodxddddxxxxkkdxkkxxdddddooooddooll:,':ldoolclllooodo:clodddddxxxddddddddddddddxxxkkkkkkkkkkxxolc:cc;,'...'.......',,'..
loooollllllllllllllllooooooolllllllllllllllooolllllllllllooooddddddddddooooddooodoooodddddddddddddoooolllllllllllllllllllldddddddooxOkdoddxxxkOkxxxxdxxdddoooooooolc:;:ccclllc::cllool,'clllodddxxxxxdddddddooddxxxxkkkkkkkxxxdlcldool:;,'','...'',,,'...'
olloooooolllllloolllooooollloooooollllloolllooolllllllllllllloodddddddooodooooooooooddddddddddddddddoolloooooooolollllllllloddddddx00OkxxxxkkO0kxxxxxxddooooddxxxdoollooooollc:::clloc;;clcldddddxxxxxddddddddddddxxkkkkkxxxkxoldkkxxxl;,,,'''',,'.....';:
ooooooooooooolloollloolllllooooooolllolooollooolllllllllllllloodddoooooooooooooddooooooodddddddddoddddddoooooooodddooollooooooodkxx0KK0kkxxk0K0kddxkkxdddoodddddxdoodddolllccc::clloooddddoddddddxxxxxddddddddddddddxkkkkxxxxxxxxxxxxdl;''...,'.....',;:::
ooooooooooooollloolllllllllllllllllllllllllllollllllllllllllllllooooooooolllooooooooooooooooooddddddddddddoooooodooooooodxddooodxxkO00OkkkO0K0Okxxdxxdoodddddolloddoodooollcllc:clloooodxxxdddddxxxxkkxxxxddddddddddxxxxxxxxxxxxkkkxxxxo;. ....'',,;;::;;,
oloolloooolllllllllllllllllllllllllllllllllllllllllllllllllllllclllllooooodddooooooooooooooooloolloooddddddoooooooddddddddoddoodxkkkkxkkO0KX0Okkxxxxdolccllllcclllllllloooooodolllloooodddxxdxxdxxxkkkkxxxddddddddddddxxxxxxxxxxkkkxxxxxd:''',;;,,;;;:::::
lllllllllllllllllllllolllloolllollllllllllllllllclllllllllllllcclllllllooddoooodooooooooooooolllllllloooddddddooodddddddddoooodxkkOOkxxkOKX0kxkkkkkxdoolccc:::cccc::cccclllooolllloooddddddxxxxxxxxkkxxkxxxxxxxxxxxxxxxdxxxxxxxxxxxxxxkxoc;,,,,,;;::::;;;;
lllllllllllllllllllllllllllooollllllllllllllllllllllllccclllllcclllllllodddddooooooooooooooooodollllllooddddddddddoooddddddddxxddk00Okxxk000Okxkkkkxxddxxdolloolllcccllllcccclcclloooddxxxdodddxxxxxxxxxxxxdddddxxxxxxxxxxxxxxxxxxxxxkd;',,,;;;;;;;;;;;;::
llllllllloolllllloollllooollooooollllllllllllllllollllccccccllcclllllllooddddooooolooolooooooooollllllllooooddddddddodddddddddddxO0OOOkkO0000OOOkkkkxddoolllooooooolllooollcllccllooooddxdccdddddloxxdxxdxdddddddxxxxxxxxxxxxxxxxxxxddc,,;;;,,;;;;;:::::cc
ooolllllooollllllllllllloooooooooolllllllooooooooolcllllllccllccclloolloodddoooooooolllllllllllllllllllloooooododddodxxoodkkxxkO00OOOkOO0KKO00Oxollccc:::::::ccclooooloooolccccclooooodddocoddddc;ldxxxddxxdddxxxxxxxxxxkkkkxkkkkkko;;:;;;;,,,,,,,,;:cc::c
lllllllllllllllllllllllllooolllllllllllclllllllcccccclcclllloolllolloooooooooooooollllolllllllllllolooodddooooooolooodddk0000O00OO00000000O000Oxdol:;;;;;;;::cccclllloooooooolccloddoodddllddodo;:dxxxxxxxxxxdxxxxxxxxxxkkkkkkkkkoc:,,,;::;;;,'..,;:::::::
llllllllllllllllcllllllllllllllccccclccccccccccc:;;:cclllllollcloooooooolooooolcloolodooolcclllllooodddxxdooolllloooloxkO0O000OkkO0OO0KOOOO0Okkkxxxdl:;;;;;;:::::::ccclllooollclooddddddolddddoc:oxxxxkxxxxxxdddddxxxxxxxkxxkkkko:;,',,;:::c:,'..;cc;;;;,'
""")
crab1_150 = ("""
lllllllllllllllllloooooooooooooooooddddxxxxxxxxxxxkkkkkkkkkkkkkkkkkkkkkkkkkkkkkkkkkkkkkkkkkkkkkkkkkkkkkkkkkkkkkkkkxxxxddddxkkkkkkkkkkxxxxkxxxxxxxxxxxx
llllloooooooooooooddddddddxxxxxxxxxxkkkkkkkkkkkkkkkkkOOOOOkkkkkkkkkkkkkkkkkkkkkkkkkkkkkkkOkkkkkkkkkkkkkkkkkkkkkkkkxdolloddxkkkkkkkkkkkkkkkkkkkkkkkxxxx
ooooddddddxxxxxxxxxxxkkkkkkkkkkkkkkkkkkkkkkkkkkkkkkkkOOOkkkkkkkkkkkkkkkkkkkkkkkkkkkkkkkkOOOOkkkkkkkkkkkkkkkkkkkxxdollccldxkkkkkkkkkkkkkkkkkkkkkkkkxxxx
xxxxxxkkkkkkkkkkkkkkkkkkkkkkkkkkkkkkkkkkkkkkkkOkkkkkkOOOOOOOOOOOOOkkkOOOOOOkkkkkkOOOOOOOOOOOOkkkkkkkkkkkkkkkxxdoolccccclodxxxxkkkkkkkkkkkkkkkkkkkkkkxx
kkkkkkkkkkkkkkkkkkkkkkkkkkkkkkkkkkkkkkkkkkkOOOOOkkkkOOOOOOOOOOOOOOkkkOOOOOOOOOOOOOOOOOOOOOOOOkkkkkkkkkkkkkxxddolcc:ccccllooodxkkkkkkkkkkkkkkkkkkkkkkkx
kkkkkkkkkkkkkkkkkkkkkkkkkkkkkkkkkkkkkkkOOOOOOOOOkkOOOOOOOOOOOOOOOOkkkOOOOOOOOOOOOOOOOOOOOOOOOkkkkkkkkkkkkkkxdolcc:::cccllooddxkkkkkkkkkkkkkkkkkkkxxxxx
kkkkkkkkkkkkkkkkkkkkkkkkkkkkkkkkkkkkkOOOOOOOOOOOOOOOOOOOOOOOOOOOOOOOOOOOOOOOOOOOOOOOOOOOOOOOOkkkOOkkkkkxxxxxxdollcc::clloodxxxkkkkkkkkkkkkkkkkkkxxxxxx
kkkkkkkkkkkkkkkkkkkkkkkkkkkkkkkkkkkkkkkOOOOOOOOOOOOOOOOOOOOOOOOOOOOOOOOOOOOOOOOOOOOOOOOOOOOOOOOOOOkkkkkxxxxxxxxxdddooodddxxkkkkkkkkkkkkkkkkkkkkxxxxxxx
kkkkkkkkkkkkkkkkkkkkkkkkkkkOOkkOOOOkkkkkOOOOOOOOOOOOOOOOOOOOOOOOOOOOOOOOOOOOOOOOOOOOOOOOOOOOOOOOkkkkkkkkkkkkkkkkkkxxxxxxxxxkkkkkkkkkkkkkkkkkkkxxxkxxxx
kkkkkxddoooolloooodxxxkkkkkOOkkOOOOOOOOOOOOOOOOOOOOOOOOOOOOOOOOOOOOOOOOOOOOOOOOOOOOOOOOOOOOOOOOOkkOOOOOOOOOOOOkkkkkkkkxxxxxkkkkkkkkkkkkkkkkkkkkkkkkkxx
kOkxlccc::;;;;;;;;::coxkkkkkkkkOOOOOOOOOOOOOOOOOOOOOOOOOOOOOOOOOOOOOOOOOOOOOOOOOOOOOOOOOOOOOOOOOOOOOOOOOOOOOOOOOkkkkxxkkkkkkkkkkkkkkkkkkkkkkkkkkkkkkkk
kkkxddxxxxdddool;,'',:oxxxdxkOOOOkxxxOOOOOOOOOOOOOOOOOOOOOOOOOOOOOO0OOOO00OOO0OOOOOOOO0OOOOOOOOOOOOOOOOOOOOOOOOOOkkkkkkkkOkkkkkkkkkkkkkkkkkkkkkkkkkkkk
kkkkxkkxkkkkkxko;'',;;:ldxkxddkkkxl:lxkkOOOOOOOOOOOOO00OO00OO0000000O0Odx00OO0OO0OOO0000OOO00000OOOOOOOOOOOOOOOOOOkkkkkkkOOOOkkkkkkkkkkkkkkkkkkkkkkkkx
ddxxdxkdodl:::::;,;;::::cldkkxocc:;::::cldkOOOOOOOOOO0000OO00OOkkkkxkkl',odddkOO0OOOOkodk0000OOOOOOOOOOOOOOOOOOOOOOkkkkkkkkkOOOOkkkkkkkkkkkkkkkkkkkkkk
ooxkxxdlll:,,;;:::::::::ccclxOxc::;;::;;;:ldkkOOOO00OO000O0Odc;,,,',;c;..,:ccoxxddlcc;.'oOOOOO0000OOOOOOOOOOOOOOOOOOkkkkkkkkOOOOkkkkkkkkkkkkkkkkkkkkkk
dxxkxxxddddoooooollc::::ccccldxo:::::;,,;:cclok000000OO000kl;'',;,...',',:cclddoooc;'',;looodxkkOOOOOOOOOOOOOOOOOOOOOOkkkkkOOOkkkOOOkkkkkkkkkkkkkkkkkx
xkkxxkkkkkOkkkOOOkkxdoolccc:cccc::::::;;:::clclkkkO0000O00d;;;;::;'..',';:;;:llcclllc:;;;'.',codxkOO0000OOOOOOOOOOOOOOOOOOOOkOOOOOOOOkkkkkkkkkkkkkkkxx
kOOxxkkkkkkkkkkkkkOOOOOkkxxddoolcloddxxdl::ccccldxkO000000d:;::::;,'',;;;::;;:cc::cooc;,,'',;:clodxkO00OOOOOOOOOOOOOOOOOOOOOOOOOOOOOOkkkkkkkkkkkkkkxxx
xkkkOOO00OOkkOOOOOOOOOOOOOOOOOOkkOOOO00OdoolllccloxxxO0000kl;;::::::;;:c::::;;:c:::loc;,;;;::ccclodxO000000000O000OOOOOOOOOOOOOOOOkkkkkkkkkkkkxxxxxxxx
dxxkOkkOOOOOOOOOOOkOOOOOOOOOOOOOO0OOOOOOkxxdolllcllllloddkOkl;;;;:;;::::ccc::;;:cc:c:::;:::::ccclodxk000000OOO000OOOOOOOOOOOOOOOOOOkkkkkkkkkkkkkxxxxxx
odxkkxxkkOOOOOOOOkkOOOOOOOOOOOOOOOOO0Oklcllcccllooollllccccdxl;'',,;;:::c::;;,,;cccc::c:::::cccccloxO00OOOOOO00OOOOOOOOOOOOOOOOOOOOOOkkkkkkkkkkkkkkxxx
ddkOOOkkkkOOOOOOOkkkOOOOOOOOOOOOOOOO0kl:lddoc:ccllllllccccccc::,,,,,'',:::;;,..,:::cc:c:::::::cccldO0OO00OOOOOOO0OOOOOOOOOOOOOOOOOOOOOkkkkkkkkkkkkkkxx
xxkkkkkOkkkkkkkOOkkOOOOOOOOOOOOOOO0OOd:;lkOxolllllllccclc:::;,,;,,;;,,,,,,''...',;:c;,,,,,,,;:cldkOOOOOOkxddoodxkkxkkkxxxkkkOOOOOOOOkkkkkkkkkkkkkkkkxx
OkxxkkkkkkkkOOOOOOOOOOOOOOOOOOOOOOOOOo::codoodkxxollccccc:;:;',,,,;;;;::;'......'',,,,,,';::cddk0OOOOOkxolcclcc:cccccc:;;::loxkOOOOOkkkkkkkkkkkkxxxkkx
kkkkkkkkkkkkkOOOOOOOOOOOOOOOOOOOOOOOOd::ccllloollcc:::cccclllc:;;cllcccc;,''...',;;,;:,,;;:ldxxkkkxxxddoollllcccccccc:;,,;;;:loxxdolllodxkkkkkkkkxxkkx
kOOOkkkkkkkkkkkOOOOOOOOOOOOOOOOOOOOOOdcclc:;;;;;:::ccodxkkkkO0OkkkOkkxxdl;'',cooolllcc::cc:loodddooodooollccccccccc:cc;;;;;:::cc::;;,,;:ccoddxkkkxxxxx
OkkkkkkkkkkkkkkOOOOOOOOOOOOOOOOOOOO0Odccl:;:::clloxxkO00000OO000000000000kxxxO00OOOOkxxxxoooooooddodddddoolllllllccccllc::::::::;:::;;,;;;;;:coxkkxxxx
OkkkkkkkkkkkkkkkkkOOOOOOOOOOOOOOOOOOOdcclc;;:lxOOO000000000000K00000000000000000000000000OOOkxxxkxddooddddxxxxxddddooxko:;:::::::::::;;,;:;;,,;cdxxxxx
kkkkkkkkkkkkkkkkOOOOOOOOOOOOOOOOOOOOOd:;ldc,;cokOO00000OO00O00000000000000000OO00000000000OkkkOO00OkxdoolllloodxkkOOkOOdc::cc::cc:::::;,;:clc:;;:ldkxx
kkkkkkkkkkOOOOOOOOOkOOOkOOOOOOOOOOO00kl:codc;::cxOO0000000000OkO000000O000OO0000OO000000OkxxkOO000000OkxxollllldkkOOOOOkdlc::cc:::::;;;:::ldxddl::oxxx
kkkkkkkkOkkkkkkkOOOkOOOOOOOOOOOOOO00OOxllcldo:::lxOOOOOO0000000OO000000000000000000000OkkkkO00OO0000OOOOOOkkxoooxkkOOkOOOxoc::cccc::;;:clldxkkkkd::dxx
kkkkkkkkOOkkkkkkkkOOkOOOOOOOOOOOOO0OO0kloxoll:;::cxOkkkOOOOOO0Okxdk0OO0000000OOOOOkOkxodkO000000OO000000OOOOxdooxkOOOOOOOOkkxolcccc::;;;:dkkkkkkxlcdxx
kkOkkOkkOOkkOkkkkkkkkkkkOOOOOOkkOkxxxkxllxkxollc;;ldxkkOOOOO00OkddxOOOO0000000OOkxdddxxkO0000000OO0OO00OOOkollloxOOOOOOOOOOOOkdodxdolc:,;cdxkkkxxddxxx
kkkkxkkkOOkOOkkxxxxddxxddxxxxxxxxolccooccldO00Okdllolodk000000O000OOOOkkOkkkkkkkkkOOO00OO0000OO00OOOOOOkxolloodxOOOOOOOkkOOkOxookOkkkxo:;:coxkxxkkkkxx
kkkxxkkkkkkkkddollllloooddodddxxxdddddxoldxkOOxoodxdlc:cldxxxkxxxxkkkxxkkkkOOOOO000000O0OOkkkkkkkkkxxxddddodxxxOOOOOOOkkkOOkxddxkkOkkkkdooc:lxkxxkkxxx
ooooooolllloddddolllcclllllccc::clddlloddxxkkdolccccccc::::cclccllooddoooooooddxxxxkkkkkkxxkkkkkkkkkkkkkOxlloxkkkkkkkkkkkkkkddkOOOOOOkkkOkxdxkkkxxxxxx
lllcc::c::cccccc::;;;::::::::c::col:::::ldxkxdoc:::::cc::ccccccllooooddoooooooooddddxxxkxxxkkxkxxxxxxxkxoccdkxkkxkkkxxxkkkkkkkkOOOkkkkkkkkkkkkkxxxxkkx
dollc:::::::::::::::::::::::::::cc::cc::::lodolclooolloooloooooddddolllccllllclodxdldxdddddddddxdddddddooodOOOOOkkOOkkOkkOOkOOOkkkkkkkkkkkxxkkkxkxxkkx
dooooc::::cccc:::::::::cc:cccccccccc:cc:::cloolldkkkkOOOOOOOOOOOOkkkkxdooooolccccllccollcllcllllllcccccldxxkkkkOOOkkkkOOOOOkkkkkkkkkkkkkkkkkkkkkkkxkkx
kkxxxddddxxxddooodddoolodooooooooolc::clccllooloxOOOkOO000OOO0OOOOOO0000OOOOkxxxddddddxxdxxocccccccccc:::cccclldddxkkkkOOkkOxdxxkkkkxkkkkkkkkkkkkkxkkx
kkkkkkkOkOOkdoodxkkkkxxxkkxxxdolodooodddddxxdxddOOOOOOOOO0OOO00OO00OO000OO0000O00OOOOOOOOOOkdollccccccc:::ccllloolllclodxxkkkkxodxkkkkkkkxxkkkkkkxxkkk
xxxkkxkOOkkkxxkkOkkkkOOkOOkkOOkkkkkkkOOOOOOOOOOOOOOO0OOOO00OOOOOOOOO00OOO000OOOOOOO00OOOOOOOOOOkxkxxdooooollooodxddddddddddxkkkOxxkkOOkkkkkkkkkkkkkkkk
kkkkxkkkkkkkkOkkkkkkkkOOkkkOOkkOOOOkOOOOOOOOOOOOOOOOOOOOOOOOOOOOOOOO00OOOOOOOOOO0OOOOOOOOOOOOOOOOOOOOOOOkkkkkkxxxxxxxxxkkkkkkOOkOkkkkOkkkkkkkkkkkkkkkk
kkkkkkkkkkkkkOkkkkkOkkkkkkkkOkOOOOkOOOkkOOOOOOOOOOO00OOOOOOO00OOOOOOO0OOOOOOOOOOO0OOOOOOOOOOOOOOOOOOOOOOOkOkkOOOkkkOOOkkkkOkkkkkkkkkkOkkkkkkkkkkkkkkkk
kkkkkkkkkkOkkOOkkkkOkkkOOkkOOkOOOOkkOOOOOOOOOOOOOOOOOOOOOOOOO0OOOOOOOOOOOOOOOOOOOOOOOOOOOOOOOOOOOOOOOkkOOOkkOOOOOkkkOOOOkkOOOOOkkOOkkkkkkkkkkkkkkkkkkk
kkkkOOkkkkOOkOkkOOOOkkkOOOOOOkkOOkkkkOOOkkOOOOOOOOOOOOOOOOOOOOOOOOOOOOOOOOOOOOOOOOOOOOOOOOOOOOOOOOOOOOOkOOkkkOOOOOOOOkkkkOOOkkkkkkOkkkkkkkkkOkkkkkkkkk
kkkkOOkkkOOkkOOkkkkkOOOOOOkkOOOOOOkkkkOOkkOOO00OOOOkkO0OOOOOOOOOkkOOOOOOOOOOOOOOOOOOOOOOOOOOOOOOOOOOOOOOOOOOOOOOOkOOOkOOOOOOkOOOkkOOkkkkkOkkOOkkkkkkkk
xxxxkkkkkkOkkkkkkkkkkOOkOOOkOOkkkOOOOkOOOOOOOOOOOOOOOOOOOOOOOOOOOkkOOOOOOOOOOOOOOOOOOOOOOOOkOOOOOOOOOOOOOOOOOOOOOkkkOOOOOOOkkOOkkOOOOOOkkkOkkkkkkkkkkk
xxxxxxxxxkkkkkkkkkkkkkkkOkkkkkkkkkOOkkOOOOOOOOOOOOOOkkOOOOOkkOOOOOOOOOOOOOOOOOOOOOOOOOkOOkOOkOOOOOOOkkkOOOOkkkOOOOkkOOkkkOOkkOkkOOOOOOOOkkkkkkkkkkkkkk
kkkkkkxxdddxxkkkkxxxkkkkkOOkkkOOkkOOOOOOOOOOOOOOOOOOOkkOOOOkOOOOOOkkOOOOOOOOOOOOOOOOOkkOOOOkkOOOkkOOkkOOOOOOOOOOOOkOkkkOkkkkkOOkOOOkkOOkkkkkkkkkkkkkkk
""")


def Stats():
    global users_turn
    global Lv
    global EXP
    global health
    global health_cap
    global punch
    global slash
    global fire_blast

    print("Hp: ",health,"/",health_cap)
    print("Mana: ", mana, "/",mana_cap)
    print("Level: ",Lv)
    print("Exp: ", EXP)
    print("Attacks: ")
    if punch == True:
      print("1) Punch")
    if slash == True:
      print("2) Slash")
    if fire_blast == True:
      print("3) Fire Blast")
    print("Turn: ",turn_count)
    users_turn = True

def Move():
    
    print("Where would you like to go?")
    print("North")
    print("South")
    print("East")
    print("Or West")
    global y
    global x

    rsm = ask()
    if rsm == ("north") or rsm == ("North") or rsm == ("up") or rsm == ("Up"):
        y += 1
    elif rsm == ("south") or rsm == ("South") or rsm == ("down") or rsm == ("Down"):
        y -= 1
    elif rsm == ("west") or rsm == ("West") or rsm == ("left") or rsm == ("Left"):
        x -= 1
    elif rsm == ("east") or rsm == ("East") or rsm == ("right") or rsm == ("Right"):
        x += 1
    
    global users_turn
    users_turn = True

def Location():
    print(x,",",y)

    global users_turn
    users_turn = True

def Comands():
  global users_turn
  print(controls)
  users_turn = True
global level_1
level_1 = False
global level_2
level_2 = False
global level_3
level_3 = False
global level_4
level_4 = False
global level_5
level_5 = False
def Level_Check():
  global health_cap
  global mana_cap
  global EXP
  global Lv
  global punch
  global slash
  global fire_blast
  global level_1
  global level_2
  global level_3
  global level_4
  global level_5
  #Check for if the player has already leveled up
  

  if EXP >= 10 and level_1 == False:
    Lv = 1
    level_1 = True
    EXP = EXP - 10
    slash = True
    health_cap = health_cap + 1
    print("Congratsulation on making it to level 1")
    print("You've learned the way of the sword, Slash, unlocked")
    Level_Check()
  elif EXP >= 30 and level_2 == False:
    Lv = 2
    level_2 = True
    EXP = EXP - 30
    fire_blast = True
    health_cap = health_cap + 2
    mana_cap = mana_cap + 1
    print("Welcome to level 2")
    print("You can now feel the magical energy in your soroundings, Fire Ball, unlocked")
    Level_Check()
  elif EXP >= 50 and level_3 == False:
    Lv = 3
    level_3 = True
    EXP = EXP - 50
    health_cap = health_cap + 4
    mana_cap = mana_cap + 2
    print("You made it to level 3, good")
    Level_Check()
  elif EXP >= 70 and level_4 == False:
    Lv = 4
    level_4 = True
    EXP = EXP - 70
    health_cap = health_cap + 6
    mana_cap = mana_cap + 1
    print("Good job on you, you made it yo level 4, good luck")
    Level_Check()
  elif EXP >= 100 and level_5 == False:
    Lv = 5
    level_5 = True
    EXP = EXP - 100
    health_cap = health_cap + 8
    mana_cap = mana_cap + 1
    print("Level 5, Thats impresive... for a human good luck on getting any more powerful than that")
    Level_Check()
  
  
global punch
punch = True
global fire_blast
fire_blast = False
global slash
slash = False
def Attack():
    global punch
    global slash
    global mana
    global fire_damage
    global fire_blast
    global damage
    global enemy_crit
    global enemy_crit
    global player_crit
    global criz
    global cicc
    global print_crit
    #Names attacks
    print("What move would you like to use?")
    if punch == True:
        print("1) Punch")
    if slash == True:
        print("2) Slash")
    if fire_blast == True and mana >= 1:
        print("3) Fire Blast")
    #Crit role
    criz = random.randrange(1,17)
    if criz == 16:
      player_crit = True
      criz = 0
    cicc = random.randrange(1,17)
    if cicc == 16:
      enemy_crit = True
      cicc = 0
      

    #Check for if the player has the attack and if its the attack they chose
    rsm = ask()
    if rsm == ("punch") or rsm == ("1") and punch == True:
        damage = random.randrange(1,3)
    if rsm == ("slash") or rsm == ("2") and slash == True:
        damage = random.randrange(3,5)
    if rsm ==("fire blast") or rsm == ("3")and fire_blast == True and mana >= 1:
        fire_damage = True
        damage = random.randrange(2,12)
        mana = mana - 1
    
    if player_crit == True:
      damage = damage * 2
      player_crit = False
      print_crit = True
      Enemy()
    else:
      Enemy()
    
global ent
ent = True
global crab
crab = True
global hawk
hawk = True
global test
test = True
global bear
bear = True
global heart_1
heart_1 = False

def Map():
  global y
  global x
  global health
  global health_cap
  global mana
  global mana_cap
  global enemy
  global enemy_health
  global enemy_alive
  global enemy_name
  global lower_dm
  global uper_dm
  global enemy_EXP
  global heart_1
  global test
  global ent
  global crab
  global hawk
  global bear

  #The players cordnets is set based off of x,y and this is the list of all the places on this grid
  if x == 0 and y == 1:
    clear_output(True)
    print("You see a big mountantan looming in the distance. Its so tall you can't even see the top thats hidden completaly in the clouds")
  elif x == 0 and y == 0:
    clear_output(True)
    print(starter_town_150)
    print("This is your home town. You have lived here for many years and know it like the back of your hand")
    print("You feel rejuvinated")
    health = health_cap
    mana = mana_cap
    print("HP:", health,"/",health_cap, " Mana: ", mana, "/", mana_cap)
  elif x == 0 and y == 2 and enemy == False:
    hawk = False
    enemy = True
  elif x == 0 and y == 2 and hawk == True:
    clear_output(True)
    print("You are attacked...")
    enemy_alive = True
    enemy_name = "Hawk"
    enemy_health = 6
    lower_dm = 1
    uper_dm = 2
    enemy_EXP = 5
    Enemy()
  elif x == 0 and y == -1:
    clear_output(True)
    print("you feel the drop in air presure as you walk down towards the ocean. You feel a shift in terain as you arive at a beach")
  elif x == 0 and y == -2 and enemy == False:
    crab = False
    enemy = True
  elif x == 0 and y == -2 and crab == True:
    clear_output(True)
    print("You are attacked...")
    enemy_alive = True
    enemy_name = "Crab"
    enemy_health = 3
    lower_dm = 0
    uper_dm = 4
    enemy_EXP = 5
    Enemy()
  elif x == 0 and y == -2:
    print("It's a beach")
  elif x == -1 and y == 0:
    print("You head into a dark forest...")
  elif x == -2 and y == 0 and enemy == False:
    ent = False
    enemy = True
  elif x == -2 and y == 0 and ent == True:
    clear_output(True)
    print("You are attacked...")
    enemy_alive = True
    enemy_name = "Ent"
    enemy_health = 7
    lower_dm = 0
    uper_dm = 2
    enemy_EXP = 10
    Enemy()
  elif x == 1 and y == 0 and enemy == False:
    test = False
    enemy = True
  elif x == 1 and y == 0 and test == True:
    clear_output(True)
    print("You are attacked...")
    enemy_alive = True
    enemy_name = "test"
    enemy_health = 1
    lower_dm = 1
    uper_dm = 2
    enemy_EXP = 1000
    Enemy()
  elif x == -1 and y == 3 and enemy == False:
    bear = False
    enemy = True
  elif x == -1 and y == 3 and bear == True:
    clear_output(True)
    print("You are attacked...")
    enemy_alive = True
    enemy_name = "Bear"
    enemy_health = 12
    lower_dm = 2
    uper_dm = 6
    enemy_EXP = 25
    Enemy()
  elif x == 0 and y == 3:
    print("You climb around vast mountans that tower above the clouds")
  elif x == -1 and y == -1 and heart_1 == False:
    heart_1 = True
    health_cap = health_cap + 1
    print("You find a heart amulent on the ground, when you tuch it you feel stronger, +1 Health: ", health_cap)
  elif x == -1 and y == -1 and heart_1 == True:
    print("You see an open feild")


    
#Blank 2.0
def Enemy():
  #Global verables v
  global enemy
  global damage
  global mana
  global health
  global Dead
  global users_turn
  global health_cap
  global mana_cap
  global EXP
  global enemy_crit
  global print_crit
  global enemy_health
  #Kills the player if they are less then 0 health
  if health <= 0:
      Dead = True
      users_turn = False
  clear_output(True)
  #Asky art print v
  print()
  enemy_health = enemy_health - damage
  #Displays your damage v
  print("You did: ", damage, "damage")
  if print_crit == True:
    print("You got a critical hit!!!!")
    print_crit = False
  damage = 0
  if enemy_health >= 1:
    enemy_alive = True
  else:
    clear_output(True)
    print("You have defeted the enemy!")
    EXP = EXP + enemy_EXP
    damage = 1
    enemy_alive = False
  dm = random.randrange(lower_dm,uper_dm)
  if enemy_crit == True:
    dm = dm * 2
    print("You got crit!!!!")
    enemy_crit = False
  print("You took: ", dm, "damage")
  health = health - dm
  print(enemy_name,":",enemy_health , "Your HP:", health,"/",health_cap, "Your Mana:", mana,"/",mana_cap)
  if damage == 0 and Dead == False and enemy_alive == True:
    Attack()
  damage = 0
  if enemy_alive == False:
    enemy = False
    Map()



        
def Intro_Story():
  print("Hello there travel how are you?")
  print("Well it doesn't really mater how you are your jurny will start anyway")
  print("I'll start you down in a village, hope that sounds good to you since you don't have a choice")
  time.sleep(.5)
  print("Also try not to die or I might be seing you again soon")


while(Dead):
    print("You died better luck next time")
    users_turn = False
    Dead = False

Intro_Story()
Location()
while(users_turn):
    
    users_turn = False
    turn_count += 1
    
    
    Level_Check()
    
    print("What would you like to do?")
    rsm = ask()
    if rsm == ("stats"):
      Stats()
    elif rsm == ("move"):
      Move()
      Map()
    elif rsm == ("location") or rsm == ("look") or rsm == ("Location"):
      Map()
      Location()
    elif rsm == ("comands") or rsm == ("actions") or rsm == ("inputs") or rsm == ("help") or rsm == ("Help"):
      Comands()
    elif rsm == ("north") or rsm == ("North") or rsm == ("up") or rsm == ("Up"):
      users_turn = True
      y += 1
      Map()
    elif rsm == ("south") or rsm == ("South") or rsm == ("down") or rsm == ("Down"):
      users_turn = True
      y -= 1
      Map()
    elif rsm == ("west") or rsm == ("West") or rsm == ("left") or rsm == ("Left"):
      users_turn = True
      x -= 1
      Map()
    elif rsm == ("east") or rsm == ("East") or rsm == ("right") or rsm == ("Right"):
      users_turn = True
      x += 1
      Map()
    