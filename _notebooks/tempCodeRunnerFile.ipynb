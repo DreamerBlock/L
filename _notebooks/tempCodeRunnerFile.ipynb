from multiprocessing.resource_sharer import stop


menu =  {"burger": 3.99,
         "fries": 1.99,
         "drink": 0.99}
total = 0

print("Menu")
for k,v in menu.items():
    print(k + "  $" + str(v))

def order():
    global total
    print("Pick and item")
    item = input().lower()
    for k,v in menu.items():
        if item == k:
            total += v
            end()


def end():
    global total
    print("Is your order done? y/n")
    y_n = input()
    if y_n == 'y':
        print(total)
    elif y_n == 'n':
        order()
    elif y_n != 'n' and y_n != 'y':
        print('Not a valid choice')
        end()

order()      

