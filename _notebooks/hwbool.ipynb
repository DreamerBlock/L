{
 "cells": [
  {
   "cell_type": "markdown",
   "metadata": {},
   "source": [
    "Write a program that fits these conditions using nested conditionals:\n",
    "If the product is expired, print \"this product is no good\"\n",
    "If the cost is above 50 dollars, and the product isn't expired, print \"this product is too expensive\"\n",
    "If the cost is 25 dollars but under 50, and the product isn't expired, print \"this is a regular product\"\n",
    "If the cost is under 25 dollars, print \"this is a cheap product\""
   ]
  },
  {
   "cell_type": "code",
   "execution_count": 1,
   "metadata": {},
   "outputs": [
    {
     "name": "stdout",
     "output_type": "stream",
     "text": [
      "this is a regular product\n"
     ]
    }
   ],
   "source": [
    "expired = False\n",
    "price = 50\n",
    "\n",
    "if expired == True:\n",
    "    print(\"This product is no good\")\n",
    "elif price > 50:\n",
    "    print(\"this product is too expensive\")\n",
    "elif price <= 50 and price >= 25:\n",
    "    print(\"this is a regular product\")\n",
    "elif price < 25:\n",
    "    print(\"this is a cheap product\")"
   ]
  }
 ],
 "metadata": {
  "kernelspec": {
   "display_name": "Python 3.9.12 ('base')",
   "language": "python",
   "name": "python3"
  },
  "language_info": {
   "codemirror_mode": {
    "name": "ipython",
    "version": 3
   },
   "file_extension": ".py",
   "mimetype": "text/x-python",
   "name": "python",
   "nbconvert_exporter": "python",
   "pygments_lexer": "ipython3",
   "version": "3.9.12"
  },
  "orig_nbformat": 4,
  "vscode": {
   "interpreter": {
    "hash": "7db10fc21d67df096b214a5560f6e414eb656c6bf6780c69fceea598ce9e7a7f"
   }
  }
 },
 "nbformat": 4,
 "nbformat_minor": 2
}
