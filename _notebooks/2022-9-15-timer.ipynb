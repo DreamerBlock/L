{
 "cells": [
  {
   "cell_type": "code",
   "execution_count": 6,
   "metadata": {},
   "outputs": [
    {
     "name": "stdout",
     "output_type": "stream",
     "text": [
      "0 d 0 h 1 m 22 . 3 s\r"
     ]
    }
   ],
   "source": [
    "from math import floor\n",
    "import time, decimal\n",
    "from IPython.display import clear_output\n",
    "\n",
    "min = 0\n",
    "sec = 0\n",
    "mil = 0\n",
    "hour = 0\n",
    "day = 0\n",
    "on = True\n",
    "\n",
    "while on == True:\n",
    "    time.sleep(0.1)\n",
    "    mil = mil + 1\n",
    "    if mil == 10:\n",
    "        mil = 0\n",
    "        sec = sec + 1\n",
    "        if sec == 60:\n",
    "            sec = 0\n",
    "            min = min + 1\n",
    "            if min == 60:\n",
    "                min = 0\n",
    "                hour = hour + 1\n",
    "                if hour == 24:\n",
    "                    hour = 0\n",
    "                    day = day + 1\n",
    "    print(day,\"d\",hour,\"h\",min,\"m\",sec,\".\",mil,\"s        \", end = '\\r')\n",
    "    "
   ]
  },
  {
   "cell_type": "code",
   "execution_count": 62,
   "metadata": {},
   "outputs": [
    {
     "name": "stdout",
     "output_type": "stream",
     "text": [
      "1\n"
     ]
    }
   ],
   "source": []
  }
 ],
 "metadata": {
  "kernelspec": {
   "display_name": "Python 3.8.10 64-bit",
   "language": "python",
   "name": "python3"
  },
  "language_info": {
   "codemirror_mode": {
    "name": "ipython",
    "version": 3
   },
   "file_extension": ".py",
   "mimetype": "text/x-python",
   "name": "python",
   "nbconvert_exporter": "python",
   "pygments_lexer": "ipython3",
   "version": "3.8.10"
  },
  "orig_nbformat": 4,
  "vscode": {
   "interpreter": {
    "hash": "916dbcbb3f70747c44a77c7bcd40155683ae19c65e1c03b4aa3499c5328201f1"
   }
  }
 },
 "nbformat": 4,
 "nbformat_minor": 2
}
