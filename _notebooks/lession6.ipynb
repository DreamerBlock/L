{
 "cells": [
  {
   "cell_type": "markdown",
   "metadata": {},
   "source": [
    "# Notes6\n",
    "> Defining algerithums\n",
    "\n",
    "- title: Notes6\n",
    "- toc: true\n",
    "- badges: false\n",
    "- categories: [lessons]"
   ]
  },
  {
   "cell_type": "markdown",
   "metadata": {},
   "source": [
    "Lesson 1 | Defining Algorithms\n",
    "What is an algorithm? An algorithm is a process or set of rules to be followed through CODE. There are set limitations, this is what makes algorithms fun, you can your imagination and create whatever you wan with your own instructions!\n",
    "\n",
    "Algorithms can be written in different ways and still accomplish the same tasks\n",
    "\n",
    "Algorithms that appear similar can yield different side effects or results.\n",
    "\n",
    "Some conditional statements can be written as the same as Boolean expressions (VICE VERSA)\n",
    "\n",
    "Different algorithms can be developed or use to solve the same problem."
   ]
  },
  {
   "cell_type": "markdown",
   "metadata": {},
   "source": [
    "Algoritum is just a set of instructions"
   ]
  },
  {
   "cell_type": "code",
   "execution_count": 6,
   "metadata": {},
   "outputs": [
    {
     "name": "stdout",
     "output_type": "stream",
     "text": [
      "It's too hot outside!\n"
     ]
    }
   ],
   "source": [
    "temp = int(input(\"Select a temperature from 0 to 99 degrees F\"))\n",
    "if (temp >= 90):\n",
    "    print(\"It's too hot outside!\")\n",
    "else:\n",
    "    if (temp >= 65):\n",
    "        print(\"Sure I will play outside!\")\n",
    "    else: \n",
    "        print(\"It is too cold outside!\")\n",
    "# Input 54 and then 95, what do you notice?"
   ]
  },
  {
   "cell_type": "code",
   "execution_count": 19,
   "metadata": {},
   "outputs": [
    {
     "name": "stdout",
     "output_type": "stream",
     "text": [
      "I'll get frostbite!\n"
     ]
    }
   ],
   "source": [
    "temp = int(input(\"Select a temperature from 0 to 99 degrees F\"))\n",
    "if (temp >= 27000000):\n",
    "    print(\"Its hotter than the core of the sun!\")\n",
    "elif (temp >= 212):\n",
    "    print(\"IM MELTING!!!!\")\n",
    "elif (temp >= 90):\n",
    "    print(\"It's too hot outside!\")\n",
    "elif (temp >= 65):\n",
    "    print(\"Sure I will play outside!\")\n",
    "elif (temp >= -30):\n",
    "    print(\"It is too cold outside!\")\n",
    "elif (temp < -30):\n",
    "    print(\"I'll get frostbite!\")\n",
    "    # Input 54 and then Input 95, what do you notice?"
   ]
  },
  {
   "cell_type": "code",
   "execution_count": 14,
   "metadata": {},
   "outputs": [
    {
     "name": "stdout",
     "output_type": "stream",
     "text": [
      "True\n"
     ]
    }
   ],
   "source": [
    "IsHoliday = False\n",
    "IsWeekday = True\n",
    "if IsHoliday:\n",
    "    driveWork = True\n",
    "else: \n",
    "    if IsWeekday: \n",
    "        driveWork = True\n",
    "    else: \n",
    "        driveWork = False\n",
    "print(driveWork)"
   ]
  },
  {
   "cell_type": "markdown",
   "metadata": {},
   "source": [
    "Selection:\n",
    "\n",
    "A process used in algorithms where a conditional if-statement leads to one of two outcomes\n",
    "\n",
    "Outcome 1: if the conditional statement is true, something will happen\n",
    "\n",
    "Outcome 2: if the conditional statement is false, something else will happen\n",
    "\n",
    "Ex: see Example A"
   ]
  },
  {
   "cell_type": "markdown",
   "metadata": {},
   "source": [
    "Iteration\n",
    "\n",
    "A process used in algorithms that allows certain things to happen until a condition is satisfied\n",
    "\n",
    "Once the condition is satisfied, then an outcome is produced\n",
    "\n",
    "This can take the form of a for-loop, while-loop, and/or if-statement"
   ]
  },
  {
   "cell_type": "code",
   "execution_count": 22,
   "metadata": {},
   "outputs": [
    {
     "name": "stdout",
     "output_type": "stream",
     "text": [
      "3.99\n"
     ]
    }
   ],
   "source": [
    "food = [\"apple\", \"banna\", \"orange\"]\n",
    "price = [\"1.99\", \"2.99\", \"3.99\"]\n",
    "choice = input()\n",
    "l = 0\n",
    "for i in food:\n",
    "    l = 1 + 1\n",
    "    if i == choice:\n",
    "        print(price[l])"
   ]
  },
  {
   "cell_type": "code",
   "execution_count": 24,
   "metadata": {},
   "outputs": [
    {
     "name": "stdout",
     "output_type": "stream",
     "text": [
      "choose value for x\n",
      "the number is odd\n"
     ]
    }
   ],
   "source": [
    "print(\"choose value for x\")\n",
    "\n",
    "varx=int(input(\"Enter any positive Integer\"))\n",
    "\n",
    "if (varx %2 == 0):\n",
    "    print(\"the number is even\")\n",
    "\n",
    "else:\n",
    "    print(\"the number is odd\")\n",
    "# Run this cell to see how it works"
   ]
  },
  {
   "cell_type": "code",
   "execution_count": 30,
   "metadata": {},
   "outputs": [
    {
     "name": "stdout",
     "output_type": "stream",
     "text": [
      "choose value for x\n",
      "7\n",
      "22\n",
      "11.0\n",
      "34.0\n",
      "17.0\n",
      "52.0\n",
      "26.0\n",
      "13.0\n",
      "40.0\n",
      "20.0\n",
      "10.0\n",
      "5.0\n",
      "16.0\n",
      "8.0\n",
      "4.0\n",
      "2.0\n",
      "1.0\n",
      "1.0\n"
     ]
    }
   ],
   "source": [
    "print(\"choose value for x\")\n",
    "\n",
    "varx=int(input(\"Enter any positive Integer\"))\n",
    "\n",
    "print(varx)\n",
    "while varx != 1:\n",
    "\n",
    "    if (varx %2 == 0):\n",
    "        varx = varx/2       \n",
    "        print(varx)               # add Display\n",
    "    else:\n",
    "        varx = varx * 3 + 1      \n",
    "        print(varx)               # add Display\n",
    "print(varx)  "
   ]
  },
  {
   "cell_type": "markdown",
   "metadata": {},
   "source": [
    "Dont remake everyting reuse what you have."
   ]
  },
  {
   "cell_type": "markdown",
   "metadata": {},
   "source": [
    "What is Binary Search?\n",
    "\n",
    "Binary search is a search algorithm that finds the position of a target value within a sorted array. Binary search compares the target value to the middle element of the array.\n",
    "An algorithm for iterating to find a value inside a data set"
   ]
  },
  {
   "cell_type": "code",
   "execution_count": 40,
   "metadata": {},
   "outputs": [
    {
     "ename": "TypeError",
     "evalue": "search() missing 1 required positional argument: 'x'",
     "output_type": "error",
     "traceback": [
      "\u001b[0;31m---------------------------------------------------------------------------\u001b[0m",
      "\u001b[0;31mTypeError\u001b[0m                                 Traceback (most recent call last)",
      "\u001b[1;32mUntitled-1.ipynb Cell 14\u001b[0m in \u001b[0;36m<cell line: 11>\u001b[0;34m()\u001b[0m\n\u001b[1;32m      <a href='vscode-notebook-cell:Untitled-1.ipynb?jupyter-notebook#X14sdW50aXRsZWQ%3D?line=6'>7</a>\u001b[0m     (\u001b[39mlist\u001b[39m[\u001b[39m-\u001b[39m\u001b[39m1\u001b[39m] \u001b[39m-\u001b[39m \u001b[39mlist\u001b[39m[\u001b[39m0\u001b[39m])\u001b[39m/\u001b[39m\u001b[39m2\u001b[39m\n\u001b[1;32m      <a href='vscode-notebook-cell:Untitled-1.ipynb?jupyter-notebook#X14sdW50aXRsZWQ%3D?line=8'>9</a>\u001b[0m     \u001b[39mprint\u001b[39m(\u001b[39mlist\u001b[39m)\n\u001b[0;32m---> <a href='vscode-notebook-cell:Untitled-1.ipynb?jupyter-notebook#X14sdW50aXRsZWQ%3D?line=10'>11</a>\u001b[0m search(numbers)\n",
      "\u001b[0;31mTypeError\u001b[0m: search() missing 1 required positional argument: 'x'"
     ]
    }
   ],
   "source": [
    "numbers = [7,1,12,19,21,16,30,10,6,5]\n",
    "\n",
    "\n",
    "\n",
    "def search(list, x):\n",
    "    list = sorted(list)\n",
    "    med = (list[-1] - list[0])/2\n",
    "    \n",
    "    print(list)\n",
    "\n",
    "search(numbers)\n"
   ]
  }
 ],
 "metadata": {
  "kernelspec": {
   "display_name": "Python 3.9.12 ('base')",
   "language": "python",
   "name": "python3"
  },
  "language_info": {
   "codemirror_mode": {
    "name": "ipython",
    "version": 3
   },
   "file_extension": ".py",
   "mimetype": "text/x-python",
   "name": "python",
   "nbconvert_exporter": "python",
   "pygments_lexer": "ipython3",
   "version": "3.9.12"
  },
  "orig_nbformat": 4,
  "vscode": {
   "interpreter": {
    "hash": "7db10fc21d67df096b214a5560f6e414eb656c6bf6780c69fceea598ce9e7a7f"
   }
  }
 },
 "nbformat": 4,
 "nbformat_minor": 2
}
