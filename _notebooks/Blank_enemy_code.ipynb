{
 "cells": [
  {
   "cell_type": "code",
   "execution_count": null,
   "metadata": {},
   "outputs": [],
   "source": [
    "#Blank 2.0\n",
    "global name_replace\n",
    "name_replace = True\n",
    "global name_replace_health\n",
    "name_replace_health = 1\n",
    "def name_replace():\n",
    "  #Blank1.0\n",
    "  enemy_alive = True\n",
    "  enemy_name = \"name_replace\"\n",
    "  lower_dm = 1\n",
    "  uper_dm = 2\n",
    "  enemy_EXP = 1000\n",
    "  #Global verables v\n",
    "  global name_replace\n",
    "  global damage\n",
    "  global mana\n",
    "  global health\n",
    "  global Dead\n",
    "  global users_turn\n",
    "  global health_cap\n",
    "  global mana_cap\n",
    "  global EXP\n",
    "  global enemy_crit\n",
    "  global print_crit\n",
    "  global name_replace_health\n",
    "  #Kills the player if they are less then 0 health\n",
    "  if health <= 0:\n",
    "      Dead = True\n",
    "      users_turn = False\n",
    "  clear_output(True)\n",
    "  #Asky art print v\n",
    "  print()\n",
    "  name_replace_health = name_replace_health - damage\n",
    "  #Displays your damage v\n",
    "  print(\"You did: \", damage, \"damage\")\n",
    "  if print_crit == True:\n",
    "    print(\"You got a critical hit!!!!\")\n",
    "    print_crit = False\n",
    "  damage = 0\n",
    "  if name_replace_health >= 1:\n",
    "    enemy_alive = True\n",
    "  else:\n",
    "    clear_output(True)\n",
    "    print(\"You have defeted the enemy!\")\n",
    "    EXP = EXP + enemy_EXP\n",
    "    damage = 1\n",
    "    enemy_alive = False\n",
    "  dm = random.randrange(lower_dm,uper_dm)\n",
    "  if enemy_crit == True:\n",
    "    dm = dm * 2\n",
    "    print(\"You got crit!!!!\")\n",
    "    enemy_crit = False\n",
    "  print(\"You took: \", dm, \"damage\")\n",
    "  health = health - dm\n",
    "  print(enemy_name,\":\",name_replace_health , \"Your HP:\", health,\"/\",health_cap, \"Your Mana:\", mana,\"/\",mana_cap)\n",
    "  if damage == 0 and Dead == False:\n",
    "    Attack()\n",
    "  damage = 0\n",
    "  if enemy_alive == False:\n",
    "    name_replace = False\n",
    "    Map()"
   ]
  }
 ],
 "metadata": {
  "kernelspec": {
   "display_name": "Python 3.8.10 64-bit",
   "language": "python",
   "name": "python3"
  },
  "language_info": {
   "name": "python",
   "version": "3.8.10"
  },
  "orig_nbformat": 4,
  "vscode": {
   "interpreter": {
    "hash": "916dbcbb3f70747c44a77c7bcd40155683ae19c65e1c03b4aa3499c5328201f1"
   }
  }
 },
 "nbformat": 4,
 "nbformat_minor": 2
}
